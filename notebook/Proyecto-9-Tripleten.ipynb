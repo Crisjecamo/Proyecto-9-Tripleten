{
 "cells": [
  {
   "cell_type": "markdown",
   "metadata": {
    "id": "9d9n2JF5tWYl"
   },
   "source": [
    "# Introduccion:\n",
    "El objetivo de este proyecto es doble. En la primera parte, nos enfocamos en priorizar diversas hipótesis utilizando dos frameworks de evaluación: ICE (Impacto, Confianza, Esfuerzo) y RICE (Alcance, Impacto, Confianza, Esfuerzo). Estas hipótesis han sido formuladas para mejorar diferentes aspectos del negocio, desde la experiencia del usuario hasta las estrategias de marketing. Cada hipótesis se valora en función de su potencial impacto, confianza en su efectividad, y el esfuerzo necesario para implementarla. Utilizaremos tanto el método ICE como RICE para determinar cuáles hipótesis deben ser probadas primero y cómo cambian las prioridades cuando se tiene en cuenta el alcance potencial de cada hipótesis.\n",
    "\n",
    "En la segunda parte del proyecto, llevaremos a cabo un análisis detallado de los resultados de un test A/B, que se ha diseñado para validar las hipótesis priorizadas. Este test se basa en datos reales de pedidos y visitas de usuarios, donde se mide el impacto de diferentes cambios propuestos. Analizaremos diversas métricas clave como los ingresos acumulados, el tamaño promedio de los pedidos, y la tasa de conversión por grupo de test, entre otras. También se realizarán análisis estadísticos para determinar la significancia de las diferencias observadas entre los grupos A y B.\n",
    "\n",
    "**El proceso incluye:**\n",
    "\n",
    "**Priorizar Hipótesis:**\n",
    "\n",
    "* Aplicar los frameworks ICE y RICE para priorizar las hipótesis en función de su impacto estimado, alcance y recursos necesarios.\n",
    "* Comparar cómo cambian las prioridades entre los frameworks y justificar las diferencias.\n",
    "\n",
    "**Análisis del Test A/B:**\n",
    "\n",
    "* Visualizar y comparar ingresos acumulados, tamaños de pedido promedio y tasas de conversión entre los grupos A y B.\n",
    "* Identificar patrones significativos y anomalías en los datos.\n",
    "* Realizar pruebas estadísticas para evaluar la significancia de los resultados obtenidos.\n",
    "\n",
    "**Preprocesamiento de Datos:** Antes de proceder con los análisis, es fundamental realizar un preprocesamiento exhaustivo de los datos. Este paso garantiza la calidad y fiabilidad de los resultados, eliminando posibles errores o inconsistencias, como visitantes que participaron en ambos grupos del test A/B, y otros problemas que pudieran sesgar los resultados.\n",
    "\n",
    "**Conclusión:** Al final del proyecto, se formularán recomendaciones basadas en los hallazgos del test A/B, considerando si alguno de los grupos debe ser considerado líder, si no hay diferencias significativas entre los grupos, o si es necesario continuar con más pruebas. Este enfoque basado en datos permitirá a la tienda en línea tomar decisiones estratégicas más informadas, optimizando así sus estrategias de marketing y maximizando los ingresos.\n",
    "\n",
    "## Descripción de los datos\n",
    "\n",
    "Datos utilizados en la primera parte del proyecto\n",
    "\n",
    "/datasets/hypotheses_us.csv\n",
    "\n",
    "* Hypotheses: breves descripciones de las hipótesis\n",
    "* Reach: alcance del usuario, en una escala del uno a diez\n",
    "* Impact: impacto en los usuarios, en una escala del uno al diez\n",
    "* Confidence: confianza en la hipótesis, en una escala del uno al diez\n",
    "* Effort: los recursos necesarios para probar una hipótesis, en una escala del uno al diez. Cuanto mayor sea el valor Effort, más recursos requiere la prueba.\n",
    "Datos utilizados en la segunda parte del proyecto\n",
    "\n",
    " /datasets/orders_us.csv\n",
    "\n",
    "* transactionId: identificador de pedido\n",
    "* visitorId: identificador del usuario que realizó el pedido\n",
    "* date: fecha del pedido\n",
    "* revenue: ingresos del pedido\n",
    "* group: el grupo del test A/B al que pertenece el usuario\n",
    "\n",
    "/datasets/visits_us.csv\n",
    "\n",
    "* date: la fecha\n",
    "* group: grupo del test A/B\n",
    "* visits: el número de visitas en la fecha especificada para el grupo de test A/B especificado\n"
   ]
  },
  {
   "cell_type": "markdown",
   "metadata": {},
   "source": [
    "<div class=\"alert alert-block alert-success\">\n",
    "<b>Comentario del revisor (1ra Iteracion)</b> <a class=“tocSkip”></a>\n",
    "\n",
    "Excelente! Siempre trata de incluir esta sección introductoria en tus proyectos para que sea más fácil entender el porque del ánalisis \n",
    "</div>"
   ]
  },
  {
   "cell_type": "code",
   "execution_count": 1,
   "metadata": {
    "id": "8gH0Mivt_FBh"
   },
   "outputs": [],
   "source": [
    "import pandas as pd\n",
    "import numpy as np\n",
    "import datetime as dt\n",
    "import matplotlib.pyplot as plt\n",
    "import scipy.stats as stats"
   ]
  },
  {
   "cell_type": "code",
   "execution_count": 33,
   "metadata": {
    "id": "UKBDrQW1_soL"
   },
   "outputs": [
    {
     "data": {
      "text/html": [
       "<div>\n",
       "<style scoped>\n",
       "    .dataframe tbody tr th:only-of-type {\n",
       "        vertical-align: middle;\n",
       "    }\n",
       "\n",
       "    .dataframe tbody tr th {\n",
       "        vertical-align: top;\n",
       "    }\n",
       "\n",
       "    .dataframe thead th {\n",
       "        text-align: right;\n",
       "    }\n",
       "</style>\n",
       "<table border=\"1\" class=\"dataframe\">\n",
       "  <thead>\n",
       "    <tr style=\"text-align: right;\">\n",
       "      <th></th>\n",
       "      <th>Hypothesis;Reach;Impact;Confidence;Effort</th>\n",
       "    </tr>\n",
       "  </thead>\n",
       "  <tbody>\n",
       "    <tr>\n",
       "      <th>0</th>\n",
       "      <td>Add two new channels for attracting traffic. T...</td>\n",
       "    </tr>\n",
       "    <tr>\n",
       "      <th>1</th>\n",
       "      <td>Launch your own delivery service. This will sh...</td>\n",
       "    </tr>\n",
       "    <tr>\n",
       "      <th>2</th>\n",
       "      <td>Add product recommendation blocks to the store...</td>\n",
       "    </tr>\n",
       "    <tr>\n",
       "      <th>3</th>\n",
       "      <td>Change the category structure. This will incre...</td>\n",
       "    </tr>\n",
       "    <tr>\n",
       "      <th>4</th>\n",
       "      <td>Change the background color on the main page. ...</td>\n",
       "    </tr>\n",
       "  </tbody>\n",
       "</table>\n",
       "</div>"
      ],
      "text/plain": [
       "           Hypothesis;Reach;Impact;Confidence;Effort\n",
       "0  Add two new channels for attracting traffic. T...\n",
       "1  Launch your own delivery service. This will sh...\n",
       "2  Add product recommendation blocks to the store...\n",
       "3  Change the category structure. This will incre...\n",
       "4  Change the background color on the main page. ..."
      ]
     },
     "execution_count": 33,
     "metadata": {},
     "output_type": "execute_result"
    }
   ],
   "source": [
    "hypotheses = pd.read_csv('/datasets/hypotheses_us.csv', sep=';')\n",
    "orders= pd.read_csv('/datasets/orders_us.csv')\n",
    "visits= pd.read_csv('/datasets/visits_us.csv')\n",
    "hypotheses.head()"
   ]
  },
  {
   "cell_type": "markdown",
   "metadata": {
    "id": "tHHhQuKWs81b"
   },
   "source": [
    "# Dataframe Hypotheses"
   ]
  },
  {
   "cell_type": "code",
   "execution_count": 3,
   "metadata": {
    "colab": {
     "base_uri": "https://localhost:8080/",
     "height": 575
    },
    "id": "UpisvqmpAxwa",
    "outputId": "6c67542b-cc5f-4a94-c751-33523906d219"
   },
   "outputs": [
    {
     "name": "stdout",
     "output_type": "stream",
     "text": [
      "<class 'pandas.core.frame.DataFrame'>\n",
      "RangeIndex: 9 entries, 0 to 8\n",
      "Data columns (total 5 columns):\n",
      " #   Column      Non-Null Count  Dtype \n",
      "---  ------      --------------  ----- \n",
      " 0   Hypothesis  9 non-null      object\n",
      " 1   Reach       9 non-null      int64 \n",
      " 2   Impact      9 non-null      int64 \n",
      " 3   Confidence  9 non-null      int64 \n",
      " 4   Effort      9 non-null      int64 \n",
      "dtypes: int64(4), object(1)\n",
      "memory usage: 488.0+ bytes\n",
      "\n",
      "\n"
     ]
    },
    {
     "data": {
      "text/html": [
       "<div>\n",
       "<style scoped>\n",
       "    .dataframe tbody tr th:only-of-type {\n",
       "        vertical-align: middle;\n",
       "    }\n",
       "\n",
       "    .dataframe tbody tr th {\n",
       "        vertical-align: top;\n",
       "    }\n",
       "\n",
       "    .dataframe thead th {\n",
       "        text-align: right;\n",
       "    }\n",
       "</style>\n",
       "<table border=\"1\" class=\"dataframe\">\n",
       "  <thead>\n",
       "    <tr style=\"text-align: right;\">\n",
       "      <th></th>\n",
       "      <th>Hypothesis</th>\n",
       "      <th>Reach</th>\n",
       "      <th>Impact</th>\n",
       "      <th>Confidence</th>\n",
       "      <th>Effort</th>\n",
       "    </tr>\n",
       "  </thead>\n",
       "  <tbody>\n",
       "    <tr>\n",
       "      <th>0</th>\n",
       "      <td>Add two new channels for attracting traffic. T...</td>\n",
       "      <td>3</td>\n",
       "      <td>10</td>\n",
       "      <td>8</td>\n",
       "      <td>6</td>\n",
       "    </tr>\n",
       "    <tr>\n",
       "      <th>1</th>\n",
       "      <td>Launch your own delivery service. This will sh...</td>\n",
       "      <td>2</td>\n",
       "      <td>5</td>\n",
       "      <td>4</td>\n",
       "      <td>10</td>\n",
       "    </tr>\n",
       "    <tr>\n",
       "      <th>2</th>\n",
       "      <td>Add product recommendation blocks to the store...</td>\n",
       "      <td>8</td>\n",
       "      <td>3</td>\n",
       "      <td>7</td>\n",
       "      <td>3</td>\n",
       "    </tr>\n",
       "    <tr>\n",
       "      <th>3</th>\n",
       "      <td>Change the category structure. This will incre...</td>\n",
       "      <td>8</td>\n",
       "      <td>3</td>\n",
       "      <td>3</td>\n",
       "      <td>8</td>\n",
       "    </tr>\n",
       "    <tr>\n",
       "      <th>4</th>\n",
       "      <td>Change the background color on the main page. ...</td>\n",
       "      <td>3</td>\n",
       "      <td>1</td>\n",
       "      <td>1</td>\n",
       "      <td>1</td>\n",
       "    </tr>\n",
       "    <tr>\n",
       "      <th>5</th>\n",
       "      <td>Add a customer review page. This will increase...</td>\n",
       "      <td>3</td>\n",
       "      <td>2</td>\n",
       "      <td>2</td>\n",
       "      <td>3</td>\n",
       "    </tr>\n",
       "    <tr>\n",
       "      <th>6</th>\n",
       "      <td>Show banners with current offers and sales on ...</td>\n",
       "      <td>5</td>\n",
       "      <td>3</td>\n",
       "      <td>8</td>\n",
       "      <td>3</td>\n",
       "    </tr>\n",
       "    <tr>\n",
       "      <th>7</th>\n",
       "      <td>Add a subscription form to all the main pages....</td>\n",
       "      <td>10</td>\n",
       "      <td>7</td>\n",
       "      <td>8</td>\n",
       "      <td>5</td>\n",
       "    </tr>\n",
       "    <tr>\n",
       "      <th>8</th>\n",
       "      <td>Launch a promotion that gives users discounts ...</td>\n",
       "      <td>1</td>\n",
       "      <td>9</td>\n",
       "      <td>9</td>\n",
       "      <td>5</td>\n",
       "    </tr>\n",
       "  </tbody>\n",
       "</table>\n",
       "</div>"
      ],
      "text/plain": [
       "                                          Hypothesis  Reach  Impact  \\\n",
       "0  Add two new channels for attracting traffic. T...      3      10   \n",
       "1  Launch your own delivery service. This will sh...      2       5   \n",
       "2  Add product recommendation blocks to the store...      8       3   \n",
       "3  Change the category structure. This will incre...      8       3   \n",
       "4  Change the background color on the main page. ...      3       1   \n",
       "5  Add a customer review page. This will increase...      3       2   \n",
       "6  Show banners with current offers and sales on ...      5       3   \n",
       "7  Add a subscription form to all the main pages....     10       7   \n",
       "8  Launch a promotion that gives users discounts ...      1       9   \n",
       "\n",
       "   Confidence  Effort  \n",
       "0           8       6  \n",
       "1           4      10  \n",
       "2           7       3  \n",
       "3           3       8  \n",
       "4           1       1  \n",
       "5           2       3  \n",
       "6           8       3  \n",
       "7           8       5  \n",
       "8           9       5  "
      ]
     },
     "execution_count": 3,
     "metadata": {},
     "output_type": "execute_result"
    }
   ],
   "source": [
    "hypotheses.info()\n",
    "print()\n",
    "print()\n",
    "hypotheses.head(10)"
   ]
  },
  {
   "cell_type": "markdown",
   "metadata": {
    "id": "pad1BPqstHTz"
   },
   "source": [
    "# Dataframe Orders"
   ]
  },
  {
   "cell_type": "code",
   "execution_count": 4,
   "metadata": {
    "colab": {
     "base_uri": "https://localhost:8080/",
     "height": 682
    },
    "id": "dy0yOzkJA0eU",
    "outputId": "321c3878-be07-4a83-ad9e-4eeeeedb5a0f"
   },
   "outputs": [
    {
     "name": "stdout",
     "output_type": "stream",
     "text": [
      "<class 'pandas.core.frame.DataFrame'>\n",
      "RangeIndex: 1197 entries, 0 to 1196\n",
      "Data columns (total 5 columns):\n",
      " #   Column         Non-Null Count  Dtype  \n",
      "---  ------         --------------  -----  \n",
      " 0   transactionId  1197 non-null   int64  \n",
      " 1   visitorId      1197 non-null   int64  \n",
      " 2   date           1197 non-null   object \n",
      " 3   revenue        1197 non-null   float64\n",
      " 4   group          1197 non-null   object \n",
      "dtypes: float64(1), int64(2), object(2)\n",
      "memory usage: 46.9+ KB\n",
      "\n",
      "\n",
      "   transactionId   visitorId       date  revenue group\n",
      "0     3667963787  3312258926 2019-08-15     30.4     B\n",
      "1     2804400009  3642806036 2019-08-15     15.2     B\n",
      "2     2961555356  4069496402 2019-08-15     10.2     A\n",
      "3     3797467345  1196621759 2019-08-15    155.1     B\n",
      "4     2282983706  2322279887 2019-08-15     40.5     B\n",
      "\n",
      "\n"
     ]
    },
    {
     "data": {
      "text/html": [
       "<div>\n",
       "<style scoped>\n",
       "    .dataframe tbody tr th:only-of-type {\n",
       "        vertical-align: middle;\n",
       "    }\n",
       "\n",
       "    .dataframe tbody tr th {\n",
       "        vertical-align: top;\n",
       "    }\n",
       "\n",
       "    .dataframe thead th {\n",
       "        text-align: right;\n",
       "    }\n",
       "</style>\n",
       "<table border=\"1\" class=\"dataframe\">\n",
       "  <thead>\n",
       "    <tr style=\"text-align: right;\">\n",
       "      <th></th>\n",
       "      <th>transactionId</th>\n",
       "      <th>visitorId</th>\n",
       "      <th>revenue</th>\n",
       "    </tr>\n",
       "  </thead>\n",
       "  <tbody>\n",
       "    <tr>\n",
       "      <th>count</th>\n",
       "      <td>1.197000e+03</td>\n",
       "      <td>1.197000e+03</td>\n",
       "      <td>1197.000000</td>\n",
       "    </tr>\n",
       "    <tr>\n",
       "      <th>mean</th>\n",
       "      <td>2.155621e+09</td>\n",
       "      <td>2.165960e+09</td>\n",
       "      <td>131.491646</td>\n",
       "    </tr>\n",
       "    <tr>\n",
       "      <th>std</th>\n",
       "      <td>1.229085e+09</td>\n",
       "      <td>1.236014e+09</td>\n",
       "      <td>603.004729</td>\n",
       "    </tr>\n",
       "    <tr>\n",
       "      <th>min</th>\n",
       "      <td>1.062393e+06</td>\n",
       "      <td>5.114589e+06</td>\n",
       "      <td>5.000000</td>\n",
       "    </tr>\n",
       "    <tr>\n",
       "      <th>25%</th>\n",
       "      <td>1.166776e+09</td>\n",
       "      <td>1.111826e+09</td>\n",
       "      <td>20.800000</td>\n",
       "    </tr>\n",
       "    <tr>\n",
       "      <th>50%</th>\n",
       "      <td>2.145194e+09</td>\n",
       "      <td>2.217985e+09</td>\n",
       "      <td>50.200000</td>\n",
       "    </tr>\n",
       "    <tr>\n",
       "      <th>75%</th>\n",
       "      <td>3.237740e+09</td>\n",
       "      <td>3.177606e+09</td>\n",
       "      <td>130.400000</td>\n",
       "    </tr>\n",
       "    <tr>\n",
       "      <th>max</th>\n",
       "      <td>4.293856e+09</td>\n",
       "      <td>4.283872e+09</td>\n",
       "      <td>19920.400000</td>\n",
       "    </tr>\n",
       "  </tbody>\n",
       "</table>\n",
       "</div>"
      ],
      "text/plain": [
       "       transactionId     visitorId       revenue\n",
       "count   1.197000e+03  1.197000e+03   1197.000000\n",
       "mean    2.155621e+09  2.165960e+09    131.491646\n",
       "std     1.229085e+09  1.236014e+09    603.004729\n",
       "min     1.062393e+06  5.114589e+06      5.000000\n",
       "25%     1.166776e+09  1.111826e+09     20.800000\n",
       "50%     2.145194e+09  2.217985e+09     50.200000\n",
       "75%     3.237740e+09  3.177606e+09    130.400000\n",
       "max     4.293856e+09  4.283872e+09  19920.400000"
      ]
     },
     "execution_count": 4,
     "metadata": {},
     "output_type": "execute_result"
    }
   ],
   "source": [
    "orders.info()\n",
    "print()\n",
    "print()\n",
    "#le damos el formato correcto a la columna date\n",
    "orders['date'] = orders['date'].map(lambda x: dt.datetime.strptime(x, '%Y-%m-%d'))\n",
    "\n",
    "print(orders.head())\n",
    "print()\n",
    "print()\n",
    "orders.describe()"
   ]
  },
  {
   "cell_type": "markdown",
   "metadata": {
    "id": "ppPeeaMsn_bZ"
   },
   "source": [
    "### Observacion:\n",
    "podemos ver que cuanto a los datos tenemos una muestra de solo 1 mes que van desde el 2019-08-01 hasta el 2019-08-31, en cuanto a los ingresos tenemos presencia de una compra atipica de 19920.40 la media de compra ronda entre los 131.49 y el minimo de compra ronda entre los 5."
   ]
  },
  {
   "cell_type": "markdown",
   "metadata": {
    "id": "frpSqDvatLx_"
   },
   "source": [
    "# Dataframe Visits"
   ]
  },
  {
   "cell_type": "code",
   "execution_count": 5,
   "metadata": {
    "colab": {
     "base_uri": "https://localhost:8080/",
     "height": 543
    },
    "id": "W5tP56NTA-mc",
    "outputId": "60394888-f06d-4f89-c36d-c22374ee8680"
   },
   "outputs": [
    {
     "name": "stdout",
     "output_type": "stream",
     "text": [
      "<class 'pandas.core.frame.DataFrame'>\n",
      "RangeIndex: 62 entries, 0 to 61\n",
      "Data columns (total 3 columns):\n",
      " #   Column  Non-Null Count  Dtype \n",
      "---  ------  --------------  ----- \n",
      " 0   date    62 non-null     object\n",
      " 1   group   62 non-null     object\n",
      " 2   visits  62 non-null     int64 \n",
      "dtypes: int64(1), object(2)\n",
      "memory usage: 1.6+ KB\n",
      "\n",
      "\n",
      "\n",
      "\n"
     ]
    },
    {
     "data": {
      "text/html": [
       "<div>\n",
       "<style scoped>\n",
       "    .dataframe tbody tr th:only-of-type {\n",
       "        vertical-align: middle;\n",
       "    }\n",
       "\n",
       "    .dataframe tbody tr th {\n",
       "        vertical-align: top;\n",
       "    }\n",
       "\n",
       "    .dataframe thead th {\n",
       "        text-align: right;\n",
       "    }\n",
       "</style>\n",
       "<table border=\"1\" class=\"dataframe\">\n",
       "  <thead>\n",
       "    <tr style=\"text-align: right;\">\n",
       "      <th></th>\n",
       "      <th>visits</th>\n",
       "    </tr>\n",
       "  </thead>\n",
       "  <tbody>\n",
       "    <tr>\n",
       "      <th>count</th>\n",
       "      <td>62.000000</td>\n",
       "    </tr>\n",
       "    <tr>\n",
       "      <th>mean</th>\n",
       "      <td>607.290323</td>\n",
       "    </tr>\n",
       "    <tr>\n",
       "      <th>std</th>\n",
       "      <td>114.400560</td>\n",
       "    </tr>\n",
       "    <tr>\n",
       "      <th>min</th>\n",
       "      <td>361.000000</td>\n",
       "    </tr>\n",
       "    <tr>\n",
       "      <th>25%</th>\n",
       "      <td>534.000000</td>\n",
       "    </tr>\n",
       "    <tr>\n",
       "      <th>50%</th>\n",
       "      <td>624.500000</td>\n",
       "    </tr>\n",
       "    <tr>\n",
       "      <th>75%</th>\n",
       "      <td>710.500000</td>\n",
       "    </tr>\n",
       "    <tr>\n",
       "      <th>max</th>\n",
       "      <td>770.000000</td>\n",
       "    </tr>\n",
       "  </tbody>\n",
       "</table>\n",
       "</div>"
      ],
      "text/plain": [
       "           visits\n",
       "count   62.000000\n",
       "mean   607.290323\n",
       "std    114.400560\n",
       "min    361.000000\n",
       "25%    534.000000\n",
       "50%    624.500000\n",
       "75%    710.500000\n",
       "max    770.000000"
      ]
     },
     "execution_count": 5,
     "metadata": {},
     "output_type": "execute_result"
    }
   ],
   "source": [
    "visits.info()\n",
    "#le damos el formato correcto a la columna date\n",
    "visits['date'] = visits['date'].map(lambda x: dt.datetime.strptime(x, '%Y-%m-%d'))\n",
    "\n",
    "print()\n",
    "print()\n",
    "visits.head()\n",
    "print()\n",
    "print()\n",
    "visits.describe()"
   ]
  },
  {
   "cell_type": "markdown",
   "metadata": {
    "id": "YHHOqqEnpBBY"
   },
   "source": [
    "### Observacion:\n",
    "\n",
    "Podemos ver que tambien tenemos una muestra de datos de solo 1 mes como en el dataset anterior y la media de visitas diarias ronda en las 607. su maximo esta en las 770 visitas."
   ]
  },
  {
   "cell_type": "markdown",
   "metadata": {},
   "source": [
    "<div class=\"alert alert-block alert-success\">\n",
    "<b>Comentario del revisor (1ra Iteracion)</b> <a class=“tocSkip”></a>\n",
    "\n",
    "Buen trabajo con la revisión inicial de tus datos, siempre es importante entender con lo que trabajarás!\n",
    "</div>"
   ]
  },
  {
   "cell_type": "markdown",
   "metadata": {
    "id": "WartQ6l-JLfZ"
   },
   "source": [
    "# **Priorizar hipótesis**"
   ]
  },
  {
   "cell_type": "markdown",
   "metadata": {
    "id": "JfJWZF5FL5qI"
   },
   "source": [
    "## **Aplicamos el framework ICE para priorizar hipótesis. Las Ordenamos en orden descendente de prioridad**"
   ]
  },
  {
   "cell_type": "code",
   "execution_count": 6,
   "metadata": {
    "colab": {
     "base_uri": "https://localhost:8080/",
     "height": 332
    },
    "id": "cStKVHkXJZ2J",
    "outputId": "e2192bb8-f673-41d0-f821-8492bab1c194"
   },
   "outputs": [
    {
     "name": "stdout",
     "output_type": "stream",
     "text": [
      "                                          Hypothesis        ICE\n",
      "8  Launch a promotion that gives users discounts ...  16.200000\n",
      "0  Add two new channels for attracting traffic. T...  13.333333\n",
      "7  Add a subscription form to all the main pages....  11.200000\n",
      "6  Show banners with current offers and sales on ...   8.000000\n",
      "2  Add product recommendation blocks to the store...   7.000000\n",
      "1  Launch your own delivery service. This will sh...   2.000000\n",
      "5  Add a customer review page. This will increase...   1.333333\n",
      "3  Change the category structure. This will incre...   1.125000\n",
      "4  Change the background color on the main page. ...   1.000000\n"
     ]
    }
   ],
   "source": [
    "hypotheses['ICE']= (hypotheses['Impact'] * hypotheses['Confidence']) / hypotheses['Effort']\n",
    "\n",
    "print(hypotheses[['Hypothesis', 'ICE']].sort_values(by='ICE', ascending=False))"
   ]
  },
  {
   "cell_type": "markdown",
   "metadata": {
    "id": "2ppV92TkKr3L"
   },
   "source": [
    "### Observacion:\n",
    "\n",
    "En este caso solo tomamos las hipotesis que su ICE fuese mayor a 10 el ICE presenta con indice 8, 0, y 7 como las hipótesis más prometedoras"
   ]
  },
  {
   "cell_type": "markdown",
   "metadata": {
    "id": "urWY9fNvMCD4"
   },
   "source": [
    "## **Aplicamos el framework RICE para priorizar hipótesis. Las Ordenamos en orden descendente de prioridad.**"
   ]
  },
  {
   "cell_type": "code",
   "execution_count": 7,
   "metadata": {
    "colab": {
     "base_uri": "https://localhost:8080/",
     "height": 332
    },
    "id": "0fovWX6XKvsG",
    "outputId": "11bf2bea-cc9f-418b-f840-f02b1582cd7e"
   },
   "outputs": [
    {
     "data": {
      "text/html": [
       "<div>\n",
       "<style scoped>\n",
       "    .dataframe tbody tr th:only-of-type {\n",
       "        vertical-align: middle;\n",
       "    }\n",
       "\n",
       "    .dataframe tbody tr th {\n",
       "        vertical-align: top;\n",
       "    }\n",
       "\n",
       "    .dataframe thead th {\n",
       "        text-align: right;\n",
       "    }\n",
       "</style>\n",
       "<table border=\"1\" class=\"dataframe\">\n",
       "  <thead>\n",
       "    <tr style=\"text-align: right;\">\n",
       "      <th></th>\n",
       "      <th>Hypothesis</th>\n",
       "      <th>RICE</th>\n",
       "    </tr>\n",
       "  </thead>\n",
       "  <tbody>\n",
       "    <tr>\n",
       "      <th>7</th>\n",
       "      <td>Add a subscription form to all the main pages....</td>\n",
       "      <td>112.0</td>\n",
       "    </tr>\n",
       "    <tr>\n",
       "      <th>2</th>\n",
       "      <td>Add product recommendation blocks to the store...</td>\n",
       "      <td>56.0</td>\n",
       "    </tr>\n",
       "    <tr>\n",
       "      <th>0</th>\n",
       "      <td>Add two new channels for attracting traffic. T...</td>\n",
       "      <td>40.0</td>\n",
       "    </tr>\n",
       "    <tr>\n",
       "      <th>6</th>\n",
       "      <td>Show banners with current offers and sales on ...</td>\n",
       "      <td>40.0</td>\n",
       "    </tr>\n",
       "    <tr>\n",
       "      <th>8</th>\n",
       "      <td>Launch a promotion that gives users discounts ...</td>\n",
       "      <td>16.2</td>\n",
       "    </tr>\n",
       "    <tr>\n",
       "      <th>3</th>\n",
       "      <td>Change the category structure. This will incre...</td>\n",
       "      <td>9.0</td>\n",
       "    </tr>\n",
       "    <tr>\n",
       "      <th>1</th>\n",
       "      <td>Launch your own delivery service. This will sh...</td>\n",
       "      <td>4.0</td>\n",
       "    </tr>\n",
       "    <tr>\n",
       "      <th>5</th>\n",
       "      <td>Add a customer review page. This will increase...</td>\n",
       "      <td>4.0</td>\n",
       "    </tr>\n",
       "    <tr>\n",
       "      <th>4</th>\n",
       "      <td>Change the background color on the main page. ...</td>\n",
       "      <td>3.0</td>\n",
       "    </tr>\n",
       "  </tbody>\n",
       "</table>\n",
       "</div>"
      ],
      "text/plain": [
       "                                          Hypothesis   RICE\n",
       "7  Add a subscription form to all the main pages....  112.0\n",
       "2  Add product recommendation blocks to the store...   56.0\n",
       "0  Add two new channels for attracting traffic. T...   40.0\n",
       "6  Show banners with current offers and sales on ...   40.0\n",
       "8  Launch a promotion that gives users discounts ...   16.2\n",
       "3  Change the category structure. This will incre...    9.0\n",
       "1  Launch your own delivery service. This will sh...    4.0\n",
       "5  Add a customer review page. This will increase...    4.0\n",
       "4  Change the background color on the main page. ...    3.0"
      ]
     },
     "execution_count": 7,
     "metadata": {},
     "output_type": "execute_result"
    }
   ],
   "source": [
    "hypotheses['RICE']= (hypotheses['Reach'] * hypotheses['Impact'] * hypotheses['Confidence']) / hypotheses['Effort']\n",
    "\n",
    "hypotheses[['Hypothesis', 'RICE']].sort_values(by='RICE', ascending=False)"
   ]
  },
  {
   "cell_type": "markdown",
   "metadata": {
    "id": "IAaQWK8XOJzY"
   },
   "source": [
    "### Observacion:\n",
    "En este caso todo cambio debido al nivel de Reach de las hipotesis, las hipótesis más prometedoras ahora son la 7, 2, 0, 6 y 8. Sin embargo, esta vez, el número 7 ocupa el primer lugar. Esto se debe a que su parámetro Reach es 10, el numero 2 en el anterior estudio no era muy relevante en este caso ocupa la posicion numero 2 ya que su Reach es de 8, mientras que las otras hipótesis tienen valores más bajos."
   ]
  },
  {
   "cell_type": "code",
   "execution_count": 8,
   "metadata": {},
   "outputs": [
    {
     "data": {
      "image/png": "[encoded data removed]",
      "text/plain": [
       "<Figure size 1000x400 with 1 Axes>"
      ]
     },
     "metadata": {},
     "output_type": "display_data"
    }
   ],
   "source": [
    "hypotheses_ICE_RICE= hypotheses[['ICE', 'RICE']].sort_values(by=['RICE'], ascending=False)\n",
    "hypotheses_ICE_RICE.plot(ylabel='Puntuaciones', xlabel='Hypotesis', kind='bar', title='frameworks ICE y RICE para priorizar hipótesis', rot=1, figsize=[10, 4]) #Generamos la Visualizacion con el nuevo Dataframe 'group_month' \n",
    "plt.show()"
   ]
  },
  {
   "cell_type": "markdown",
   "metadata": {},
   "source": [
    "<div class=\"alert alert-block alert-success\">\n",
    "<b>Comentario del revisor (2da Iteracion)</b> <a class=“tocSkip”></a>\n",
    "\n",
    "Buen trabajo agregando la gráfica!\n",
    "</div>"
   ]
  },
  {
   "cell_type": "markdown",
   "metadata": {
    "id": "63qucvBVp4Jo"
   },
   "source": [
    "## **Encontramos usuarios que están en ambos grupos A y B**"
   ]
  },
  {
   "cell_type": "code",
   "execution_count": 9,
   "metadata": {
    "colab": {
     "base_uri": "https://localhost:8080/"
    },
    "id": "5rZv2GlwQWgh",
    "outputId": "6be88199-75af-411c-aadc-e8ba31973778"
   },
   "outputs": [
    {
     "name": "stdout",
     "output_type": "stream",
     "text": [
      "Usuarios en ambos grupos A y B: [4069496402  963407295  351125977 3234906277  199603092  237748145\n",
      " 3803269165 2038680547 2378935119 4256040402 2712142231    8300375\n",
      "  276558944  457167155 3062433592 1738359350 2458001652 2716752286\n",
      " 3891541246 1648269707 3656415546 2686716486 2954449915 2927087541\n",
      " 2579882178 3957174400 2780786433 3984495233  818047933 1668030113\n",
      " 3717692402 2044997962 1959144690 1294878855 1404934699 2587333274\n",
      " 3202540741 1333886533 2600415354 3951559397  393266494 3972127743\n",
      " 4120364173 4266935830 1230306981 1614305549  477780734 1602967004\n",
      " 1801183820 4186807279 3766097110 3941795274  471551937 1316129916\n",
      "  232979603 2654030115 3963646447 2949041841]\n",
      "\n",
      "Cantidad de usuarios en ambos grupos A y B: 58\n",
      "\n",
      "\n",
      "Total Datos Eliminados:  (181, 5)\n"
     ]
    }
   ],
   "source": [
    "# Encontrar usuarios que están en ambos grupos A y B\n",
    "users_in_both_groups = orders[orders.groupby('visitorId')['group'].transform('nunique') > 1]['visitorId'].unique()\n",
    "\n",
    "print('Usuarios en ambos grupos A y B:', users_in_both_groups)\n",
    "\n",
    "print('\\nCantidad de usuarios en ambos grupos A y B:', len(users_in_both_groups))\n",
    "print()\n",
    "print()\n",
    "#Verificamos cuantos datos en total seran eliminados\n",
    "print('Total Datos Eliminados: ', orders[orders['visitorId'].isin(users_in_both_groups)].shape)"
   ]
  },
  {
   "cell_type": "code",
   "execution_count": 10,
   "metadata": {
    "colab": {
     "base_uri": "https://localhost:8080/"
    },
    "id": "HbclPoQ-i7Y9",
    "outputId": "b4b2540c-cf53-46a3-ba4f-ed54a4c86aa1"
   },
   "outputs": [
    {
     "name": "stdout",
     "output_type": "stream",
     "text": [
      "<class 'pandas.core.frame.DataFrame'>\n",
      "Int64Index: 1016 entries, 0 to 1196\n",
      "Data columns (total 5 columns):\n",
      " #   Column         Non-Null Count  Dtype         \n",
      "---  ------         --------------  -----         \n",
      " 0   transactionId  1016 non-null   int64         \n",
      " 1   visitorId      1016 non-null   int64         \n",
      " 2   date           1016 non-null   datetime64[ns]\n",
      " 3   revenue        1016 non-null   float64       \n",
      " 4   group          1016 non-null   object        \n",
      "dtypes: datetime64[ns](1), float64(1), int64(2), object(1)\n",
      "memory usage: 47.6+ KB\n"
     ]
    }
   ],
   "source": [
    "#Se eliminan los datos con errores de grupos 181 datos en total\n",
    "orders= orders[~orders['visitorId'].isin(users_in_both_groups)]\n",
    "orders.info()"
   ]
  },
  {
   "cell_type": "code",
   "execution_count": 11,
   "metadata": {
    "colab": {
     "base_uri": "https://localhost:8080/"
    },
    "id": "M9N4DgzrlhLE",
    "outputId": "45c0480b-fb7c-444d-cb78-efd7dca28c09"
   },
   "outputs": [
    {
     "name": "stdout",
     "output_type": "stream",
     "text": [
      "Usuarios Unicos:  (973,)\n",
      "\n",
      "porcentaje de datos Eliminados:  15 %\n",
      "\n",
      "porcentaje de usuarios unicos Eliminados:  6 %\n"
     ]
    }
   ],
   "source": [
    "#Verificamos los usuarios unicos para saber que porcentaje de usuarios y date fue eliminada.\n",
    "print('Usuarios Unicos: ', orders['visitorId'].unique().shape)\n",
    "print()\n",
    "print('porcentaje de datos Eliminados: ', round((181*100)/1197), '%')\n",
    "print()\n",
    "print('porcentaje de usuarios unicos Eliminados: ', round((58*100)/973), '%')"
   ]
  },
  {
   "cell_type": "markdown",
   "metadata": {
    "id": "2rkS3Jo8mo49"
   },
   "source": [
    "### Observacion:\n",
    "Detectamos los datos de usuarios erroneos donde se registraron en ambos grupos y se procedio a realizar la eliminacion de los mismos ya que no hay forma en este caso de saber exactamente de que grupo realmente provienen. El porcentaje total de datos eliminados fue de un 15% el cual es un poco alto y el porcentaje total de usuarios unicos eliminados es de 6%."
   ]
  },
  {
   "cell_type": "markdown",
   "metadata": {
    "id": "qiOLoTu6RVrC"
   },
   "source": [
    "# **Análisis de test A/B**"
   ]
  },
  {
   "cell_type": "markdown",
   "metadata": {
    "id": "RfydLd99Q4Gs"
   },
   "source": [
    "## **Representamos gráficamente el ingreso acumulado por grupo.**"
   ]
  },
  {
   "cell_type": "code",
   "execution_count": 12,
   "metadata": {
    "colab": {
     "base_uri": "https://localhost:8080/",
     "height": 206
    },
    "id": "WfS2D5HApZSo",
    "outputId": "aabd911e-528c-440d-dc1e-b8e91c457781"
   },
   "outputs": [
    {
     "data": {
      "text/html": [
       "<div>\n",
       "<style scoped>\n",
       "    .dataframe tbody tr th:only-of-type {\n",
       "        vertical-align: middle;\n",
       "    }\n",
       "\n",
       "    .dataframe tbody tr th {\n",
       "        vertical-align: top;\n",
       "    }\n",
       "\n",
       "    .dataframe thead th {\n",
       "        text-align: right;\n",
       "    }\n",
       "</style>\n",
       "<table border=\"1\" class=\"dataframe\">\n",
       "  <thead>\n",
       "    <tr style=\"text-align: right;\">\n",
       "      <th></th>\n",
       "      <th>date</th>\n",
       "      <th>group</th>\n",
       "      <th>orders</th>\n",
       "      <th>buyers</th>\n",
       "      <th>revenue</th>\n",
       "      <th>visitors</th>\n",
       "    </tr>\n",
       "  </thead>\n",
       "  <tbody>\n",
       "    <tr>\n",
       "      <th>0</th>\n",
       "      <td>2019-08-01</td>\n",
       "      <td>A</td>\n",
       "      <td>23</td>\n",
       "      <td>19</td>\n",
       "      <td>2266.6</td>\n",
       "      <td>719</td>\n",
       "    </tr>\n",
       "    <tr>\n",
       "      <th>1</th>\n",
       "      <td>2019-08-01</td>\n",
       "      <td>B</td>\n",
       "      <td>17</td>\n",
       "      <td>17</td>\n",
       "      <td>967.2</td>\n",
       "      <td>713</td>\n",
       "    </tr>\n",
       "    <tr>\n",
       "      <th>2</th>\n",
       "      <td>2019-08-02</td>\n",
       "      <td>A</td>\n",
       "      <td>42</td>\n",
       "      <td>36</td>\n",
       "      <td>3734.9</td>\n",
       "      <td>1338</td>\n",
       "    </tr>\n",
       "    <tr>\n",
       "      <th>3</th>\n",
       "      <td>2019-08-02</td>\n",
       "      <td>B</td>\n",
       "      <td>40</td>\n",
       "      <td>39</td>\n",
       "      <td>3535.3</td>\n",
       "      <td>1294</td>\n",
       "    </tr>\n",
       "    <tr>\n",
       "      <th>4</th>\n",
       "      <td>2019-08-03</td>\n",
       "      <td>A</td>\n",
       "      <td>66</td>\n",
       "      <td>60</td>\n",
       "      <td>5550.1</td>\n",
       "      <td>1845</td>\n",
       "    </tr>\n",
       "  </tbody>\n",
       "</table>\n",
       "</div>"
      ],
      "text/plain": [
       "        date group  orders  buyers  revenue  visitors\n",
       "0 2019-08-01     A      23      19   2266.6       719\n",
       "1 2019-08-01     B      17      17    967.2       713\n",
       "2 2019-08-02     A      42      36   3734.9      1338\n",
       "3 2019-08-02     B      40      39   3535.3      1294\n",
       "4 2019-08-03     A      66      60   5550.1      1845"
      ]
     },
     "execution_count": 12,
     "metadata": {},
     "output_type": "execute_result"
    }
   ],
   "source": [
    "# creamos una matriz con valores únicos de parejas fecha-grupo\n",
    "datesGroups = orders[['date', 'group']].drop_duplicates()\n",
    "\n",
    "# obtenemos los datos diarios acumulados agregados sobre los pedidos\n",
    "ordersAggregated = datesGroups.apply(lambda x: orders[np.logical_and(orders['date'] <= x['date'], orders['group'] == x['group'])].agg({'date' : 'max', 'group' : 'max', 'transactionId' : pd.Series.nunique, 'visitorId' : pd.Series.nunique, 'revenue' : 'sum'}), axis=1).sort_values(by=['date','group'])\n",
    "\n",
    "#obtenemos los datos diarios acumulados agregados sobre los visitantes\n",
    "visitsAggregated = datesGroups.apply(lambda x: visits[np.logical_and(visits['date'] <= x['date'], visits['group'] == x['group'])].agg({'date' : 'max', 'group' : 'max', 'visits' : 'sum'}), axis=1).sort_values(by=['date','group'])\n",
    "\n",
    "# fusionamos las dos tablas en una y da a sus columnas nombres descriptivos\n",
    "cumulativeData = ordersAggregated.merge(visitsAggregated, left_on=['date', 'group'], right_on=['date', 'group'])\n",
    "cumulativeData.columns = ['date', 'group', 'orders', 'buyers', 'revenue', 'visitors']\n",
    "\n",
    "cumulativeData.head()"
   ]
  },
  {
   "cell_type": "code",
   "execution_count": 13,
   "metadata": {
    "colab": {
     "base_uri": "https://localhost:8080/",
     "height": 535
    },
    "id": "zboZfkGG_J_O",
    "outputId": "ccf60ebc-38fc-4dfa-83d2-8833519a4382"
   },
   "outputs": [
    {
     "data": {
      "text/plain": [
       "<matplotlib.legend.Legend at 0x7f00efb7e460>"
      ]
     },
     "execution_count": 13,
     "metadata": {},
     "output_type": "execute_result"
    },
    {
     "data": {
      "image/png": "[encoded data removed]",
      "text/plain": [
       "<Figure size 640x480 with 1 Axes>"
      ]
     },
     "metadata": {},
     "output_type": "display_data"
    }
   ],
   "source": [
    "# DataFrame con pedidos acumulados e ingresos acumulados por día, grupo A\n",
    "cumulativeRevenueA = cumulativeData[cumulativeData['group']=='A'][['date','revenue', 'orders']]\n",
    "\n",
    "# DataFrame con pedidos acumulados e ingresos acumulados por día, grupo B\n",
    "cumulativeRevenueB = cumulativeData[cumulativeData['group']=='B'][['date','revenue', 'orders']]\n",
    "\n",
    "# Trazamos el gráfico de ingresos del grupo A\n",
    "plt.plot(cumulativeRevenueA['date'], cumulativeRevenueA['revenue'], label='A')\n",
    "\n",
    "# Trazamos el gráfico de ingresos del grupo B\n",
    "plt.plot(cumulativeRevenueB['date'], cumulativeRevenueB['revenue'], label='B')\n",
    "\n",
    "plt.xticks(rotation=90)\n",
    "plt.title('Ingresos acumulados por grupo')\n",
    "plt.legend()"
   ]
  },
  {
   "cell_type": "markdown",
   "metadata": {
    "id": "Rl3nUkiqBR0a"
   },
   "source": [
    "### Observacion:\n",
    "Los ingresos aumentan constantemente durante toda la prueba.\n",
    "\n",
    "Sin embargo, podemos ver que ambos grupos tienen picos en los ingresos en ciertos puntos, pero podemos observar que en el grupo B tienen un fuerte aumento el 2019-08-17 Esto puede implicar un aumento en el número de pedidos o la existencia de pedidos muy caros (atipicos) en la muestra."
   ]
  },
  {
   "cell_type": "markdown",
   "metadata": {},
   "source": [
    "<div class=\"alert alert-block alert-success\">\n",
    "<b>Comentario del revisor (1ra Iteracion)</b> <a class=“tocSkip”></a>\n",
    "\n",
    "Buen trabajo, la visualización deja ver la diferencia claramente\n",
    "</div>"
   ]
  },
  {
   "cell_type": "markdown",
   "metadata": {
    "id": "Mxu3Ss79CcCF"
   },
   "source": [
    "## **Representamos gráficamente el tamaño de pedido promedio acumulado por grupo.**"
   ]
  },
  {
   "cell_type": "code",
   "execution_count": 14,
   "metadata": {
    "colab": {
     "base_uri": "https://localhost:8080/",
     "height": 535
    },
    "id": "VtmN7j12CNP9",
    "outputId": "2844acd8-c332-4fa1-8f90-f9be8f1c1223"
   },
   "outputs": [
    {
     "data": {
      "text/plain": [
       "<matplotlib.legend.Legend at 0x7f00efafc640>"
      ]
     },
     "execution_count": 14,
     "metadata": {},
     "output_type": "execute_result"
    },
    {
     "data": {
      "image/png": "[encoded data removed]",
      "text/plain": [
       "<Figure size 640x480 with 1 Axes>"
      ]
     },
     "metadata": {},
     "output_type": "display_data"
    }
   ],
   "source": [
    "plt.plot(cumulativeRevenueA['date'], cumulativeRevenueA['revenue']/cumulativeRevenueA['orders'], label='A')\n",
    "plt.plot(cumulativeRevenueB['date'], cumulativeRevenueB['revenue']/cumulativeRevenueB['orders'], label='B')\n",
    "\n",
    "plt.xticks(rotation=90)\n",
    "plt.title('Tamaño de pedido promedio acumulado por grupo')\n",
    "plt.legend()"
   ]
  },
  {
   "cell_type": "markdown",
   "metadata": {
    "id": "zh821BUNFvOv"
   },
   "source": [
    "### Observacion:\n",
    "A primera vista, podemos observar lo siguiente:\n",
    "\n",
    "* Dos Tendencias Distintas: Tanto el grupo A como el B presentan patrones de comportamiento diferentes a lo largo del período analizado.\n",
    "* Grupo B: Pico Inicial y Descenso Gradual: El grupo B experimenta un crecimiento rápido al inicio del período, alcanzando un pico y luego descendiendo de manera más gradual.\n",
    "* Grupo A: Crecimiento Estable: El grupo A muestra un crecimiento más estable y menos pronunciado en comparación con el grupo B."
   ]
  },
  {
   "cell_type": "markdown",
   "metadata": {
    "id": "8s9MkjqkGO9Z"
   },
   "source": [
    "## Representamos gráficamente la diferencia relativa en el tamaño de pedido promedio acumulado para el grupo B en comparación con el grupo A."
   ]
  },
  {
   "cell_type": "code",
   "execution_count": 15,
   "metadata": {
    "colab": {
     "base_uri": "https://localhost:8080/",
     "height": 535
    },
    "id": "WD6yhs9hFxEW",
    "outputId": "b08b0006-a131-4f22-f0f6-f49325d77483"
   },
   "outputs": [
    {
     "data": {
      "text/plain": [
       "<matplotlib.lines.Line2D at 0x7f00efa185b0>"
      ]
     },
     "execution_count": 15,
     "metadata": {},
     "output_type": "execute_result"
    },
    {
     "data": {
      "image/png": "[encoded data removed]",
      "text/plain": [
       "<Figure size 640x480 with 1 Axes>"
      ]
     },
     "metadata": {},
     "output_type": "display_data"
    }
   ],
   "source": [
    "# reunimos los datos en un DataFrame\n",
    "mergedCumulativeRevenue = cumulativeRevenueA.merge(cumulativeRevenueB, left_on='date', right_on='date', how='left', suffixes=['A', 'B'])\n",
    "\n",
    "# trazamos un gráfico de diferencia relativa para los tamaños de compra promedio\n",
    "plt.plot(mergedCumulativeRevenue['date'], (mergedCumulativeRevenue['revenueB']/mergedCumulativeRevenue['ordersB'])/(mergedCumulativeRevenue['revenueA']/mergedCumulativeRevenue['ordersA'])-1)\n",
    "\n",
    "# agregamos el eje X\n",
    "plt.xticks(rotation=90)\n",
    "plt.title('Diferencia relativa en el tamaño de pedido promedio acumulado: B vs A')\n",
    "plt.axhline(y=0, color='black', linestyle='--')"
   ]
  },
  {
   "cell_type": "markdown",
   "metadata": {
    "id": "BmvHtS9hIJ2_"
   },
   "source": [
    "### Observacion:\n",
    "\n",
    "A partir del grafico podemos extraer las siguientes conclusiones preliminares:\n",
    "\n",
    "* Volatilidad Inicial: Al inicio del período, la diferencia entre los grupos fluctuó significativamente, indicando que hubo cambios rápidos en la preferencia de los usuarios.\n",
    "* Dominancia del Grupo B: A partir de mediados de agosto, el grupo B comenzó a mostrar un tamaño promedio de compra consistentemente mayor que el grupo A, lo que sugiere que alguna acción o cambio implementado en ese grupo tuvo un impacto positivo en el comportamiento de compra.\n",
    "* En varios puntos, la diferencia entre los segmentos aumenta. ¡Esto significa que deben haber algunos pedidos grandes y valores atípicos!\n",
    "* Estabilización: Hacia finales del período, la diferencia entre los grupos se estabilizó en torno a un valor positivo, lo que indica que la ventaja del grupo B se mantuvo."
   ]
  },
  {
   "cell_type": "markdown",
   "metadata": {
    "id": "VbZm3xshLEBW"
   },
   "source": [
    "## Calculamos la tasa de conversión de cada grupo como la relación entre los pedidos y el número de visitas de cada día. Representamos gráficamente las tasas de conversión diarias de los dos grupos\n"
   ]
  },
  {
   "cell_type": "code",
   "execution_count": 16,
   "metadata": {
    "colab": {
     "base_uri": "https://localhost:8080/",
     "height": 535
    },
    "id": "aMM_bmJRIoCM",
    "outputId": "cc43fdfe-1625-499d-8eea-cc9f19fe5e99"
   },
   "outputs": [
    {
     "data": {
      "text/plain": [
       "(18109.0, 18141.0, 0.0, 0.05)"
      ]
     },
     "execution_count": 16,
     "metadata": {},
     "output_type": "execute_result"
    },
    {
     "data": {
      "image/png": "[encoded data removed]",
      "text/plain": [
       "<Figure size 640x480 with 1 Axes>"
      ]
     },
     "metadata": {},
     "output_type": "display_data"
    }
   ],
   "source": [
    "# calculamos la conversión acumulada\n",
    "cumulativeData['conversion'] = cumulativeData['orders']/cumulativeData['visitors']\n",
    "\n",
    "# seleccionamos datos en el grupo A\n",
    "cumulativeDataA = cumulativeData[cumulativeData['group']=='A']\n",
    "\n",
    "# seleccionamos datos en el grupo B\n",
    "cumulativeDataB = cumulativeData[cumulativeData['group']=='B']\n",
    "\n",
    "# trazamos los gráficos\n",
    "plt.plot(cumulativeDataA['date'], cumulativeDataA['conversion'], label='A')\n",
    "plt.plot(cumulativeDataB['date'], cumulativeDataB['conversion'], label='B')\n",
    "plt.legend()\n",
    "plt.title('Tasa de conversion: A Vs B')\n",
    "plt.xticks(rotation=90)\n",
    "\n",
    "# establecemos la escala de los ejes\n",
    "plt.axis([pd.to_datetime('2019-08-01'), pd.to_datetime('2019-09-02'), 0, 0.05])"
   ]
  },
  {
   "cell_type": "markdown",
   "metadata": {
    "id": "7jkdSAjQPQuX"
   },
   "source": [
    "### Observaciones:\n",
    "El gráfico muestra que el Grupo B tuvo una ventaja consistente sobre el Grupo A, esto significa que:\n",
    "\n",
    "* Al inicio de la prueba, el segmento A tenía una tasa de conversión más alta pero el segmento B ganó gradualmente y se estabilizó en un valor casi constante.\n",
    "* El Grupo B generó un mayor número de conversiones en comparación con el Grupo A.\n",
    "* Los cambios implementados en el Grupo B resultaron en un mejor desempeño en términos de tasa de conversión."
   ]
  },
  {
   "cell_type": "code",
   "execution_count": 17,
   "metadata": {
    "colab": {
     "base_uri": "https://localhost:8080/",
     "height": 573
    },
    "id": "LtNytqwXH7O8",
    "outputId": "0baa7eb5-6570-4db1-9929-6dcfb3364f06"
   },
   "outputs": [
    {
     "name": "stderr",
     "output_type": "stream",
     "text": [
      "No handles with labels found to put in legend.\n"
     ]
    },
    {
     "data": {
      "text/plain": [
       "(18109.0, 18141.0, -0.5, 0.5)"
      ]
     },
     "execution_count": 17,
     "metadata": {},
     "output_type": "execute_result"
    },
    {
     "data": {
      "image/png": "[encoded data removed]",
      "text/plain": [
       "<Figure size 640x480 with 1 Axes>"
      ]
     },
     "metadata": {},
     "output_type": "display_data"
    }
   ],
   "source": [
    "#Vamos a trazar un gráfico de diferencia relativa para las tasas de conversión acumuladas\n",
    "mergedCumulativeConversions = cumulativeDataA[['date','conversion']].merge(cumulativeDataB[['date','conversion']], left_on='date', right_on='date', how='left', suffixes=['A', 'B'])\n",
    "\n",
    "plt.plot(mergedCumulativeConversions['date'], mergedCumulativeConversions['conversionB']/mergedCumulativeConversions['conversionA']-1)\n",
    "plt.legend()\n",
    "plt.xticks(rotation=90)\n",
    "plt.title('Diferencia relativa en la conversion acumulada: B Vs A')\n",
    "\n",
    "plt.axhline(y=0, color='black', linestyle='--')\n",
    "plt.axhline(y=0.16, color='grey', linestyle='--')\n",
    "plt.axis([pd.to_datetime('2019-08-01'), pd.to_datetime('2019-09-02'), -0.5, 0.5])"
   ]
  },
  {
   "cell_type": "markdown",
   "metadata": {
    "id": "l16_vPAfNg7w"
   },
   "source": [
    "### Observacion:\n",
    "El gráfico proporciona una visión general de la diferencia relativa entre los grupos, se necesitan más análisis para sacar conclusiones definitivas. La falta de una tendencia clara y consistente sugiere que las variaciones introducidas en el grupo B no han tenido un impacto significativo en la tasa de conversión."
   ]
  },
  {
   "cell_type": "markdown",
   "metadata": {
    "id": "XtldqHtqP5X-"
   },
   "source": [
    "## Trazamos un gráfico de dispersión del número de pedidos por usuario."
   ]
  },
  {
   "cell_type": "code",
   "execution_count": 18,
   "metadata": {
    "colab": {
     "base_uri": "https://localhost:8080/",
     "height": 363
    },
    "id": "UOMf5FrpPzNl",
    "outputId": "5ee06bd7-70a9-4043-d578-cc7a3f9dc750"
   },
   "outputs": [
    {
     "data": {
      "text/html": [
       "<div>\n",
       "<style scoped>\n",
       "    .dataframe tbody tr th:only-of-type {\n",
       "        vertical-align: middle;\n",
       "    }\n",
       "\n",
       "    .dataframe tbody tr th {\n",
       "        vertical-align: top;\n",
       "    }\n",
       "\n",
       "    .dataframe thead th {\n",
       "        text-align: right;\n",
       "    }\n",
       "</style>\n",
       "<table border=\"1\" class=\"dataframe\">\n",
       "  <thead>\n",
       "    <tr style=\"text-align: right;\">\n",
       "      <th></th>\n",
       "      <th>userId</th>\n",
       "      <th>orders</th>\n",
       "    </tr>\n",
       "  </thead>\n",
       "  <tbody>\n",
       "    <tr>\n",
       "      <th>908</th>\n",
       "      <td>3967698036</td>\n",
       "      <td>3</td>\n",
       "    </tr>\n",
       "    <tr>\n",
       "      <th>55</th>\n",
       "      <td>249864742</td>\n",
       "      <td>3</td>\n",
       "    </tr>\n",
       "    <tr>\n",
       "      <th>478</th>\n",
       "      <td>2108163459</td>\n",
       "      <td>3</td>\n",
       "    </tr>\n",
       "    <tr>\n",
       "      <th>687</th>\n",
       "      <td>2988190573</td>\n",
       "      <td>3</td>\n",
       "    </tr>\n",
       "    <tr>\n",
       "      <th>890</th>\n",
       "      <td>3908431265</td>\n",
       "      <td>3</td>\n",
       "    </tr>\n",
       "    <tr>\n",
       "      <th>138</th>\n",
       "      <td>611059232</td>\n",
       "      <td>3</td>\n",
       "    </tr>\n",
       "    <tr>\n",
       "      <th>632</th>\n",
       "      <td>2742574263</td>\n",
       "      <td>3</td>\n",
       "    </tr>\n",
       "    <tr>\n",
       "      <th>157</th>\n",
       "      <td>678354126</td>\n",
       "      <td>2</td>\n",
       "    </tr>\n",
       "    <tr>\n",
       "      <th>323</th>\n",
       "      <td>1404560065</td>\n",
       "      <td>2</td>\n",
       "    </tr>\n",
       "    <tr>\n",
       "      <th>452</th>\n",
       "      <td>1985475298</td>\n",
       "      <td>2</td>\n",
       "    </tr>\n",
       "  </tbody>\n",
       "</table>\n",
       "</div>"
      ],
      "text/plain": [
       "         userId  orders\n",
       "908  3967698036       3\n",
       "55    249864742       3\n",
       "478  2108163459       3\n",
       "687  2988190573       3\n",
       "890  3908431265       3\n",
       "138   611059232       3\n",
       "632  2742574263       3\n",
       "157   678354126       2\n",
       "323  1404560065       2\n",
       "452  1985475298       2"
      ]
     },
     "execution_count": 18,
     "metadata": {},
     "output_type": "execute_result"
    }
   ],
   "source": [
    "ordersByUsers = (\n",
    "    orders.drop(['group', 'revenue', 'date'], axis=1)\n",
    "    .groupby('visitorId', as_index=False)\n",
    "    .agg({'transactionId': pd.Series.nunique})\n",
    ")\n",
    "\n",
    "ordersByUsers.columns = ['userId', 'orders']\n",
    "\n",
    "ordersByUsers.sort_values(by='orders', ascending=False).head(10)"
   ]
  },
  {
   "cell_type": "code",
   "execution_count": 19,
   "metadata": {
    "colab": {
     "base_uri": "https://localhost:8080/",
     "height": 482
    },
    "id": "cOn0qaZUbq1Q",
    "outputId": "e5a17037-1e6f-48cb-9b6f-9012699591af"
   },
   "outputs": [
    {
     "data": {
      "text/plain": [
       "(array([937.,   0.,   0.,   0.,   0.,  29.,   0.,   0.,   0.,   7.]),\n",
       " array([1. , 1.2, 1.4, 1.6, 1.8, 2. , 2.2, 2.4, 2.6, 2.8, 3. ]),\n",
       " <BarContainer object of 10 artists>)"
      ]
     },
     "execution_count": 19,
     "metadata": {},
     "output_type": "execute_result"
    },
    {
     "data": {
      "image/png": "[encoded data removed]",
      "text/plain": [
       "<Figure size 640x480 with 1 Axes>"
      ]
     },
     "metadata": {},
     "output_type": "display_data"
    }
   ],
   "source": [
    "plt.hist(ordersByUsers['orders'])"
   ]
  },
  {
   "cell_type": "markdown",
   "metadata": {
    "id": "0BO1An5GebOV"
   },
   "source": [
    "### Observacion:\n",
    "La mayoría de los clientes hicieron un solo pedido. Sin embargo, una parte significativa hizo dos a 3 cada uno."
   ]
  },
  {
   "cell_type": "code",
   "execution_count": 20,
   "metadata": {
    "colab": {
     "base_uri": "https://localhost:8080/",
     "height": 470
    },
    "id": "j99qr-s9b4S_",
    "outputId": "4ef64155-2e2a-40e0-9ba8-cadc43f86a9f"
   },
   "outputs": [
    {
     "data": {
      "text/plain": [
       "Text(0.5, 1.0, 'Dispersión del número de pedidos por usuario')"
      ]
     },
     "execution_count": 20,
     "metadata": {},
     "output_type": "execute_result"
    },
    {
     "data": {
      "image/png": "[encoded data removed]",
      "text/plain": [
       "<Figure size 640x480 with 1 Axes>"
      ]
     },
     "metadata": {},
     "output_type": "display_data"
    }
   ],
   "source": [
    "x_values = pd.Series(range(0,len(ordersByUsers)))\n",
    "\n",
    "plt.scatter(x_values, ordersByUsers['orders'])\n",
    "plt.title('Dispersión del número de pedidos por usuario')"
   ]
  },
  {
   "cell_type": "markdown",
   "metadata": {
    "id": "knlTYPbiepUW"
   },
   "source": [
    "### Observacion:\n",
    "Nuestras conclusiones se han confirmado: de hecho, hay muchos usuarios con dos o 3 pedidos. Se desconoce la proporción exacta, ya que no está claro si debemos considerarlos anomalías o no."
   ]
  },
  {
   "cell_type": "markdown",
   "metadata": {},
   "source": [
    "<div class=\"alert alert-block alert-success\">\n",
    "<b>Comentario del revisor (1ra Iteracion)</b> <a class=“tocSkip”></a>\n",
    "\n",
    "Excelente trabajo con las visualizaciones y conclusiones desde las mismas, se pueden ver de manera correcta las diferencias entre grupos\n",
    "</div>"
   ]
  },
  {
   "cell_type": "markdown",
   "metadata": {
    "id": "EKuDgEk3cReu"
   },
   "source": [
    "## Calculamos los percentiles 95 y 99 para el número de pedidos por usuario."
   ]
  },
  {
   "cell_type": "code",
   "execution_count": 21,
   "metadata": {
    "colab": {
     "base_uri": "https://localhost:8080/"
    },
    "id": "TRgD6YN4cFi3",
    "outputId": "300ca23c-27d9-4d47-f9ed-a3fa0e702c97"
   },
   "outputs": [
    {
     "data": {
      "text/plain": [
       "array([1., 1., 2.])"
      ]
     },
     "execution_count": 21,
     "metadata": {},
     "output_type": "execute_result"
    }
   ],
   "source": [
    "np.percentile(ordersByUsers['orders'], [90, 95, 99])"
   ]
  },
  {
   "cell_type": "markdown",
   "metadata": {
    "id": "ru3mHfHMdJ7m"
   },
   "source": [
    "## Observacion:\n",
    "No más del 5% de los usuarios realizaron más de 1 pedido y el 1% de los usuarios realizaron más de 2 pedido.\n",
    "\n",
    "Por lo tanto, sería razonable establecer 1 pedido por usuario como límite inferior para el número de pedidos y filtrar las anomalías en base a ello."
   ]
  },
  {
   "cell_type": "markdown",
   "metadata": {},
   "source": [
    "<div class=\"alert alert-block alert-success\">\n",
    "<b>Comentario general (1ra Iteracion)</b> <a class=“tocSkip”></a>\n",
    "\n",
    "Buen trabajo revisando los percentiles, encontrar valores anómalos puede ser crucial al momento de mostrar métricas correctas\n",
    "</div>"
   ]
  },
  {
   "cell_type": "markdown",
   "metadata": {
    "id": "uUTrr3xQclT8"
   },
   "source": [
    "## Trazamos un gráfico de dispersión de los precios de los pedidos."
   ]
  },
  {
   "cell_type": "code",
   "execution_count": 22,
   "metadata": {
    "colab": {
     "base_uri": "https://localhost:8080/",
     "height": 534
    },
    "id": "RTW5zVCkcm8F",
    "outputId": "40c455d4-f5b8-45d2-d09e-b5b4f4ceceb9"
   },
   "outputs": [
    {
     "data": {
      "text/plain": [
       "(array([1.014e+03, 1.000e+00, 0.000e+00, 0.000e+00, 0.000e+00, 0.000e+00,\n",
       "        0.000e+00, 0.000e+00, 0.000e+00, 1.000e+00]),\n",
       " array([5.000000e+00, 1.996540e+03, 3.988080e+03, 5.979620e+03,\n",
       "        7.971160e+03, 9.962700e+03, 1.195424e+04, 1.394578e+04,\n",
       "        1.593732e+04, 1.792886e+04, 1.992040e+04]),\n",
       " <BarContainer object of 10 artists>)"
      ]
     },
     "execution_count": 22,
     "metadata": {},
     "output_type": "execute_result"
    },
    {
     "data": {
      "image/png": "[encoded data removed]",
      "text/plain": [
       "<Figure size 640x480 with 1 Axes>"
      ]
     },
     "metadata": {},
     "output_type": "display_data"
    }
   ],
   "source": [
    "plt.hist(orders['revenue'])"
   ]
  },
  {
   "cell_type": "code",
   "execution_count": 23,
   "metadata": {
    "colab": {
     "base_uri": "https://localhost:8080/",
     "height": 470
    },
    "id": "lxvu9ZdSflDu",
    "outputId": "c28ec97b-9535-491b-996a-58b6def34f9d"
   },
   "outputs": [
    {
     "data": {
      "text/plain": [
       "Text(0.5, 1.0, 'Dispersión de los precios de los pedidos')"
      ]
     },
     "execution_count": 23,
     "metadata": {},
     "output_type": "execute_result"
    },
    {
     "data": {
      "image/png": "[encoded data removed]",
      "text/plain": [
       "<Figure size 640x480 with 1 Axes>"
      ]
     },
     "metadata": {},
     "output_type": "display_data"
    }
   ],
   "source": [
    "x_values = pd.Series(range(0, len(orders['revenue'])))\n",
    "plt.scatter(x_values, orders['revenue'])\n",
    "plt.title('Dispersión de los precios de los pedidos')"
   ]
  },
  {
   "cell_type": "markdown",
   "metadata": {
    "id": "ZMiIYnpbiL9N"
   },
   "source": [
    "### Observacion:\n",
    "Tal como esperábamos, hay unos pedidos grandes. Según el gráfico, enocntramos el valor que ya habiamos observado antes con el metodo describe() de 19920.40 y tambien podemos observar otro valor mucho mas bajo que podriamos decir que esta un poco por encima de los 2500.\n",
    "\n",
    "Todos los demas pedidos se mantienen por debajo de los 2500."
   ]
  },
  {
   "cell_type": "markdown",
   "metadata": {
    "id": "zhGapYa_jOoo"
   },
   "source": [
    "## Calculamos los percentiles 95 y 99 de los precios de los pedidos."
   ]
  },
  {
   "cell_type": "code",
   "execution_count": 24,
   "metadata": {
    "colab": {
     "base_uri": "https://localhost:8080/"
    },
    "id": "jZcqwvlGi_Ed",
    "outputId": "45f8f35f-e8de-43e1-f4f6-28766d6e0e4c"
   },
   "outputs": [
    {
     "data": {
      "text/plain": [
       "array([280.8  , 414.275, 830.3  ])"
      ]
     },
     "execution_count": 24,
     "metadata": {},
     "output_type": "execute_result"
    }
   ],
   "source": [
    "np.percentile(orders['revenue'], [90, 95, 99])"
   ]
  },
  {
   "cell_type": "markdown",
   "metadata": {
    "id": "kjOC8vrPjyz6"
   },
   "source": [
    "### Observacion:\n",
    "\n",
    "No más del 5% de los pedidos cuestan más de 414.28 y no más del 1% cuestan más de 830.30\n",
    "\n",
    "Un pedido con un precio superior al percentil 99 (830.30) podría considerarse una anomalía"
   ]
  },
  {
   "cell_type": "markdown",
   "metadata": {
    "id": "ZZ7BDbiqlMmf"
   },
   "source": [
    "## Encuentramos la significancia estadística de la diferencia en la conversión entre los grupos utilizando los datos en bruto."
   ]
  },
  {
   "cell_type": "code",
   "execution_count": 25,
   "metadata": {
    "id": "0Z11t-Xglmk7"
   },
   "outputs": [],
   "source": [
    "#Calculemos la significancia estadística de la diferencia de conversión entre los grupos.\n",
    "ordersByUsersA = orders[orders['group']=='A'].groupby('visitorId', as_index=False).agg({'transactionId' : pd.Series.nunique})\n",
    "ordersByUsersA.columns = ['userId', 'orders']\n",
    "\n",
    "ordersByUsersB = orders[orders['group']=='B'].groupby('visitorId', as_index=False).agg({'transactionId' : pd.Series.nunique})\n",
    "ordersByUsersB.columns = ['userId', 'orders']"
   ]
  },
  {
   "cell_type": "code",
   "execution_count": 26,
   "metadata": {
    "colab": {
     "base_uri": "https://localhost:8080/"
    },
    "id": "V9O1M_Swm-B7",
    "outputId": "5351b570-9e49-4d38-9abd-bbf240dff048"
   },
   "outputs": [
    {
     "name": "stdout",
     "output_type": "stream",
     "text": [
      "Valor-p en la conversión entre los grupos datos en bruto:  0.011\n",
      "Diferencia Relativa en la conversión entre los grupos datos en bruto:  0.160\n"
     ]
    }
   ],
   "source": [
    "# Ahora declararemos las variables sampleA y sampleB, con usuarios de diferentes grupos y números de pedidos correspondientes. Los que no pidieron nada tendrán un 0. Esto es necesario para preparar las muestras para la prueba de Mann-Whitney.\n",
    "sampleA = pd.concat([ordersByUsersA['orders'],pd.Series(0, index=np.arange(visits[visits['group']=='A']['visits'].sum() - len(ordersByUsersA['orders'])), name='orders')],axis=0)\n",
    "\n",
    "sampleB = pd.concat([ordersByUsersB['orders'],pd.Series(0, index=np.arange(visits[visits['group']=='B']['visits'].sum() - len(ordersByUsersB['orders'])), name='orders')],axis=0)\n",
    "\n",
    "valor_p1= (\"{0:.3f}\".format(stats.mannwhitneyu(sampleA, sampleB)[1]))\n",
    "\n",
    "diferencia_relativa1= (\"{0:.3f}\".format(sampleB.mean()/sampleA.mean()-1))\n",
    "\n",
    "print('Valor-p en la conversión entre los grupos datos en bruto: ', valor_p1)\n",
    "print('Diferencia Relativa en la conversión entre los grupos datos en bruto: ', diferencia_relativa1)"
   ]
  },
  {
   "cell_type": "markdown",
   "metadata": {
    "id": "4fxmPvh7pMfL"
   },
   "source": [
    "### Observacion:\n",
    "El valor p es inferior a 0.05 por lo que rechazamos la hipótesis nula. El análisis de datos sin procesar mostró que las tasas de conversión de los grupos tienen diferencias estadísticamente significativas. La ganancia de conversión relativa del grupo B en comparación con el grupo A es del 16%."
   ]
  },
  {
   "cell_type": "markdown",
   "metadata": {
    "id": "hXgp5BfLllCR"
   },
   "source": [
    "## Encontramos la significancia estadística de la diferencia en el tamaño promedio de pedido entre los grupos utilizando los datos en bruto."
   ]
  },
  {
   "cell_type": "code",
   "execution_count": 27,
   "metadata": {
    "colab": {
     "base_uri": "https://localhost:8080/"
    },
    "id": "PgC0E81rmLG8",
    "outputId": "d17d5ef5-4f22-4d8f-f54e-c3e562b87778"
   },
   "outputs": [
    {
     "name": "stdout",
     "output_type": "stream",
     "text": [
      "Valor-p en el tamaño promedio de pedido entre los grupos datos en bruto:  0.862\n",
      "Diferencia Relativa en el tamaño promedio de pedido entre los grupos datos en bruto:  0.278\n"
     ]
    }
   ],
   "source": [
    "valor_p2= ('{0:.3f}'.format(stats.mannwhitneyu(orders[orders['group']=='A']['revenue'], orders[orders['group']=='B']['revenue'])[1]))\n",
    "diferencia_relativa2= ('{0:.3f}'.format(orders[orders['group']=='B']['revenue'].mean()/orders[orders['group']=='A']['revenue'].mean()-1))\n",
    "print('Valor-p en el tamaño promedio de pedido entre los grupos datos en bruto: ', valor_p2)\n",
    "print('Diferencia Relativa en el tamaño promedio de pedido entre los grupos datos en bruto: ', diferencia_relativa2)"
   ]
  },
  {
   "cell_type": "markdown",
   "metadata": {
    "id": "NshrjUIlqU4j"
   },
   "source": [
    "### Observacion:\n",
    "El valor p es superior a 0.05 por lo que no existen diferencias estadísticamente significativas entre los tamaños de pedido promedio de los grupos. Además, la diferencia relativa es significativamente positiva del 27.8%."
   ]
  },
  {
   "cell_type": "markdown",
   "metadata": {
    "id": "axk0QoxEuZfd"
   },
   "source": [
    "## Preparamos los Datos Filtrados"
   ]
  },
  {
   "cell_type": "code",
   "execution_count": 28,
   "metadata": {
    "colab": {
     "base_uri": "https://localhost:8080/"
    },
    "id": "Maw-5EFipfLD",
    "outputId": "8acf8ef8-6bf1-4800-d584-d9bfe4ca1fa2"
   },
   "outputs": [
    {
     "name": "stdout",
     "output_type": "stream",
     "text": [
      "33    249864742\n",
      "36    366673373\n",
      "51    406208401\n",
      "67    522292794\n",
      "58    611059232\n",
      "dtype: int64\n",
      "(38,)\n"
     ]
    }
   ],
   "source": [
    "#Vamos a crear slices de datos con los usuarios que realizaron más de 1 pedido (usersWithManyOrders)\n",
    "#los usuarios que realizaron pedidos por más de $2500 (usersWithExpensiveOrders).\n",
    "#Los uniremos en una tabla llamada abnormalUsers\n",
    "usersWithManyOrders = pd.concat([ordersByUsersA[ordersByUsersA['orders'] > 1]['userId'],\n",
    "                                 ordersByUsersB[ordersByUsersB['orders'] > 1]['userId']], axis = 0)\n",
    "\n",
    "usersWithExpensiveOrders = orders[orders['revenue'] > 2500]['visitorId']\n",
    "\n",
    "abnormalUsers = pd.concat([usersWithManyOrders, usersWithExpensiveOrders],\n",
    "                          axis = 0).drop_duplicates().sort_values()\n",
    "\n",
    "print(abnormalUsers.head())\n",
    "print(abnormalUsers.shape)"
   ]
  },
  {
   "cell_type": "markdown",
   "metadata": {
    "id": "AF16Zis6uAZA"
   },
   "source": [
    "### Observacion:\n",
    "\n",
    "En total, tenemos 38 usuarios anómalos"
   ]
  },
  {
   "cell_type": "markdown",
   "metadata": {
    "id": "SncV4iDpmqnY"
   },
   "source": [
    "## Encuentramos la significancia estadística de la diferencia en la conversión entre los grupos utilizando los datos filtrados."
   ]
  },
  {
   "cell_type": "code",
   "execution_count": 29,
   "metadata": {
    "colab": {
     "base_uri": "https://localhost:8080/"
    },
    "id": "teccFwVNuEO-",
    "outputId": "d6d7416b-dafa-4b61-a3ba-ca3026fb64aa"
   },
   "outputs": [
    {
     "name": "stdout",
     "output_type": "stream",
     "text": [
      "Valor-p en la conversión entre los grupos datos filtrados:  0.011\n",
      "Diferencia Relativa en la conversión entre los grupos datos filtrados:  0.178\n"
     ]
    }
   ],
   "source": [
    "#  Primero prepararemos muestras del número de pedidos por usuario para cada grupo de prueba\n",
    "sampleAFiltered = pd.concat([ordersByUsersA[np.logical_not(ordersByUsersA['userId'].isin(abnormalUsers))]['orders'],\n",
    "                             pd.Series(0, index=np.arange(visits[visits['group']=='A']['visits'].sum() - len(ordersByUsersA['orders'])),\n",
    "                                       name='orders')],axis=0)\n",
    "\n",
    "sampleBFiltered = pd.concat([ordersByUsersB[np.logical_not(ordersByUsersB['userId'].isin(abnormalUsers))]['orders'],\n",
    "                             pd.Series(0, index=np.arange(visits[visits['group']=='B']['visits'].sum() - len(ordersByUsersB['orders'])),\n",
    "                                       name='orders')],axis=0)\n",
    "\n",
    "# Apliquemos el criterio estadístico de Mann-Whitney a las muestras resultantes\n",
    "valor_p3= (\"{0:.3f}\".format(stats.mannwhitneyu(sampleAFiltered, sampleBFiltered)[1]))\n",
    "diferencia_relativa3= (\"{0:.3f}\".format(sampleBFiltered.mean()/sampleAFiltered.mean()-1))\n",
    "\n",
    "print('Valor-p en la conversión entre los grupos datos filtrados: ', valor_p3)\n",
    "print('Diferencia Relativa en la conversión entre los grupos datos filtrados: ', diferencia_relativa3)"
   ]
  },
  {
   "cell_type": "markdown",
   "metadata": {
    "id": "9onlyyZJvb5B"
   },
   "source": [
    "### Observacion:\n",
    "Igual que con los datos sin procesar, hemos alcanzado el nivel de significación. El segmento B es mucho mejor que el segmento A. La ganancia de conversión relativa del grupo B en comparación con el grupo A es del 17.8%."
   ]
  },
  {
   "cell_type": "markdown",
   "metadata": {
    "id": "Y4_j-ie2vcwU"
   },
   "source": [
    "## Encuentramos la significancia estadística de la diferencia en el tamaño promedio de pedido entre los grupos utilizando los datos filtrados."
   ]
  },
  {
   "cell_type": "code",
   "execution_count": 30,
   "metadata": {
    "colab": {
     "base_uri": "https://localhost:8080/"
    },
    "id": "tevh_8iUveAe",
    "outputId": "26427317-80c7-416c-c487-24fb86395485"
   },
   "outputs": [
    {
     "name": "stdout",
     "output_type": "stream",
     "text": [
      "Valor-p en el tamaño promedio de pedido entre los grupos datos filtrados:  0.850\n",
      "Diferencia Relativa en el tamaño promedio de pedido entre los grupos datos filtrados:  -0.066\n"
     ]
    }
   ],
   "source": [
    "#Vamos a ver qué ocurre con los valores del tamaño medio de los pedidos\n",
    "valor_p4= ('{0:.3f}'.format(stats.mannwhitneyu(\n",
    "    orders[np.logical_and(\n",
    "        orders['group']=='A',\n",
    "        np.logical_not(orders['visitorId'].isin(abnormalUsers)))]['revenue'],\n",
    "    orders[np.logical_and(\n",
    "        orders['group']=='B',\n",
    "        np.logical_not(orders['visitorId'].isin(abnormalUsers)))]['revenue'])[1]))\n",
    "\n",
    "diferencia_relativa4= ('{0:.3f}'.format(\n",
    "    orders[np.logical_and(orders['group']=='B',np.logical_not(orders['visitorId'].isin(abnormalUsers)))]['revenue'].mean()/\n",
    "    orders[np.logical_and(\n",
    "        orders['group']=='A',\n",
    "        np.logical_not(orders['visitorId'].isin(abnormalUsers)))]['revenue'].mean() - 1))\n",
    "\n",
    "print('Valor-p en el tamaño promedio de pedido entre los grupos datos filtrados: ', valor_p4)\n",
    "print('Diferencia Relativa en el tamaño promedio de pedido entre los grupos datos filtrados: ', diferencia_relativa4)"
   ]
  },
  {
   "cell_type": "markdown",
   "metadata": {
    "id": "TWkBNd7YCFeO"
   },
   "source": [
    "### Observacion:\n",
    "* Valor-p = 0.850: Al igual que en la primera prueba, el valor-p sigue siendo alto, lo que sugiere que no hay evidencia suficiente para concluir que existe una diferencia significativa entre los grupos, incluso después de eliminar los usuarios anómalos.\n",
    "\n",
    "* Diferencia relativa = -0.066: En este caso, la diferencia relativa es negativa y de menor magnitud, lo que indica que el grupo B tiene un tamaño promedio de pedido ligeramente inferior al grupo A después de filtrar los datos."
   ]
  },
  {
   "cell_type": "markdown",
   "metadata": {
    "id": "PMT-qlJdPFrd"
   },
   "source": [
    "## Tomamos una decisión basada en los resultados de la prueba. Las decisiones posibles son: 1. Para la prueba, considera a uno de los grupos como líder. 2. Para la prueba, concluye que no hay diferencia entre los grupos. 3. Continúa la prueba."
   ]
  },
  {
   "cell_type": "markdown",
   "metadata": {
    "id": "vdM1RGyJUD4M"
   },
   "source": [
    "### Observaciones:\n",
    "* Hay una diferencia estadísticamente significativa en la conversión entre los grupos, según los datos sin procesar y filtrados.\n",
    "* Los datos sin procesar y no mostraron una diferencia estadísticamente significativa entre los grupos en cuanto a tamaño promedio de compra. Sin embargo, después de eliminar las anomalías, la diferencia relativa es negativa y de menor magnitud, lo que indica que el grupo B tiene un tamaño promedio de pedido ligeramente inferior al grupo A después de filtrar los datos.\n",
    "* El gráfico de la diferencia de conversión entre los grupos muestra que los resultados del grupo B son mejores que los del grupo A: tienen tendencia a crecer o se estabilizaron alrededor de la media pero aun no es muy clara su estabilidad.\n",
    "![Screenshot_7.jpg](data:image/jpeg;base64,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)\n",
    "\n",
    "* El gráfico de la diferencia en el tamaño promedio de compra muestra fluctuaciones: fue este gráfico el que nos permitió detectar anomalías. No se pueden sacar conclusiones definitivas de este gráfico.\n",
    "![Screenshot_6.jpg](data:image/jpeg;base64,/9j/4AAQSkZJRgABAQEAYABgAAD/2wBDAAMCAgMCAgMDAwMEAwMEBQgFBQQEBQoHBwYIDAoMDAsKCwsNDhIQDQ4RDgsLEBYQERMUFRUVDA8XGBYUGBIUFRT/2wBDAQMEBAUEBQkFBQkUDQsNFBQUFBQUFBQUFBQUFBQUFBQUFBQUFBQUFBQUFBQUFBQUFBQUFBQUFBQUFBQUFBQUFBT/wAARCAHqAmsDASIAAhEBAxEB/8QAHwAAAQUBAQEBAQEAAAAAAAAAAAECAwQFBgcICQoL/8QAtRAAAgEDAwIEAwUFBAQAAAF9AQIDAAQRBRIhMUEGE1FhByJxFDKBkaEII0KxwRVS0fAkM2JyggkKFhcYGRolJicoKSo0NTY3ODk6Q0RFRkdISUpTVFVWV1hZWmNkZWZnaGlqc3R1dnd4eXqDhIWGh4iJipKTlJWWl5iZmqKjpKWmp6ipqrKztLW2t7i5usLDxMXGx8jJytLT1NXW19jZ2uHi4+Tl5ufo6erx8vP09fb3+Pn6/8QAHwEAAwEBAQEBAQEBAQAAAAAAAAECAwQFBgcICQoL/8QAtREAAgECBAQDBAcFBAQAAQJ3AAECAxEEBSExBhJBUQdhcRMiMoEIFEKRobHBCSMzUvAVYnLRChYkNOEl8RcYGRomJygpKjU2Nzg5OkNERUZHSElKU1RVVldYWVpjZGVmZ2hpanN0dXZ3eHl6goOEhYaHiImKkpOUlZaXmJmaoqOkpaanqKmqsrO0tba3uLm6wsPExcbHyMnK0tPU1dbX2Nna4uPk5ebn6Onq8vP09fb3+Pn6/9oADAMBAAIRAxEAPwD7B/4YT+EP/Ql2v/gTcf8AxyvJvil8G/gr8MfHmieDofgz4g8Za/q1hPqcNt4bZZNkELojs5mvIsfNInTPWvuuvnjxV/yfp8Pf+xD1n/0ssqAPJfhf8Gf2ffih4k1Lwwnw+v8Awv4w02Bbu58N+JYrmzvVt2bas6DzWSWPd8u+NmAOAcZGcvxv8Cvh58PPhjo2ua58EYrbxdrWux+H9O8LrrzOJbia6eK2Z7pWKIjxIJidpKBtpBINes/E+4g1b9vb4I2mjusuraRoGv3evLCcvFYSxwR23m46K04O0HuD6184S/DXwt46/Zl/Z5k8QaFZau7fFu60stdRBz9luNd1Dz4f9x/LTI77RQB9BeEf2Ifh1qfh2xuvEPw103QtZkQm50+11a4vIoW3EALN8m/jBzsHXHbNa/8Awwn8If8AoS7X/wACbj/45XjXjz4f33jj9pXxN8OrL4Z+HfGng3wV4d0lNA8La14jm0iys4ZhL5lzDBHBKJm3oIt5x5YjUD79V/iJ8KPGOk/BH4MeBPH141mz/F6ztrJdL1ma7ns9KkW6aK2+2MqSM8cbNEJMBgqqRggYAPbf+GFPhBz/AMUXa/8AgTP/APHKP+GE/hD/ANCXa/8AgTcf/HK8e+MHwtitf2iPDXwh8KfDnQtf8A2nhWbxFB4R1TX5tJ0+6v5LwxTTvsil+0vGix4RxhfPZuprJ+KXws8ceAP2QfHnhvxLHbeGtIuvGeiS+HdN0rWpdTbRraXUbINDHPLEjbVlDuilfl346AUAe7/8MJ/CH/oS7X/wJuP/AI5R/wAMJ/CH/oS7X/wJuP8A45WAvwz0D9nr9rD4e23w/wBNk0uDxd4b15dYshdSypqE1mbOS3mk8xm3TZmkBkPzEOck1R/Y5+Cfgf4pfCnwT8X/ABPZt4n+JmpTHWL7xHdXc32qG9S4YmBcOBHHEyCPyQAmEwynJyAXvDH7Fvw91bUPEMOr/Cm20O2sb82+m3H9rSXH9pW3lRt9o2q+YvnaRNjc/u89GFb/APwwn8If+hLtf/Am4/8Ajledf8JVoPhPw1+04/iHQ7vxPZah8SbfS4tFsro2r31xcWmmRQwmYMvloZGXcxONu7IPQ1PgBpGp/CX9sWy8JReB9G+GOl6/4Pu9QuvDWg+I5NUt5ZIbqBYbp42hiWKTDzJlQQ4znlaAPUP+GE/hD/0Jdr/4E3H/AMco/wCGFPhBz/xRdrx/08z/APxyof2+tHPiH4XeCNKF3cWBvvH3h61+1Wchjmh33qLvjccqwzkEdCAa8q+OHwrtvD/xs8AfCPwb4A0fVPA9/pOp+IpvC+pa/PpVlq+opJbxF5pFjma4eOLDeUwwd5diSoyAbvx6/Zp+EHwQ+EfiTxw3w4tdZGjwpN9h/tGeDzd0iJjfubb9/P3T0rvv+GE/hD/0Jdr/AOBNx/8AHK8O+Inwx8bfCv8AZC/aA07xBpOm+GfCl19ivPD3hvTdbl1WPS1aSJbmNJZYo2WNpEEioBhS7gV6T+0FouhfGj40ax4Xsvg5p3xL17w1o9m2p6l4i8Sy6TZ6dHcNO8CwqiSkykLKxkRFIAUFzgAADfHX7LvwH+HM/hiHWfB0cb+I9Zh0Gw8mS4fddSpI6Bv3nyrtifn6VbuP2Lfh7H46sdKi+FNtN4cmsJrifX/7WkXyLlZI1jt/I3723q0jbwcL5eDywrwe30fS/jp+zD+yVqPjmytfFVy3xDbQGur+T7WZbETahCYjKwBkV1s7bLEAuY1J5r6Gvvhz4a0L9rPwN4L03RbWw8LD4a65YjSrdNsCwPfWIdAvYHc350AaP/DCfwh/6Eu1/wDAm4/+OUf8MJ/CH/oS7X/wJuP/AI5XiPh3Vrzxt8P/AIa/sz6lO13q+k+MptB8Q+Z1m0TRmS7jdh1CzRNpyA9/MYetaH7RWk6H8W/EXxc1fRPhHp+u3PhBXstT8d654tm0qXT7qGyjmLWUaRysnlI8bbh5as2fvZJIB69/wwn8If8AoS7X/wACbj/45R/wwn8If+hLtf8AwJuP/jlek/s0+KtR8cfs7/DLxDrFw13q2qeGtOu7u4f70sz2yM7n3ZiT+NfFVj8OPGf7R2sfFrWbr4d6H4s8RW3irVdF0/xDqXja606+8Pi3kMdrHbQR2zrB5aiOUMrZkLlmyGxQB9Gf8MJ/CH/oS7X/AMCbj/45R/wwn8If+hLtf/Am4/8Ajleb658K7r4jftF/Azw18U5F1nUIPhvfNr8NncuLbU7hJbJZBIV2mSJpD5m04BKrkY4r0/8AZB0uDwXq3xl8C6WZY/DXhnxg0Gj2UkrSLZW81ja3BgjLEkRrJLIVXPG40AQf8MJ/CH/oS7X/AMCbj/45XA/Gr9mn4QfB3wjY64fhxa6sLnWdO0jyP7Rnh2/a7qO38zdubO3zN23HOMZGc1D+0bp/iH4qftaQeBJfBmkfEDw5png+LWLTw34g8QzaVZyzyXcsUt0VjglFwyKkSBXGI95I5fjE8TfD/wAbfDH9mltC8X29np9mnxN0KfQdKs9Xl1Qabp76lZMtr58kaMypJ5u3I4VlGcAUAep6z+xT8GdB0e+1O78GW62tnBJcylbi4JCIpZsDzOTgGs7wH+yP8DviR4J0HxXovg2GTSNasYdQtGmmuEcwyoHQsvmcHBHFe8/Gzw/p/ij4P+NNL1Wyi1CwuNIuhJbTLuR8RMwyPqAfwr5O+GfhH4Y/CD9hHwXrS/D6HVL/AMc6R4e0++sNJmNjPrl/OYhAk1wGXaplkYsxONpcENnaQD1X/hhP4Q/9CXa/+BNx/wDHKP8AhhP4Q/8AQl2v/gTcf/HK8z/Z00vU/hV+2NJ4Mj8FaN8M9J1rwVPq1x4Y0HxFJqls80V7DHFdMjQxCGQrJMh2ghwMnla8U8P/AAd0bw7/AME9PCHxW0m4v9O+JljqVm9h4mhu5PtFmkutramGIFtixeVK2Y9u1iSzAkk0AfW//DCfwh/6Eu1/8Cbj/wCOUf8ADCfwh/6Eu1/8Cbj/AOOVg6X8N/D3wB/bG8BWPgu1m0jT/FvhjWP7bgN1LML2W1ktHhuJfMZi8w82QGQ/MQxyTXzv421K1i8I+Gfjl4C+FVj4Hsr3xNp0+meMrrxdM+tajFNfpG6S2gjYSJNGZcxPMdqEnHy7aAPaviV+yX4Q8I32lL4a+BDeOLOVZJNQks9cW0ltlUoFWNJ5lEsjbmO0sigRt82SFPW+H/2Hvhhf6Dptzq3w7s9K1Sa2jku7CPUZ7hbaYoC8QlDgOFYldwAzjOBmud/4Uj4S+NX7anxptvGentrmkWfh/wAPY0maeRbWSR1vAJXRWAZ0CsFJzt8xiOea848M3d142+E37PPw38S6tfyeCdV8ba74f1aaS8kR763sJL8WFlNKCGKuYIkK5y3lgUAe8f8ADCfwh/6Eu1/8Cbj/AOOUf8MJ/CH/AKEu1/8AAm4/+OVn/BHw3pnwg/a08d/DnwSHs/AjeFdP16bRY5mkttL1F7meIrErE+V5sKI5QYztBxU37S2iWPxL/aG+C/w48VF5vAmrW+s6ld6UZmjh1W8to4PIhl2kF1RZZZdmcMVBIIWgDi/CP7NPwg8VfFz4g+Bx8OLW2PhOHTJjff2jO/2r7XHK+Nm4bNnlY+82d3bFd9/wwn8If+hLtf8AwJuP/jlfPWsSv+z+v7aw+Gl7cxSaDpOgLYKlw876UHt5zIsbsWZRCsjuo52AADhQK7b4Yfs9+N/C/wAQvh54p8I/D/wv4Ds7a8jfXNc03xzdarJrumyRMsizo9qi3DszRyrIzZDJx14APT/+GE/hD/0Jdr/4E3H/AMco/wCGE/hD/wBCXa/+BNx/8cqx/wAFDWK/sX/FQg4I01Dn/tvFXA618NvC3wL+MnwC1z4c3E/9seMNUm0zWphfSTt4isWsJZ5Lu43MfNdHSKQSdt/oQKAO2/4YT+EP/Ql2v/gTcf8Axyj/AIYT+EP/AEJdr/4E3H/xyvl/wb8L/iF+0Z4B8SeMovAOhal8Q77VtUjtfHN544urPVNCu4bqWOGOK2S1YQJBsjAhD4dRlvv8e3jwDafHr9qK/wDC3xggi1tfDHgjSb7T9EFxItlJeXEky3t8iKV3MrxJGr/wgjGCaAOT8K/AL4eeOtA8T3vh74LW2p3uheMrjwtJY/27JFvhguUhmvN7kAbUZpPK5J2bQxJzXrv/AAwn8If+hLtf/Am4/wDjlfOXhmztdP8A2W/FFpY6lNrFjbfHWGC31C4nM8lxGmu2qpI0hJLsVAJcn5ic969d0f4ZeFfj9+0B8dr34kNNc3/hG9s9M0RWv5Lc6FZGxjnF3blWXypJJHkfzev7sAHAIoAo/Af9mn4QfG74U6H41X4cWujjU/P/ANC/tGefy/Lnki+/uXOfLz90Yzjtmu+/4YT+EP8A0Jdr/wCBNx/8cr5v+DtrD48+B/7Ivw+16+nm8CeKL3XZdYjSZrdNUktjcS2tvKykEo7lnMecMYwK+hP2e9BsPhb+038Vvhv4QMkPgOy0fSdXTR1maS30i+nNwskUQYny1ljijl2ZwDyAAaALn/DCfwh/6Eu1/wDAm4/+OUf8MJ/CH/oS7X/wJuP/AI5XN/tbeE9E8eftRfs1eHvEVxJHo2oN4ijuLeO4aD7YBaQOLdmUg7HKgMufnGVOQxFeSfFTRLH4aeBP2xPhx4ULw+BNJ8MafqVppQmaSHSry5hm8+GLcSUV1iil2ZwpYkABqAPf/wDhhT4QZx/whdrn/r5n/wDjlH/DCfwh/wChLtf/AAJuP/jlea/E34J+FvA0PwX8H26XOn6J8Q/EFrZ+NNY+2zC615oLG5ngt7mctuImmJBUEZztGBxVfxB4X0r4N/ED48fDvwOjaf4GuPhRca9c6HFM8lrpuok3MIMSsT5XmxDcUGM+WGx0oA9S/wCGE/hD/wBCXa/+BNx/8co/4YT+EP8A0Jdr/wCBNx/8cr57vPgP4f8ACHwi/ZZ8SaHc6rpPivxRqWhaHruvWuozJd3+n3unyG4tmfd8qYVVQLgxBV2bSAa7rVNPX9mP4rfHTRfhdYHSrBfhUvi+00eFmlgTVY5b6ETRxsThmEUe4D75UZyaAPSv+GE/hD/0Jdr/AOBNx/8AHKq6t+xD8IdL0u8vP+EHtZPs8LzbPtVwN21ScZ8zjpXh3wn+BPj/AFHS/hf468IeB/Deh641xpurX/j1fHd1fX2t2kmxrpbqNrUCYToz/IXwjEbcYrqtN+G3hb4z3H7R3jnx/c3A8WeGPEGp6Vpepm+khk8O2NraxvbSW4DARbgzTFsYcsd2RkUAN+GP7Ofw8+KHg74XeKNO+DNsujeLrA3+pXH9uSH+xVNv5kQ2sVa43viP5QuM7iMV6n/wwn8If+hLtf8AwJuP/jleTfBf/kGfsH/9gbUf/TK1ccPAnh3xd+x78Q/j1r9/dW3xlsrjWtSj8S/b5Eu9JvbS8mS1sohuxHGBFDH5WMMJOnIoA+iv+GE/hD/0Jdr/AOBNx/8AHKP+GE/hD/0Jdr/4E3H/AMcr3bwvrF1eeCdI1XV4vsl5Lp8N1eRbSPKkMQaRcdeDnj2r85vE15BYaF4C+NXgb4U2PgCw1TxTpb6f4suPF0sus6nb3F4qPHPaiNlkSaJpMxvOSq5PVcUAfUf/AAwn8If+hLtf/Am4/wDjlH/DCfwh/wChLtf/AAJuP/jlc1pPwz8L/tGftOfGe0+Jtl/wksfhGbTLDQtBvp5BbWNrNZpM1ykSsFLyytIPMIJHlBQRiun07RrLwp+294X0iyRrfT7b4V3FlZRyytIxSHUrUBd7ks5C7ckkk9ST1oAb/wAMJ/CH/oS7X/wJuP8A45R/wwn8If8AoS7X/wACbj/45Xz38UZYvEH7Mv7Vy2N8UWX4wWlut1bMC0bi60NGKnpuVgfxFd94u/Zv8F+Ff2rPhz4S0a2vtO8K+L9B1aXxNpEeoXBi1xrRrZoGuiXLSNvnLMxOXxtYspYEA9G/4YT+EP8A0Jdr/wCBNx/8co/4YT+EP/Ql2v8A4E3H/wAcr5/8aabb+B/2dv2m/A+mF7fwp4U8b6UdLs5JWdLC2km0y5kiQsTtiVmkYDOBuNfRXxm1C2/4bA/Zzs/OQ3Ri8RzeSGG7Z9hjG7Hpnj8/SgDzf4M/s0/CD4vaBrepj4cWulf2br+paH5X9o3E3mfZLl4PNzuXG/Zu24OM4yetd9/wwn8If+hLtf8AwJuP/jleSaBrmhWXwE1rQta8IzeO7jxN8XNd0fTPD66gbCG6u21C7lUTzA/LEEhkZshs4A2tmsTwNrfin4F+Jf2ifDugeGNN8Cvpfw7Hiex8LaFrkmr2llqCrdBZY98MflO6rEWiVMHYjZO7AAO4+MP7NPwg+E2n+F7o/Di11T+3PEumeHdv9ozw+T9suFh87O5t2zdu28ZxjI6133/DCfwh/wChLtf/AAJuP/jleAeMvgj8PvAfw1/Zm8YeHrqZfEev+OPCUt9qzahLLJ4heaeOaSS43ORK24eYGxlMEDAJB9C0L4S+Df2jPiR+0BqvxTaW71Pw1rx0bS/OvpIf+Ef06OxgliubcBgImdpJZDJ3KdcAigDvf+GE/hD/ANCXa/8AgTcf/HKx/GP7HfwX8EeEdc8RX/geOWx0ixn1CeO3uJmkaOKNpGCgygFsKcZIGe4rZ/Zng1b40fs9/Anxh4s8Ta7Z69p9ut84tLzyF1giOSFPtalSZldNsuMjLYbNeo/tC/8AJAfiX/2LOp/+kslAHxX4f0D4CalD4WvtZ+B3jDwd4f8AE01rBpmv65bj7DI9zj7OGeC8laMSFlAZ1AywyRX0F/wwn8If+hLtf/Am4/8AjlfPvi7wb4k+Gv7KHwh+Jet/EPVPHHhvQF8M6mfAmrWltDaTh2tkijie2jilZ4TIroJWkUmIblbmvvvxl4U0/wAeeENb8NatF52l6xZTafdR/wB6KVCjj8mNAHg3/DCfwh/6Eu1/8Cbj/wCOUf8ADCfwh/6Eu1/8Cbj/AOOV494H8Vah8ZNF+BnwR1iX7TrnhnXLo+NE+9+50CRUh8wd1uJ2sXyeoJqb4ofDmz+DvxA8Z/Er4r/DiH4jeFJ9eXU7fx3Yay/9peH7R3jjhtzaMUIjhfAzA5JByVzmgD1v/hhP4Q/9CXa/+BNx/wDHK8ts/hD+ztefH67+EKeB5l8SW1kbs3jPKLF3CRSNbLJ524ziKaOUrtxsbOe1faniLXrHwr4f1PWtTnW103TbWW8up26RxRoXdj7BVJ/CvzatPiB4u0b4T6H8U7v4Q+NLTXbXxe/xJ1DxIUs/sZ0+43RzxDFwZhGNMdYwDHnMSkgDoAfUf/DCfwh/6Eu1/wDAm4/+OUf8MJ/CH/oS7X/wJuP/AI5X0XZXkGpWcF3aypcW08ayxTRnKujDKsD3BBBqegArzX4ofs6eAvjFr2ma34p0u+udW023ktLW80/Wb7TpI4ZGVnQm2mj3AlFPzZ6CvSqKAOG+GHwQ8DfBqG+Twd4dttHl1Bw95d73nurph90yzys0kmMnG5jjJx1qta/AHwFZ+F/Dvh2HQdmj+H9b/wCEi0y2+2XB8i/8+W487cZNzfvZ5W2sSvzY24AA9CooA88+J/7P/gH4x32n3/ivQPtup6ejR2upWl5cWN3FGxy0Ynt5I5NhPO3dtz2ptj+z38P9M8O+GtCtfDyQ6X4c1dNe0yFbqfMV+u8idn37pGzI5PmFgd3IPFei0UAcP8UPgn4K+M1rp8PjDQ49UfTpGmsrqOeW1urVmGGMU8LpJHuAAO1hnAznArIsf2Z/htp3gO68GQeHMeHrvUYdWubd7+5eWe7hkikjmknaQyuwaCLq5yEAORxXp9eP/tVm4b4T21tb3+oaZ9u8T+HbCa40u9ms7jyJ9Zs4ZkWaFldN0cjqSrA4Y80Aegat4B0LXPGWgeK72x87X9BhurfTrvzpF8iO5EYnGwMFbcIY+WBI28Yyc8LH+yn8K4PHh8Y2/hVbTXGv11Vza391DaveKwcXDWqSiBpNwDbjGSSM9ai/4Za8G/8AQY+IH/hxNf8A/k2j/hlrwb/0GPiB/wCHE1//AOTaAOg1P4C+Ata0Pxlo+oeHIL7TPGF7/aOt21xLK63VyEiQSjLfu2Agix5e3BQMMHmszwB+zF8NPhh4otvEnhzw2bPX7e3mtF1OfULq6uHilMZdZHmlcyD9zHjeTtC4XAJzS/4Za8G/9Bj4gf8AhxNf/wDk2j/hlrwb/wBBj4gf+HE1/wD+TaAO98bfD/QPiJZ6Za+IbD+0INN1K11e1TzpIvLureQSQyZRgTtcA7TlT0IIrO+J3wd8HfGXSbXTvGGhxavBZzfaLWTzZIJ7WXGN8M0TLJG2OMowyK5P/hlrwb/0GPiB/wCHE1//AOTaP+GWvBv/AEGPiB/4cTX/AP5NoAuWP7MPw007wBr/AILi8OM3h7X2V9Uhm1G6lnvGUqVL3DymYkbVx8/bFS/ET9mr4bfFfxND4h8UeGU1HWI7cWbXEd3cW/2i3DFhDOsUirPHkn5JQy8njms7/hlrwb/0GPiB/wCHE1//AOTaP+GWvBv/AEGPiB/4cTX/AP5NoA0bj9mn4a3HwttPh0/hiNfB9nePqFrp8d1OjW1w073BlimWQSxt5ksjAq42hiBheK1/DXwX8IeEtY0PVtO064/tPRNMn0exvLvUbq6ljtJpUlkjZpZGMhLxodz7mG3AIHFcv/wy14N/6DHxA/8ADia//wDJtH/DLXg3/oMfED/w4mv/APybQB02l/BDwRovxa1j4nWWgRQeOtXs10++1cTSlpoFEYC+WW8sHEMQ3KoJCDJNc/4w/ZU+FXj7xhe+J9d8JQ32sXwj+2sLu4igvDGu2Np4EkEUrKAAGdGIwMHgVD/wy14N/wCgx8QP/Dia/wD/ACbR/wAMteDf+gx8QP8Aw4mv/wDybQB6P4O8I6T4B8J6P4a0G0+waJpFpFY2Vr5jyeVDGoRE3OSzYUAZYknua8+8dfsqfC34jeKLvxHrfhgtrV4ipeXWn6jd2BvFUYUXC28qLNgcDzA3AA6VD/wy14N/6DHxA/8ADia//wDJtH/DLXg3/oMfED/w4mv/APybQB2Nj8J/Cel+JdA1+z0eO11TQdJfQtNkhlkVLaxYxkwrGG2EZhjwSpI24BGTV7w34B0LwhrHiPVNIsfsl94ivV1DU5fOkf7ROsSQh8MxC/u4kXCgD5c4ySa4D/hlrwb/ANBj4gf+HE1//wCTaP8Ahlrwb/0GPiB/4cTX/wD5NoA6P4o/AzwP8Zl04+LtCXUrjTWZ7K9guZrS7tSww4juIHSRAwAyAwBwM9Ko6f8As4/DrS/BKeEbbw6I9BXVINbNub24aSS9hkjkjneUyGR2DQxn5mIIQA5HFZX/AAy14N/6DHxA/wDDia//APJtH/DLXg3/AKDHxA/8OJr/AP8AJtAHrkkaTRvHIiyRuCrKwyCD1BHpXkWkfsj/AAn0Pwjr3ha18KsfDWtrGt3pFxqd5PaqI3Lx+RHJMy25VmLAwhMED+6ML/wy14N/6DHxA/8ADia//wDJtH/DLXg3/oMfED/w4mv/APybQBf+Hv7M3w2+FniiPxJ4a8OGy19LSaxOpzX91dXEkMrRM6yPNK5k5hiwXyVC4UgEg3F/Z+8Ap8Jbb4ZDQceB7Z4pItL+2XHytHcrdIfN8zzDiZVflucYPHFYn/DLXg3/AKDHxA/8OJr/AP8AJtH/AAy14N/6DHxA/wDDia//APJtAHe6n8P9A1jxtofi+8sPO8RaJbXNpp9550i+TFceX5y7AwRt3lR8sCRt4xk58wf9iX4KSTXMh8DwhZrlbxYFv7sQW8yzrPvt4hLstyZEUnylTcMqcqxB0v8Ahlrwb/0GPiB/4cTX/wD5No/4Za8G/wDQY+IH/hxNf/8Ak2gDvdL+H+gaL4217xdZWHk+IddgtbbUbzzpG8+O3EggXYWKLt82TlQCd3OcDHNXn7Ovw61L4cy+BLvwxBdeFZL2bUvsM00zlLqWd53mjlL+ZG/myOwZGBXcQuBxWP8A8MteDf8AoMfED/w4mv8A/wAm0f8ADLXg3/oMfED/AMOJr/8A8m0AdR8Lfgr4L+C9jf2vg/RF0sahMLi9uJLiW6ubqQDCtLPM7ySYHA3McZOMZqX4ofB/wf8AGbRbbSvGOipq9pa3C3dswmlt57aZQQJIpomWSNsEjKsDgkVyX/DLXg3/AKDHxA/8OJr/AP8AJtH/AAy14N/6DHxA/wDDia//APJtAG18Pf2evh58K115PDHhi206PXoYrfVY3lluEvUjEgXzFlZgxPnS7mPLlyXLGsXwb+yT8KPh/wCJLDXdB8LNZX2nyNLYxtqd5NbWbEFSYbeSVoouGYfIgwCcUf8ADLXg3/oMfED/AMOJr/8A8m0f8MteDf8AoMfED/w4mv8A/wAm0AQ/tjfD7X/ip+zP498J+F7D+1Nf1SySK0s/Ojh81hNGxG+RlUcKepHStbwL+zP8M/hr4xl8U+HPCsGn640T28dwbiaZbWJzlo7eOR2S3QnqsSoO2MVn/wDDLXg3/oMfED/w4mv/APybR/wy14N/6DHxA/8ADia//wDJtADfF37Ivwl8ceJtR1/VvCQbUdSfzNQ+x6hd2kN82Mbp4IZUjmYjqXVie+a2PiP+zn8O/izPo8/ibw2l3daRE1vZXVrdT2U0UJABh8yCRGaM4GY2JX2rJ/4Za8G/9Bj4gf8AhxNf/wDk2j/hlrwb/wBBj4gf+HE1/wD+TaANPTf2bPhto3g1/Cen+F4bHw42sx+IP7Ot7iaONb5JkmSRcPlVEkSERrhMLjbjimfEH9mf4Z/FPxXD4k8T+FodS1mOBbV7hbmeAXMIORFcJG6rcRgk/JKHXnGKz/8Ahlrwb/0GPiB/4cTX/wD5No/4Za8G/wDQY+IH/hxNf/8Ak2gDTuv2a/hrffC3T/hzceFoJvB+nTfaLKwe4mL2svmPIJIpt/mxuGkchlcEBiAQOK2fhf8AB3wd8GdJu9O8H6LHpMF5Obq7laaW4uLmUjG+WaVmkkbAxlmOB0rk/wDhlrwb/wBBj4gf+HE1/wD+TaP+GWvBv/QY+IH/AIcTX/8A5NoA5z9oL4DN8Z/jb8ILrVPD8eueCtHg1tdYeS4WP7O80MAtmXDrJv8AMiJV4+UKg5Xg12ek/sz/AA00P4a+IPANl4YSLwv4g8w6tbm8uHnvmkADtLctIZmYgAbi+QAADWf/AMMteDf+gx8QP/Dia/8A/JtH/DLXg3/oMfED/wAOJr//AMm0Adr46+F3hX4meDn8K+KNFt9Z0FvLxazlgUZMFHRwQ6OuOHUhh61geDv2c/h34B8K+JPD2ieHFtdO8SRPDrDy3dxPdXyNGYyJbmSRpmwjMB8/y5O3FZP/AAy14N/6DHxA/wDDia//APJtH/DLXg3/AKDHxA/8OJr/AP8AJtAHV3nwd8IX/h/wZok+keZpfg66tLzQ4PtMw+yTWsZigbcH3SbUYjDlgc5IJ5rRX4e+H1+IFx43Gnj/AISe40qPRJb4zSENZpK8yxeXu2cPI53bdx3YJwAK4P8A4Za8G/8AQY+IH/hxNf8A/k2j/hlrwb/0GPiB/wCHE1//AOTaAIdF/Y9+EPh3xLaa5pnhBbK6s71dRtrWHULsWNvcK/mLLHZ+b5CMHAYbYxggGtDxr+y38LfiJ4zm8VeIPCUF/rlwkcd1MtzPFHeLH/q/tEMcixz7RgAyq2ABjoKq/wDDLXg3/oMfED/w4mv/APybR/wy14N/6DHxA/8ADia//wDJtAHSaL8D/BPh2PwHHp+i/Z08CwyW/h4fa52+xRyQeQ4+Zz5mYztzJuPcc81zmsfsk/CTX/HE3i2/8F2s+sz3i6jcD7ROtpcXSkETy2gkEEkmQDveMknnOaT/AIZa8G/9Bj4gf+HE1/8A+TaP+GWvBv8A0GPiB/4cTX//AJNoA9erxCL9ib4Kw3DTR+B4U/0pL2GEX935NrMk6zhreLzdlv8AvEUkRBQwypBUkHR/4Za8G/8AQY+IH/hxNf8A/k2j/hlrwb/0GPiB/wCHE1//AOTaANP4lfs3fDr4ua/a654m8PG51u3g+ypqVjfXNhctDnPlPJbyRs6ZJOxiRyeOaXxp+zf8OfiDovhjS9b8OLLa+GYvs+jtaXlxaTWUXlrGY0mhkSTYURAVLYbaMg4rL/4Za8G/9Bj4gf8AhxNf/wDk2j/hlrwb/wBBj4gf+HE1/wD+TaALtj+zB8MNL8A614KsvCkNl4W1nU4dYvdMtrmeOOS6iNuY5FKyAoAbS3+VCFOzkHc2ew1P4f6BrHjbQ/F95Yed4i0S2ubTT7zzpF8mK48vzl2BgjbvKj5YEjbxjJzwX/DLXg3/AKDHxA/8OJr/AP8AJtH/AAy14N/6DHxA/wDDia//APJtAHV/8Ka8GND42hk0GG4g8aSebr8NzJJLHfN5KwfMrMQo8tFXCBRxnrzXMeBf2UfhX8N/Eej+IPD/AIXNrrekiVbLUJ9Ru7meJJI/LaMvLKxZAhIVGyqbiVCkk1H/AMMteDf+gx8QP/Dia/8A/JtH/DLXg3/oMfED/wAOJr//AMm0Aaurfs4fDnXPBV94TvvDUdxoN7q82vSW7XU4db+WZpnuI5Q/mROXdiDGy7dxAwOKX4efs5/Dv4U63d6x4X8Npp2qXlium3d291PcSXMCyPKBKZZG8x90jZkbLkYUttVQMn/hlrwb/wBBj4gf+HE1/wD+TaP+GWvBv/QY+IH/AIcTX/8A5NoAoaT+xX8F9C1ax1Kw8EQ291p+oQ6pY7b+6MdlcRTLOjW8Zl2Qr5iKxjjCo20BlI4rY+JH7LPwt+LXiR9f8U+FI9Q1aaFLa5uIby4tftkS/djuFhkRZ1HQLKGGOOlVv+GWvBv/AEGPiB/4cTX/AP5No/4Za8G/9Bj4gf8AhxNf/wDk2gDsta+E/hPxBeeELm90aIyeEbgXWhrBI8EdlIIjCNqRsqlRGxUKwKgdBwK3fEWg2Hirw/qeiarB9q0zUrWWzuoN7J5kMiFHXcpDDKsRkEEZ4NeYf8MteDf+gx8QP/Dia/8A/JtcH8ZvgzpHwx8OaB4g8P6/44g1KLxb4ctgbvxxrN3C8U+s2cMyPDNdPG6tHI6kMpGGoA6zwz+xZ8HvCeqaNf2fha6u5dFkjl02HVtc1DUbe0dBiNo4bm4kjVl42kLlcDGK9voooA4bw38EPBHhD4meJviDpGgRWXjDxJHHFqmpLNKxuFQKFAQsUT7i52Ku4qC2TzXL337Ivwl1TxbceI7zwmLrULi/OqTQzajdtZS3Rk8wzPaGXyGbed2TH15r2GigDB8d+B9F+Jfg/V/C3iO0e+0LVrdrW9tUuJYDLE33k3xsrgEcHBGQSOhq1qHhjStU8MXPh26sYpdEubNtPlssERtbshjaPjoNpI4rUooAyfCfhfTfA/hfSfD2jQPa6RpVrFZWcEk0kxjhjUIi75GZmwoAyxJ461rUUUAFFFFABRRRQAUUUUAFeQftS/8AJNdH/wCxz8K/+n+wr1+vIP2pf+Sa6P8A9jn4V/8AT/YUAev0UUUAFFFFABRRRQAUUUUAFFFFABRRRQAUUUUAFFFFABRRRQAUUUUAFFFFABRRRQAUUUUAFFFFABRRRQAUUUUAFFFFABRRRQAUV80WN98U/FvxU+I954P8V2kVpomoxWUWh6xAZLSYCIbgHX5ozkfw9S3JFdNb/tJXHg+4jsvih4R1HwXMzbBqsKm802Q+olQErn+7g47mvTll9XRU2pOydlurq+3X5XPKjmNJ3dROKu1d7OztutF87HuNFZnh/wATaR4s05L/AEXU7TVbN+k9nMsq/QkHg+xrTrzZRcXZrU9SMlJXi7oKKKKQwooooAKKKKACiiigAooooAKKKKACiiigAooooAKKKKACiiigAryD9qX/AJJro/8A2OfhX/0/2Fev15B+1L/yTXR/+xz8K/8Ap/sKAPX6KKKACiiigAooooAKKKKACiiigAooooAKKKKACvIP2pf+Sa6P/wBjn4V/9P8AYV6/XkH7Uv8AyTXR/wDsc/Cv/p/sKAPX6KKKACiiigAooooAKKKKACiiigAooooAKKKKACiiigAooooAKKKKACiiigAooooAKKKKACiiigAooooAKKKKACiiigAooooA8S/Zl/0y4+Kep9ftXjO/RD6omwL/ADNe0XFtFeW8kE8STwyKVeORQysD1BB6ivF/2Qv9I+E0+pdf7S1m+u93rmYrn/x2vba9DH6Yqa7O33aHm5frhKb7q/36nj3iD9lzwheag+q+G3v/AAJrZ5F74cuDbgn0aL7m32AGazd3xv8Ahr1XSvinpEfdcafqQUf+Q24+rGvc6KSxtVrlq2mv72v47r5McsDST5qV4P8Au6fhs/mjh/hb8XNH+Kmn3bWcc+m6tYSmDUNHvl2XVnICRh19Dg4I9D0IIHcV5J8Wvg/e6trEHjfwPcpo3j6wTCyHiDUoh1t7gdwQMBj049AV2vhF8YLH4oafcwS20mjeJ9NbydV0O54mtZBwSAfvIT0b8+aKtGEoe3ofD1XWP+a7P5PUKNecJ+wxHxdH0l/k+6+a029BorD8ZeNtD+H+hzax4g1KHTNPi6yTHlj2VVHLMfQAmvFzq3xK/aEBl8Pz3Hwy8FY3W+pTxZ1LUD1VlTI8uPOD1BI7kHAijhpVVzyfLFdXt8u78ka1sVGk/ZxXNN9Fv8+iXmz6Eorxj4c/GLVdJ8RReAviZDFpXizG2x1OP5bPWEHAeNuAsh4ynHPQAnaPZ6yrUZ0Jcsvk+jXdGlCvDER5ofNdU+zQUUUVgdAUUUUAFFFFABRRRQAUUUUAFFFFABRRRQAV5B+1L/yTXR/+xz8K/wDp/sK9fryD9qX/AJJro/8A2OfhX/0/2FAHr9FFFABRRRQAUUUUAFFFFABRRRQAUUUUAFFeNeF/2p/DHirxJo9hBo/iCz0TXL6bTdF8U3lpGml6pcxCQmOFxIZBuEUpRpI0WTYdhbjPpXjXxlpfw/8ACupeIdZnaDTrGLzJCiF3ckhVjRBy7uxVVQcszKByRQBt15B+1L/yTXR/+xz8K/8Ap/sK6/4R/E7TvjJ8O9H8Y6VZX2nWGprI0drqaIlxEUleNlcI7qDuRujGuO/akmT/AIVvo6b13/8ACZ+Fflzz/wAh+woA9hooooAKKKKACiiigAooooAKKKKACiiigAooooAKKKKACiiigAooooAKKKKACiiigAooooAKKKKACiiigAooooAKKKKACs/xBff2XoOpXmcfZ7aSbP8AuoT/AErQrjvjJff2b8I/Gt1nDR6LeMv+95L4/XFa0o89SMe7RlVlyU5S7JnJfslWP9n/ALPPg+PGC8M0x/4HPI/8mr16uD+Atj/Z3wU8DQ4wf7GtZCPd4lc/q1d5W2Mlz4mpLvJ/mYYKPJhaUe0V+QUUUVyHYFeVfFv4OXHijUrTxd4RvU0Dx9poxb32MRXcfeC4A+8hHGcEivVaK2o1p0J88H/XZ+RhWowrw5JrT8vNdmeMeDvgHcalrsPi34m6kni/xOh3W9ntxp2nd9sMR4Yj+8w7A4yN1ez0UVVavUru83tsui9F0FRw9PDxtBb7vq/Nvqcv8RfhtoPxS8OS6Nr9p58BO+KZDtmt5O0kbfwsPyPQgjivJdF+J2ufATUofDHxQuZL/wAPyHZpPjNY2ZZABxDdAZKyYH3uc45zy1fQVQ3lnb6hbvb3UEdzbyDDxTIHVh6EHg1rRxHLH2VVc0O3VPun0/J9TGthnKftqT5Z9+jXZrr+a6GV4b8beH/GVv52ha3p+sR4yTZXKS7fqFOR+NbdeU+JP2Xvht4kuPtQ8Ox6Nfg7ku9FkazdD6gRkLn6qa5nVPhz8SfhNbrq3gzxjqfjaxtG3zeGfETLNLcRd1iuMbg4HQYH4/dOio4eq7Uqln2krfirr77GTr4mir1ad13i7/g7P7rnvlFcb8L/AIq6H8WNBOoaRK8dxC3lXun3A2XFnL3SROxyDz0OD712VcVSnKlJwmrNHfTqQqxU4O6YUUUVmaBRRRQAUUUUAFFFFABRRRQAV5B+1L/yTXR/+xz8K/8Ap/sK9fryD9qX/kmuj/8AY5+Ff/T/AGFAHr9FFFABRRRQAUUUUAFFFFABRRRQAUyaPzonTcV3KV3L1Ge4p9FAHxZ8P/D/AInvvAPwN+EE3g7X9N1vwJrtjPrWrXWnSRaWltp4kxNDdEeXMbgiIKkZZgJW3hdpr13xt4Y8ZfHJfh/4u8L31t4RtdJluL5vDvjrw9PMz3QPlwTywx3ULK8QErIGZlzKr43KhX3aigDwb9iTw34w8J/s96Jp3jOOG2v47m8aGzXTZrKaCJrmRsSpLI5ZixZwwCjY6DBwWbH/AGmvgx4AsdN0nxpbeCPDtv4wbxt4XkbxBFpcC35Z9csUdjOF35KkqTnkEivpGvIP2pf+Sa6P/wBjn4V/9P8AYUAev0UUUAFFFFABRRRQAUUUUAFFFFABRRRQAUUUlAC0UUUAFFFFABRRRQAUUUUAFFFFABRRRQAUUUUAFFFFABRRRQAUUUUAFeW/tRX39n/AHxpLnG6yEP8A33Iqf+zV6lXif7YjtJ8C9UsFOG1C8srUfU3CN/7LXdgY82KpL+8vzODMJcuEqtfyv8j1HwRY/wBl+C9As8Y+z6fbw4/3Y1H9K26aiCNFRRhVGAPanVxylzScu52xjyxUewUUUVJQUUUUAFFFFABRRRQAUUUUAeQfFD4MXt1rw8c+ALuPQfHUC/vMjFrqkY6xXC9CTgYbr0z0BXR+F/x10nx0s2l6ui+F/GNk4hvtB1CQJKsn96LOPMQ9QR6j1BPp1cb47+Dvgv4mMr+JfD1nqc6p5a3LAxzBeu0SIQ2OTxnvXoRxEKkFTxN3bZrdeXmvnp0Z508PUpTdXDWV909n5+T87a9V1Oyorw//AIZnufDfzeBviJ4m8K7fuWc04vrNfTEMmP1JqqvxO8b/AAX1yztPihJZax4WvmEMPirTLYxC2mJwFuYxwob+8Bge/OH9UjU/3eopPtZp/wCT9E7i+uSpf7xTcV3unH7916tWPeqKjgnjuoY5oZFmhkUOkkbBlZSMggjqCKkrzj0gooooAKKKKACiiigAryD9qX/kmuj/APY5+Ff/AE/2Fev15B+1L/yTXR/+xz8K/wDp/sKAPX6KKKACiiigAooooAKKKKACiiigAooooAKKKKACvIP2pf8Akmuj/wDY5+Ff/T/YV6/XkH7Uv/JNdH/7HPwr/wCn+woA9fooooAKKKKACiiigAooooAKKKKACuH+NfxDk+Ffwx1zxPDBHdXNkiCCGYna8jyLGoOOcZbPHpXcV4j+1F/xOLDwF4XHzf254os4pl9YEJeQ/h8tdmDpxqYiEZ7X19Fq/wADixtSVLDzlD4raer0X4kcfgT41eMI0fXfiFpvhSCQBns/Dmm+Ywz/AA+bKdykexNNuP2RfDesW8ja/wCJPFXiLUiMx3+oaqzPbydnjUAAEHkA5Fe6UVr9frx/htR/wpL8tfvMv7PoS/iJz/xNv8G7fcjwHR/iZ4l+BuqW3hz4oStqfh6ZxDpvjaNDsP8Adjux/A+P4+/U55Ye9W9xFdQRzQSJNDIodJI2DKykZBBHUEVW1jRrHxDpdzpup2kN/YXKGOa3uEDo6nsQa8COn6r+y/4q0G2sNRbUvhjrupx6cNPvnZpdHmlztMcneLIOQen1O43y08b8K5anbpL07Py2fS2xnzVMDpN81Pv1j69157rrfc+iqKKK8s9YKKKKACiiigAooooAKKKKACiiigAooooAKKKKACiiigArxL9qj/StF8A6YOTqPjHTbcr6rlyf5Cvba8S+Pn+m/Ej4Nab18zxA13j/AK4x7s/+PV6GA/3iL7Xf3Js87MP92ku9l97SPbaKKK889EKKKKACiiigAooooAKKKKACiiigAooooAKp6xo9j4g0u603UrSK+sLqMxTW86hkdT1BFXKKabTuhNKSsz50iuNY/ZS1JYLlrrXPhHcy7Yrg5luNAZjwrd2gJPXt9eH+gtO1G11ewt72xuIruzuEEsM8LhkkUjIYEcEEU+8s7fUbSa1uoI7m2mQxywzKGR1IwVIPBBHavnq8sdV/ZU1aS/02O51j4TXcu+6sFzJPoTseZI+7Qknkdvry3qaY7yq/+lf/AG35+u/k65f50v8A0n/7X/0n02+i6KpaLrVj4i0q11PTLuK+sLqMSw3ELbkdT0INXa8tpp2Z6yakroKKKKQwooooAK8g/al/5Jro/wD2OfhX/wBP9hXr9eQftS/8k10f/sc/Cv8A6f7CgD1+iiigAooooAKKKKACiiigAooooAKKKKACiiigAryD9qX/AJJro/8A2OfhX/0/2Fev15B+1L/yTXR/+xz8K/8Ap/sKAPX6KKKACiiigAooooAKKKKACiiigArxHx7/AMVF+1J8NtK+9Houm32sSp/10HkoT9GXivbq8R8B/wDFRftSfEjVfvR6Lpljo0T/APXQec4H0Zea9DB+77Sp/LF/j7v6nnY33vZU/wCaS/D3v/bT26iiivPPRCvN/wBorwe/jj4M+J9PhUm9itje2pT7wmhIkUL6E7dv/Aq9IpGAYEEZB4INa0ajo1I1I7pp/cY1qarU5UpbSTX3nLfCzxgvj/4c+HfEKkF7+yjll29BLjEi/g4YfhXVV4d+zKT4Vm8d/D2Q7T4a1mR7SM9rO4zLD/7Mf+BV7jW2LpqlXlGO269HqvwMcHVdahGUt9n6rR/igooorkOwKKKKACiiigAooooAKKKKACiiigAooooAKKKKACvEviX/AMTD9pr4P2nVbO31W7YfWAKp/MV7bXiWqf8AEw/bE0SHqNP8ITXX0L3Jj/wr0MFpOcu0ZfjFr9TzsdrCEe8o/hJP9D22iiivPPRCiiigAooooAKKKKACiiigAooooAKKKKACiiigApk0MdzDJDNGssUilHjdQVZSMEEHqCKfRQB87atourfsu6xca94dt59W+GF3KZdU0OLLy6QxPM9uP+ef95e305HsOk/FLwfrljb3dl4n0maGdBIn+mRq2CMjKk5B9iMiumdFkRkdQyMMFWGQR6V5vdfs2fDC8kd5PBOkhmOT5cRjH5KRivSdejiEniL8y6q2vre2vn16nlqhWw7aw1uR9HfT0avp5dOh3MPiTSbn/U6pZS/7lwh/ka0FYMoIOQeQRXkk37JvwmuM7vBtsP8AcuZ0/lIKzG/ZX0vQ2Mngvxb4o8FMDlbex1BpbX/gUUmd34tU+zwktI1GvWOn4Sb/AAL9pjI6ypRfpLX8Ypfie30V4f8A2H8ePCH/AB5eI/Dfju1X+DVrNrG4YeimL5c+7GvbYfMMMfmhRLtG8J03Y5x7Vz1qKpWampJ9v8mkzoo1nVunBxa7/wCabX4j68g/al/5Jro//Y5+Ff8A0/2Fev15B+1L/wAk10f/ALHPwr/6f7Cuc6T1+iiigAooooAKKKKACiiigAooooAKKKKACiiigAryD9qX/kmuj/8AY5+Ff/T/AGFev15B+1L/AMk10f8A7HPwr/6f7CgD1+iiigAooooAKKKKACiiigAooooAK8R/Zd/4nFj4+8UNz/bnii8lhb1gQhIx+HzCvUfHmvDwt4I8Qazu2/2fp9xdA+6Rsw/UVxf7MOgnw78BfBtsVw81n9sbPU+czS5P4OK9Cn7uEqS7uK/Nv9Dzqnv4ynH+VSf5Jfqeo0UUV556IUUUUAeHeJP+KD/ao8NaqP3dh4w0qXSZz/D9pgIkjY+5Xag/Gvca8a/as0m4f4Yx+JNPTdqnhXULfW7fHX924DjPptYk/wC7XrGi6tb69o9jqdm/mWl7BHcwv6o6hlP5EV6GI/eUKVX1i/lt+DS+R5uH/d16tH0kvnv+Kb+Zdooorzz0gooooAKKKKACiiigAooooAKKKKACiiigAooooAK8S8N/6f8AtdeMJ+v9n+G7S0+nmSCTH6V7bXiXwl/0/wDaG+NN+eVjk0u0T22W7bh+YFehhdKdaXaP5yijzsXrUoR7y/KMme20UUV556IUUUUAFFFFABRRRQAUUUUAFFFFABRRRQAUUUUAFFFFABRRRQAUUUUAFFFFABXkH7Uv/JNdH/7HPwr/AOn+wr1+vIP2pf8Akmuj/wDY5+Ff/T/YUAev0UUUAFFFFABRRRQAUUUUAFFFFABRRTJo/OidNxXcpXcvUZ7igDx3wv8AtT+GPFXiTR7CDR/EFnomuX02m6L4pvLSNNL1S5iEhMcLiQyDcIpSjSRosmw7C3Ge1+IHxAufA/8AZ6Wfg7xJ4xubwviDw/BA3lBNuWkknmijTO4YBfLYOAcGvlz4f+H/ABPfeAfgb8IJvB2v6brfgTXbGfWtWutOki0tLbTxJiaG6I8uY3BEQVIyzAStvC7TXq3xg/aE8QaP8OfDl74U8EeLodZ8TzSW6TXXhe9vW0CNDh7m8trZJJM4wY4uPMJGSqhiAD1P4Z/EjSPit4Vj17R1uoIftE9ncWd/CYbm0uYZGimglQ/ddHRlIyRxkEgg1xX7Uv8AyTXR/wDsc/Cv/p/sK1v2e9J0DQ/hhY2fh2LXharPPLc3XifTLmw1C9u5JGluLmaO4jjctJI7vu2hecLwAB5r+018I9DsrHSfF8d94kbVW8beGJDby+JtRksMtrlihxZNObcDBOB5eAcEYIBoA+k6KKKACiiigAooooAKKKKACiiigDx/9rPVpNN+BHiGC35u9RMGnwqP4mlmRSP++d1eo6DpMeg6Hp2mQ/6qyto7ZMf3UUKP0FeQftF/8TvxV8JvC45F/wCJY76RP78VqhdwfbDivbq9Cr7uFpR7uT/JfozzqPv4urLsox/N/qgooorzz0QooooAo65o9v4i0TUNKvF32l9byW0y+qOpVh+RNeU/sp6xcT/C3/hH9Qbdqvha/uNDuQeuYn+Tj02MoH+7XsleHeFv+KD/AGpfFWjn93YeL9Mh1i2H8P2iEmOVR/tEbnP4V6FD95Qq0u1pL5aP8G38jzcR+7r0q3e8X89V+KS+Z7jRRRXnnpBRRRQAUUUUAFFFFABRRRQAUUUUAFFFFABRRRQAV4l+zr/pviz4wal18zxZPabv+uKhf/Zq9trxL9k3/SPBPifUuv8AaXijUbvd65dVz/47XoUdMNWf+Ffjf9Dzq+uKor/E/wALfqe20UUV556IUUUUAFFFFABRRRQAUUUUAFFFFABRRRQAUUUUAFFFFABRRRQAUUUUAFFFFABXkH7Uv/JNdH/7HPwr/wCn+wr1+vIP2pf+Sa6P/wBjn4V/9P8AYUAev0UUUAFFFFABRRRQAUUUUAFFFFABRRRQAUUUUAFeQftS/wDJNdH/AOxz8K/+n+wr1+vIP2pf+Sa6P/2OfhX/ANP9hQB6/RRRQAUUUUAFFFFABRRRQAUUUUAeI65/xUX7XXhq0Hzx+HfDlzqBPZZJ5PJx9duD9K9urxH4S/8AFQftAfF3Xj80VrJZaNbn08uImUf994P417dXoYz3ZQp/yxj+K5vzZ52B96M6n80pfg+Vfggooorzz0QooooAK8S/afs59B0vwz8RbCJnvvB+pJczBB80lnKRHOn4gr9BmvbazvEWh2nijQdR0e+TzLK/t5LaZfVHUqfxwa6cNV9jVjN7dfR6NfccuKo+3oyprR9PJrVP5MtWN7BqVnb3dtIs1tcRrLFIvR1YZBHsQRU9eN/sua7dyeAbrwnqr7ta8IXsui3GerRof3Lj/ZKYUeuyvZKWIpewqyp9vy6P5orD1vrFKNXuvufVfJhRRRXOdAUUUUAFFFFABRRRQAUUUUAFFFFABRRRQBDeXK2dpPcP9yJGkb6AZrx79j22aH9nzw3NJ/rbp7q4f3LXMuD+QFehfEy+/sv4ceK7zOPs+k3c2f8Adhc/0rm/2b7H+zvgT4Iixjdpkc3/AH3l/wD2avQjpg5+co/gpf5nnS1xsPKMvxcf8j0miiivPPRCiiigAooooAKKKKACiiigAooooAKKKKACiiigAooooAKKKKACiiigAooooAK8g/al/wCSa6P/ANjn4V/9P9hXr9eQftS/8k10f/sc/Cv/AKf7CgD1+iiigAooooAKKKKACiiigAooooAKKKKACiiigAryD9qX/kmuj/8AY5+Ff/T/AGFev15B+1L/AMk10f8A7HPwr/6f7CgD1+iiigAooooAKKKKACiivLf2kfGlz4P+F97BpmW17XJE0bTI0OGaec7cj3C7iPcCtqNJ1qkacd2zGtVjQpyqy2SuXNE/aK+GniG8ktbPxnpYnRzHtuZfs+5gcfKZAob6jOe1egQ3kF1brcQzRywMNwljYMpHrkcV59oHwD8F2HgTRfDmp+HdL1ddPtUgNxc2iNI74y7hiNwLMWPB71zF9+yN4LjaaTw5e694MmlB3NoeqSIrZ65Vy2R7DFdsoYKUmozlH1Sf5W/JnDGeOjFOcIyfk2vzun96F/ZJU6j8PNY8SsPn8Sa/f6puPUhpNg/DMZr22ud+Hngiy+G/gvSfDWnySTWmnQ+Ukk2N7kkszHHGSST+NdFXNiqirV51I7N6enT8DpwlKVHDwpy3SV/Xr+IUUUVynWFFFFABRRRQB4Xqn/Fs/wBqLT78futH8eWP2Kc9FF/bjMbH3ZCFHqWNe6V5R+014TufEnwrvL7TMrrnh+aPW9PkUZZZYDuOPUlN4A9cV3XgXxZbeO/BujeIbPHkalax3AUHOwsPmQ+6nKn3FejX/e0Kdbqvdfy2/DT5Hm4f9zXqUOj95fPf8dfmbtFFFecekFFFFABRRRQAUUUUAFFFFABRRRQAUUUUAec/tF339nfAvxxLnG7S5of++xs/9mrf+F1j/Zfwz8I2eMfZ9ItIsf7sKD+lcB+2Bdtbfs9eKETmW4NrAg9S1zFkflmvXtPtVsLG2tl+7DGsY+gAH9K9CWmDj5yl+Cj/AJnnR1xs/KMfxcv8ixRRRXnnohRRRQAUUUUAFFFFABRRRQAUUUUAFFFFABRRRQAUUUUAFFFFABRRRQAUUUUAFeQftS/8k10f/sc/Cv8A6f7CvX68g/al/wCSa6P/ANjn4V/9P9hQB6/RRRQAUUUUAFFFFABRRRQAUUUUAFFFFABRRRQAV5B+1L/yTXR/+xz8K/8Ap/sK9fryD9qX/kmuj/8AY5+Ff/T/AGFAHr9FFFABRRRQAUUUUAFeFXP/ABdT9p6GD/W6F8P7TzpO6vqNwPlHvsQZ9mU+teseOvF1p4D8G6z4hvj/AKNp1q9wy5xvIHyoPdmwo9yK4T9mfwjd+HfhpDqurDd4g8Szya3qMjDDGSY7lX2wm3jsS1ejh/3NGdfr8K9Xv9y/NHm4j99Wp4fp8T9Fsvm9fkz1iiiivOPSCiiigAooooAKKKKACiiigBrosiMjqGVhgqwyCPSvAfgHr1h8MfEXi/4W6tqFvYnStSa50SO6mWMzWdx+8VI9x+YqSc47tX0BXJ+OPhT4Q+JMQXxL4fstVdV2LPJHtmRfRZVw6jnoDXbh6sIxlSq35ZW23TWz/NfM4sRRqSlCrStzRvvs091+T+R1lFeG/wDDO+u+C/3nw6+ImsaDGvK6Vq2NQsv91VflB78mtn4UfErxLfeNNd8C+OrbTbfxPplvFewXGllxBfWz8GRQ/IKtgH3PQYqpYaLi50ZqSW+6a+X+TZEcVJTVOvBxb0T0ab9f80j1miiiuA9AKKKKACiiigAooooAKKKKACiiigDxL9rT/SPAPh/Tev8AaXiTT7Tb65ctj/x2vba8S/aO/wBN8SfCHTeol8X2t0V9RCrE/wDoVe216FbTDUV/if42/Q86jriqz/wr8G/1CiiivPPRCiiigAooooAKKKKACiiigAooooAKKKKACiiigAooooAKKKKACiiigAooooAK8g/al/5Jro//AGOfhX/0/wBhXr9eQftS/wDJNdH/AOxz8K/+n+woA9fooooAKKKKACiiigAooooAKKKKACiiigAorzfw/wDtFfDzxV42HhPTPES3OsvPPbQA2lwltdTQZ86KC5aMQzSR7W3JG7Mu1sjg43fiH8UfDPwr020vvEuotZx3lwLS0gt7Wa7ubqYqW8uGCFHkkbarNhFOApJ4FAHV15B+1L/yTXR/+xz8K/8Ap/sK9B8D+OtB+JHhm18QeG9Sj1XSLousdxGrKQyMUdGVgGR1ZWVlYBlIIIBFefftTEL8M9HJ4H/CZ+Ff/T/YUAev0UxZkY4V1J9AaQzxqSDIoP1FAElFMaRFwS6gHpk9aVZEYEhlIHXB6UAOoqMTxk4Eik/7wrynxx+0n4Z8N6odC0OO48a+KTlV0jQx5pQ/9NZBlUA79SO4ralRqV5ctON/669jCtXp0I81SVv66dzF/aAY/EHxp4J+F0BLW+pXI1fWlXtYwHIVvZ3GB7qK9zVQihVAVQMADoK8g+DvgjxFH4s8SfEHxvBaWOv62kNrbafbT+cthaoP9Vv6FmYAnBIyue+B66sqOcK6sfY5rpxUoxUKEHdRXTq3v+i+Ry4SMpOdeas5PS+6itF+r+Y+io/tEX/PRP8AvoU5pEj4ZlU+5xXAeiOopokQqWDKVHU54pFmjY4DqT6AigB9FMM0anBkUH6ilaRFUEsoB6EmgB1FNWRGztZWx1waaJ4zwJFJ/wB4UASUUxpkQ4Z1U+hNHmJt3b12+ueKAH0UxZUc4V1Y+xpPPj/56L/30KAJK8N/aOtpfBOreE/ipYxs0nh26FrqixjJl0+Y7HyO+1myB2LE9q9vaRExudVz6ms7xFoth4s8P6lpF+qzWF9bvbTrkfcdSDz2PNdOGrKjVU3qtn5p6P8AA5cVRdek4R0e68mtU/vL9tcxXlvFcQSLNBKgkjkQ5VlIyCD6EVLXi/7MPiS5TwtqXgbWJ1k17wbdtpchJ5lt+Tbygf3SnA9kFeytNGpwXUH0JFLEUnQqyp72/FdH80Vh6yxFKNRK1/wfVfJ6D6KaZEVQxZQD0OaRZEfO11b6Guc6B9FR/aI/+ei/99ClaVEOGdVPuaAH0U3zE27ty7fXPFIsyMcK6sfQGgB9FRmeMHBkUH/eFOaRFxuZRnpk0AOopqyIwJDKQOpB6UgmjYgCRSfqKAPFfi//AKd+0B8FNPHIE+p3bj08u3UqfzzXtteIeKpEvf2tvBMBdf8AiX+H7y7wT08x/LzXtnmIFDF1Cnoc8V6GK0p0Y/3fzlJnnYXWpXl3l+UYofRTFkR+FdWPsc0n2iL/AJ6J/wB9CvPPRJKKY0qIcM6qfc4pfMQqWDKVHfPFADqKYs0bNhXUn0BoM0akgyKD9RQA+imtIigEsoB6EnrQsiNkqykDrg0AOoqMTxk4Eik/7wpWmRThnVT6E0APopvmJt3bl2+ueKRZUc4V1Y+xoAfRUf2iP/nov/fQpzSIn3mVfqaAHUUwSIylg6lR1OeKFmjY4DqT6AigB9FMaaNTguoPoSKDIiqCXUA9DmgB9FNWRHztZWx1wab58f8Az0X/AL6FAElFMaVEOGdVPuaXzE27ty7fXPFADqKYsyOcK6sfQGk8+McGRQf94UASV5B+1L/yTXR/+xz8K/8Ap/sK9daRFxuZVz0ya8h/aikWT4aaPtYN/wAVn4V6HP8AzH7CgD2CiiigAooooAKKKKACiiigAooooAKZMrPE6o2xypCtjOD60+igD4P+G+vafrXww/Z3+FFgWPxL8J+JbCXXtGEbfadLFkJ/ttzPkfIkg3KrniT7Qu3duNeq/Er4oeFpfiV8EPi0+rR/8K1ig1yxk1+aN47W0uZ0gWCWUuo8pT9muYt7ADMgGfmGfpuigDwz9k0nUtF+IniS1ikj0DxJ401DVtGeSMxie0ZIYvPVSAdkssU0inHzBw38VcV+2L+z54R8VeCWvdVl8SXyaz4q8PWd9p8ninU/sEsNxrNlDKgtPtHkqCjtjag2nDLhgCPqivIP2pf+Sa6P/wBjn4V/9P8AYUAYXwk/YT+CHwL8b2ni/wAE+DG0bxDaxyRQ3Z1W9uNqyIUcbJZmU5UkcisTxd/wTf8A2ePHnivWfEuueAWvda1i9m1C+uf7a1CPzZ5XLyPtWcKuWYnCgAZ4Ar6XooA8Z+Kn7Hvwk+NXhvwjoPjLwq2r6V4TtjaaPANSu4Ps0RSJCu6OVWf5YYxlyT8vucnwz/Y9+Enwd8I+L/DHhHwq2laJ4stjaazanUrub7TEY5I9u6SVmT5ZZBlCp+b1Ar2aigD89fCv/BOv4Na1+0j4ls9F0S58OaP4NFhKkVjqN1JJPPLH5oLSSyvgAgjAHI9Ote5+Kv8Agm/+zv401h9V1f4fC4vpESNpI9Xv4QwRQq5VJwM4AycZPU811XwB/wCJh8RvjLq3XzPEK2O7/r3j24/DdXtteljZOMlRjpFKOnnyq7fd3vqzy8DFTi68tZNy18uZ2S7K1tEeM6z+x78JPEHwX0b4T3/hVp/AOj3P2uy0n+0rtTFLulbd5olEjczSHDMR83sMRfBH9jP4Qfs5+KLzxD8PvCbaDq93ZtYTXB1K7ud0DOjlNs0rqPmjQ5Azx15Ne10V5p6h8r3X/BL/APZpvLyW6m+HTvPLIZXb+3dRGWJyTgXGOteg/HD9jz4SftHa9p+tfELwq2v6lYW32O3mGpXdtsi3l9u2GVAfmYnJGea9nooA8Z8M/se/CTwf8HvEHwt0jwq1p4F165a71HS/7Su3M8pEQLea0pkXiCLhWA+X3OcH4W/sC/Ar4L+PNL8ZeDvBLaT4j0wyG0vDq99P5fmRPE/ySTMhykjjkHrnrivoSigD5v8AHn/BO39n/wCJnjHV/FXiPwI2oa7q1w11eXX9s38Xmyt1bYk4VfoABXVfEL9j74S/FTwD4R8F+J/Cral4a8JwLb6PZDUruL7NGsaxKN8cqu/yIoy5Y8Z617NRQB4z8I/2PfhJ8CdN8T2Hgjwq2jWnia2W01WM6ld3H2iJVkULmWVinEsnK4PzewrifDP/AATX/Z08H+JNK17Sfh+1rqul3cV9aT/23qD+XNE4dG2tcFThlBwQQccivpyigDwf4wfsN/BT49eNJfFnjnwc2ta/JDHbtdDVby3zGgwo2RTKvAPXGa0pv2PvhLcfBO3+EcnhVm+H0FybuPSf7SuwRKZGl3ed5vm/fZjjfjnHSvZqKAPDfgz+xL8Gf2ffF7+KPAXhBtD1x7V7Nro6peXGYXKsy7ZZnXkovOM8VyGtf8EzP2b/ABFrF/quofD1p7++uJLq4l/tzUV3yOxZmwLgAZJPAGK+oaKAPGfjN+x78Jf2gZNCfx54VbXG0O2NpYEald2/kxHblf3UqbvujlsnijwT+x98Jfh18MvFHw+8P+FWsPCPibd/aun/ANpXcn2jcgQ/vHlLp8oA+VhXs1FAHw5ffsY/B79mH4+fDLx54b8JtpukG8bTpXfU7uYWd3IrCCfMkrZByykNlQFzjPNetfEj/gn38Bfi5431Xxf4r8DtqniHVJFlu7saxfQ+YwRUB2Rzqo+VQOAOles/FzwBD8T/AIc654cl2rJdwH7PI3/LOdfmib8HC59sisj9n/x9P8Q/hjpt5f7k1uxLabqkcn30uoflfd7sNrf8CrvnGNTDRqRWsXZ/PVP818kefCUqeJlSk9JK6+WjX5P5swPGX7Hvwk+IHwt8M/DrXvCrX3g7w2yvpenf2ldx/ZyqMg/eJKJH+V2HzMetHwX/AGPvhL+z1dazc+AfCraFNrFsLS9Y6ld3PmxAkhcTSvt5J5XBr2aiuA9A+XNJ/wCCZP7N2h6rZalZfDxob2zmS4gk/tzUW2SIwZTg3BBwQOCMV2Xxo/Yp+Df7Qvi6LxP4+8ItrutxWiWKXI1O8tsQozsq7YZUXgyMc4zz16V7jRQB4za/se/CSx+Cd78I4fCrJ8Pry5F3PpP9pXZLyiRJQ3nGXzR88aHAfHGOmay/hD+wx8E/gP41g8W+B/BraLr8EUkEd2dVvbjCOu1xslmZeR7Vu/GP4ia7F4k0LwB4Hnih8XauftE97JEJU02yU/POyngkkYUHrgjqRWb/AMMz3PiL5vGvxG8U+J8/ftYbgWNo31iTP6Gu+OGioKdafLfZWbdu/b72efLFTc5U6EOZrd3SV+19/uTPLPiV+xX+yLc+LdX1vxjpGlQa9q17NfXrXPii8heWeVy8j+WtyAuWYnAAAzxitv4teAv2Wfjho3hTSvG1/oms2Hha2a00iJdeuIPs0TLErLmKZS/EMYy5J+X3OfYPDv7Ofw08LxbLLwZpUhxjfew/a3/76l3GtwfCfwOvTwb4fH/cLg/+Ip/7GtPef3L8NfzF/tr19xfe/wAdPyPnfwT4V/ZU+Cfw98ZeFvDd5pun+GvFds9prVlBqt5ePdRNE8TKCZHkXKSOMoQec9cV5j4H+BP7PPhfxho/ib4UfAfxZr2uaVcpeWGqLe6hFZpKhyjb5p2U89mTFfcFj8O/Cml3CXFn4Z0e0uE5WWCwiRh9CFzXQ0e0wkPhpuXq9PwSf4h7PGT+Koo+kdfvba/A+K7z9hXw7+0R8bte+I/xi+HNpYDUrCKE6dBr9y8r3EYjjSVmgkVRiGMJhcA4BxnJr27xD+x78JPFXwb0L4Vap4Va58CaHci70/S/7Su0MMo835vNWUSN/r5eGYj5vYY9morlq1Pay5lFR8kddGn7KPK5OXm9/wBPwPF/gh+xz8Iv2cvEV9rvw98KNoOqX1qbK4nOpXdzvhLq+3bNK4HzIpyBnjrXn6/8Ev8A9mlbwXQ+HTicSeaG/t3UfvZznH2jHWvqiisTY8W+N37G/wAIf2jPEllr3xC8KNr2q2VoLGCcald22yEOzhdsMqKfmdjkjPPWn6D+x78JPDPwZ1z4U6b4Va38B61c/a7/AEr+0rtjNLmI7vNaUyLzBFwrAfL7nPs1FAHz98Kf2CvgZ8E/HeneMvBngptI8R6eJRbXh1a9n2CSNon+SWZkOUdhyDjORzWb42/4Jz/s+fEbxfrHijxD4Da/1zV7qS8vbr+2b+LzZnO5m2pOFXJPQACvpOigDxn4kfse/CT4ueCvCHhLxX4VbVPD/hK2W00a0GpXcP2WJY0iC745VZ/kjQZcseM9SaPhP+x78JPgfofi3R/BfhVtH07xXbJaaxCdSu5/tMSrKirmWVimFnlGUIPzewx7NRQB8zeFP+Cbf7O3gjxRo/iLRfADWesaReQ6hZXH9tahJ5U8TiSN9rTlWwyg4YEHHINb/wAXf2Fvgl8dvG1x4t8b+DW1nxBcRRwyXY1W9t9yIu1BsimVRgDsK96ooA8Zvf2PvhLqHwTsPhHceFWf4fWNybu30n+0rsFJTI8pbzhL5p+eRzgvjnHQCqvwV/Yr+Dn7PPi2fxN4A8ItoWtzWj2MlydTvLnMLsjsu2aV15aNDnGeOvJr3CigD5b1T/gmP+zbrWqXmoXnw8aa8u5nuJpP7c1FdzuxZjgXGBkk8Cu++NX7Hvwk/aGvtIvPH/hVtduNJtjaWTjUru28qInJXEMqBuR1OTXs1FAHjPg/9j74S+AvhX4l+HGheFWsvBviN2k1TTv7Su5DOzKiE+Y8pkX5UUfKw6Vzvw1/4J+/Ab4Q+ONK8X+E/A7aX4h0t2ktLw6vfTeWzIyE7JJ2U/KzDkHrX0RRQB85/ET/AIJ6/AP4reNdW8W+KPAzalr+qy+feXY1i/h8x8Bc7I51UcAdAK6bxx+x78JfiP8ADXwt4A8Q+FWv/CfhgKNJsP7Su4vs4VCg/eJKHf5SR8zGvZqKAPGfg3+x98JfgB/b3/CB+FW0T+3bZbTUM6ld3HnRDdhf3srbfvtyuDzXC6H/AMEzf2cPDetafq2nfD1rfULC4jurab+3NRbZIjBkbDXBBwQDggivqCigDwz4zfsSfBj9oHxgvijx54QbXNcW2SzF0NUvLf8AdIWKrsimReCzc4zzV2P9j34SQ/BOX4Rp4VYfD6W5+1vpP9pXeTL5gl3ed5vm/fAON+O3SvZqKAPCPg7+w78FfgH4yTxX4F8HNomvJBJbLdHVby4xG+Ny7JZmXnA5xmuZ8Sf8E1f2c/F3iLVNd1X4ftdapqd1Le3c/wDbeoJ5k0jl3batwFGWYnAAAzwK+naKAPGfi9+x78JPjvY+GbPxx4VbWrfw3bNaaWg1K7t/s8TBAVzFKpfiJOWyePc15z4z/Zt+HX7N3whi0/4d+HzoFnqfjnwlcXcZvbi58x112wVTmaRyOD0GK+rK8g/al/5Jro//AGOfhX/0/wBhQB6/RRRQAUUUUAFFFFABRRRQAUUUUAFFFFABRRRQAV5B+1L/AMk10f8A7HPwr/6f7CvX68g/al/5Jro//Y5+Ff8A0/2FAHr9FFFABRRVTVr5dL0q9vW+7bwvMc+iqT/Smld2Qm7K7PHf2T/9L8G+K9W6/wBreKdRvd3rl1X/ANlr22vHf2RLFrH9nvwqX5luBcXDse5e4kIP5Yr2Ku7Hv/aqluja+7Q4MvX+yUm+qT+/UKKKK4D0AooooAKKKKACiiigAooooAKKKKACiiigAooooAK8K8M/8Wx/aa13Qz+60fxxa/2vZD+EX0QInQe7LmQ/8Br3WvGf2otEu18Faf4z0qPfrXg6+j1eHHV4VIE8ZP8AdKfMfZK9DBNSqOjLaat8+n42+R52OTjTVeO8HzfLr+F/mezUVQ0DW7TxLoen6tYSebZX1vHcwv6o6hlP5Gr9cDTi7M9BNSV0Fc38RPHmm/DTwbqfiPVX22tlFuEYOGlc8JGv+0zEAfX0rpK+fm/4yI+Mu3/XfD7wRc8949S1QD8mSIH8/UPXXhqMaknKp8EdX/l6vZfeceKrSpxUKfxy0X+fot393U6P9n/wHqWn2epeN/FSZ8Z+KXF1cqw/487f/ljbLnkBVxkeuAc7c169RRWVatKvUdSXX8F0XyNqFGOHpqnHp+L6t+bYUUUVgbhRRRQAUUUUAFFFFABRRRQAUUUUAFFFFABRRRQAUUUUAFFFFABRRRQAUUUUAFFFFABRRRQAUUUUAFeQftS/8k10f/sc/Cv/AKf7CvX68g/al/5Jro//AGOfhX/0/wBhQB6/RRRQAUUUUAFFFFABRRRQAUUUUAFFFFABRRRQAV5B+1L/AMk10f8A7HPwr/6f7CvX68g/al/5Jro//Y5+Ff8A0/2FAHr9FFFABXGfGjUv7J+EPjW7B2tHo12VP+0YWC/qRXZ15H+1jqX9l/s9+MZQcGSCKAe/mTxp/JjXVhI+0xFOHeS/M5MZP2eGqT7Rb/A6H4E6b/ZPwX8D22NrDR7V2HozRKx/VjXd1m+G9O/sfw7pdhjb9ltYoMem1Av9K0qzrS9pUlPu2a0YezpRh2SQUUUVibBRRRQAUUUUAFFFFABRRRQAUUUUAFFFFABRRRQAVBfWMGp2NxZ3USzW1xG0MsbdHRgQwPsQTU9FPbVC30Z4j+zDfT+H9P8AE3w41CVpL/wfqL28DSfekspSZIH/ABBb6DbXt1eFfEn/AItp+0B4M8aJ+60rxEh8N6q3RRITutnPvuG3PZUrufjF8VLb4V+FxdrAdR1y+kFppOlx5Ml3ctwqgDnaCQSfTjqQD6mIpSxFWFSmrupr89pfjr6M8nDVY4ajOnVdlT0+W8fw09Ucx8cviFqj31n8OfBbB/GeuxnzLhSdul2h4e4cjocZC9889doPffDnwFpvwz8G6Z4c0pMWtlHtMjDDTOeXkb/aZiT+OOgrlvgj8K7nwLp99rfiGcal4415xc6tfHB2n+GCP0RBxxwcegAHp1ZYipCMVh6TvFbv+Z9/RbL7+pthqc5SeJrK0nsv5V29Xu/u6BRRRXnnohRRRQAUUUUAFFFFABRRRQAUUUUAFFFFABRRRQAUUUUAFFFFABRRRQAUUUUAFFFFABRRRQAUUUUAFFFFABXkH7Uv/JNdH/7HPwr/AOn+wr1+vIP2pf8Akmuj/wDY5+Ff/T/YUAev0UUUAFFFFABRRRQAUUUUAFFFFABRRRQAUUUUAFeQftS/8k10f/sc/Cv/AKf7CvX68g/al/5Jro//AGOfhX/0/wBhQB6/RRRQAV4l+1x/pXw30jSev9reINPsdvruk3Y/8cr22vEv2iP+Jh4w+D+k9RN4qhvSvqIELf8As1ehgP8AeYS7a/cr/oedmGuFnHvZfe0v1PbaKKK889EKKKKACiiigAooooAKKKKACiiigAooooAKKKKACiiigAooooA4P45eAD8S/hbruhwj/T3h8+xYHBW5jO+PB7ZYBc+jGuC+CPgHxN4q16L4k/EqAxeIktxaaVpMiFV0+IDDylT0lkOT6gH3AX3miu2GLqU6Lox69eqvul62VzhqYOnUrqvLp06O2zfpd2CiiiuI7gooooAKKKKACiiigAooooAKKKKACiiigAooooAKKKKACiiigAooooAKKKKACiiigAooooAKKKKACiiigAooooAK8g/al/5Jro//AGOfhX/0/wBhXr9eQftS/wDJNdH/AOxz8K/+n+woA9fooooAKKKKACiiigAooooAKKKKACq2pala6Pp91f31zFZ2NrE089xO4SOKNQWZ2Y8BQASSegFc58QLLxze2doPA+s+H9Gulcm5fxBpM+oI6Y4CLFcwFTnuS30FeJfHjwP8afEvwD+Juk6vrfhXxKt54duo7bTPDXh67sbu4lwG8sPJfThg6CRNgTJLryOhAPWfhv8AHrwN8Wr+5sfDGsyXl7BbpeG3urG5spJLdyQlxEs8aGWEkYEqbkJxzyKufEH4w+FvhfcWNvr91fLdXyySQW2m6Td6jMyJtDuUtopGVRuXLEAc9a8X8P8AxG8MfGn9pXwF4g8A30eqaL4a8K6uut31rGVjtftMlj9ms5Tj5Zs28rmE/MgjOQMjOt8Zv2yPBvgXwP4Qv9C1/RZNT8dQ+Z4cutduvsGnrDtDNeXMku0pFGrKdn+sclUUZJKgHt/hHxdo3jzw3p/iDw/qMGraNfx+bbXls25JFyR+BBBBB5BBBwRXm/7Uv/JNdH/7HPwr/wCn+wrT/Zv0fwzoPwa0Cy8JeKLXxppCtcTPr9lNHLFfXUtxJLdSqYyUGZ3lO0Ehfu9q84/aa8A65b2Ok6/J8RPEl1pTeNvDDDwxLb6cLBQ2uWKhQ62guMKSGH77OQMkjIIB9J0UUUAFeJfEz/iaftMfCGx6pZQapfSL9YQin/voV7bXiVx/xNP2xrROsel+Dml+kkl1tx/3yRXoYLSU5doy/FW/U87HawhDvKP4NP8AQ9tooorzz0QooooAKKKKACiiigAooooAKKKKACiiigAooooAKKKKACiiigAooooAKKKKACiiigAooooAKKKKACiiigAooooAKKKKACiiigAooooAKKKKACiiigAooooAKKKKACiiigAooooAKKKKACiiigAryD9qX/kmuj/9jn4V/wDT/YV6/XkH7Uv/ACTXR/8Asc/Cv/p/sKAPX6KKKACiiigAooooAKKKKACiiigAooooAKKKKACvIP2pf+Sa6P8A9jn4V/8AT/YV6/XkH7Uv/JNdH/7HPwr/AOn+woA9fooooAK8S8Bf8TT9qf4oXX3hpum6bYhvTzIzKR+Yr22vEvgH/wATD4lfGbVuvma+lju/6949uPw3V6GG0pVpf3UvvlH9LnnYr3q1CP8Aeb+6Mv1se20UUV556IUUUUAFFFFABRRRQAUUUUAFFFFABRRRQAUUUUAFFFFABRRRQAUUUUAFFFFABRRRQAUUUUAFFFFABRRRQAUUUUAFFFFABRRRQAUUUUAFFFFABRRRQAUUUUAFFFFABRRRQAUUUUAFFFFABRRRQAV5B+1L/wAk10f/ALHPwr/6f7CvX68g/al/5Jro/wD2OfhX/wBP9hQB6/RRRQAUUUUAFFFFABRRRQAUUUUAFFFFABRRRQAV5B+1L/yTXR/+xz8K/wDp/sK9fryD9qX/AJJro/8A2OfhX/0/2FAHr9FFFABXiX7KH+meEfF2rdTq3irUb3d6gsq/+ymvY9Uvl0zS7y8f7lvC8x+iqT/SvJv2Q7FrP9nzwu0nM1z9ouXY9y9xIQfyxXoU/dwlR93Ff+lP9DzqnvYyku0ZP/0lfqex0UUV556IUUUUAFFFFABRRRQAUUUUAFFFFABRRRQAUUUUAFFFFABRRRQAUUUUAFFFFABRRRQAUUUUAFFFFABRRRQAUUUUAFFFFABRRRQAUUUUAFFFFABRRRQAUUUUAFFFFABRRRQAUUUUAFFFFABRRRQAV5B+1L/yTXR/+xz8K/8Ap/sK9fryD9qX/kmuj/8AY5+Ff/T/AGFAHr9FFFABRRRQAUUUUAFFFFABRRRQAUUUUAFFFFABXkH7Uv8AyTXR/wDsc/Cv/p/sK9fryD9qX/kmuj/9jn4V/wDT/YUAev0UUUAcd8ZNS/sj4R+NLwHDRaNdlf8Ae8lgv64qp8BdN/sn4K+B7fG0/wBj2sjD0Lxq5/VjWB+1fqX9l/s9+MZc4L28cA9/MmjT+TV6R4Y03+x/Dek2GNv2W0hgx6bUC/0r0H7uDXnJ/gl/mecvexr8oL8W/wDI06KKK889EKKKKACiiigAooooAKKKKACiiigAooooAKKKKACiiigAooooAKKKKACiiigAooooAKKKKACiiigAooooAKKKKACiiigAooooAKKKKACiiigAooooAKKKKACiiigAooooAKKKKACiiigAooooAK8g/al/5Jro/wD2OfhX/wBP9hXr9eQftS/8k10f/sc/Cv8A6f7CgD1+iiigAooooAKKKKACiiigAooooAKKKralqVro+n3V/fXMVnY2sTTz3E7hI4o1BZnZjwFABJJ6AUAWaK8/+G/x68DfFq/ubHwxrMl5ewW6Xht7qxubKSS3ckJcRLPGhlhJGBKm5Ccc8ius8UeJ9L8F+HdR13W7yPT9J0+Fri5uZASERRk8AEk9goBJJAAJIFAGpXkH7Uv/ACTXR/8Asc/Cv/p/sK9D8D+NtF+JHhDSPFHh29/tHQtWtku7K68p4vNiYZVtjqrLkdmANeeftS/8k10f/sc/Cv8A6f7CgD1+iiigDxL9rn/S/hnpmk9f7W16wsdvrul3Y/8AHK9trxL9or/iYeLPhBpPUTeK4L0r6iBSx/8AQq9tr0K2mGox/wAT/FL9DzqPvYqtL/Cvwb/UKKKK889EKKKKACiiigAooooAKKKKACiiigAooooAKKKKACiiigAooooAKKKKACiiigAooooAKKKKACiiigAooooAKKKKACiiigAooooAKKKKACiiigAooooAKKKKACiiigAooooAKKKKACiiigAooooAK8g/al/5Jro//Y5+Ff8A0/2Fev15B+1L/wAk10f/ALHPwr/6f7CgD1+iiigAooooAKKKKACiiigAooooA5P4gWXjm9s7QeB9Z8P6NdK5Ny/iDSZ9QR0xwEWK5gKnPclvoK8S+PHgf40+JfgH8TdJ1fW/CviVbzw7dR22meGvD13Y3dxLgN5YeS+nDB0EibAmSXXkdD9M0UAfMfh/4jeGPjT+0r4C8QeAb6PVNF8NeFdXXW761jKx2v2mSx+zWcpx8s2beVzCfmQRnIGRnY+IVx4t+Md38OvFnw+0vQPHPw4WAa5Ha6nrU+k/bLvKtaTMPskxeOMbpFRlX955bHmMV9CUUAfPv7At1qtz+yH8Mv7V0+1sBHo9vHafZrtrjz7cRrslfMaeW55zGNwGB8xzxnftNeAdct7HSdfk+IniS60pvG3hhh4Ylt9OFgobXLFQodbQXGFJDD99nIGSRkH6TryD9qX/AJJro/8A2OfhX/0/2FAHr9FFFAHiXxO/4mf7SvwfseqWcWqX0i/WAKh/76Fe21yV78ObK++Jum+NZLm4+3WOnyafFbfL5W123F+md3brjFdbXXXqRnCnGP2Y2+d2/wBTjw9KVOdWUvtSv8uVL9AooorkOwKKKKACiiigAooooAKKKKACiiigAooooAKKKKACiiigAooooAKKKKACiiigAooooAKKKKACiiigAooooAKKKKACiiigAooooAKKKKACiiigAooooAKKKKACiiigAooooAKKKKACiiigAooooAK8g/al/wCSa6P/ANjn4V/9P9hXr9eQftS/8k10f/sc/Cv/AKf7CgD1+iiigAooooAKKKKACiiigAooooAKKKKACiiigAryD9qX/kmuj/8AY5+Ff/T/AGFev1wXxt+Heo/FHwH/AGLpOr22h6nDqmm6rbX15ZtdwpJZ30F2ivEskZZWaAKQHU4Y80Ad7RXkH/CM/Hj/AKKN8P8A/wAIa9/+W9H/AAjPx4/6KN8P/wDwhr3/AOW9AHr9FfOWp6z8d9N+LHh3wT/wm/gCQ6xo2pav9u/4Qu9HlfZJrKLy9n9q/Nv+253bhjy8YO7jrv8AhGfjx/0Ub4f/APhDXv8A8t6APX6K8g/4Rn48f9FG+H//AIQ17/8ALej/AIRn48f9FG+H/wD4Q17/APLegD1+ivIP+EZ+PH/RRvh//wCENe//AC3o/wCEZ+PH/RRvh/8A+ENe/wDy3oA9foryD/hGfjx/0Ub4f/8AhDXv/wAt6bL4b+PEcbv/AMLF+H52gnH/AAg17/8ALegD2GivnT4R6t8d/ip8K/B3jMeOPAGmDxFo9pqwsv8AhC72XyPPhWXy9/8Aaq7tu7G7AzjOBXWf8Iz8eP8Aoo3w/wD/AAhr3/5b0Aev0V5B/wAIz8eP+ijfD/8A8Ia9/wDlvR/wjPx4/wCijfD/AP8ACGvf/lvQB6/RXkH/AAjPx4/6KN8P/wDwhr3/AOW9H/CM/Hj/AKKN8P8A/wAIa9/+W9AHr9FeQf8ACM/Hj/oo3w//APCGvf8A5b1yPjbWfjv4N8SeAtJPjfwBd/8ACVazJpAm/wCELvU+zbLC7vPMx/ap35+ybNuR9/OeMEA+jaK8g/4Rn48f9FG+H/8A4Q17/wDLej/hGfjx/wBFG+H/AP4Q17/8t6APX6K8g/4Rn48f9FG+H/8A4Q17/wDLej/hGfjx/wBFG+H/AP4Q17/8t6APX6K8g/4Rn48f9FG+H/8A4Q17/wDLej/hGfjx/wBFG+H/AP4Q17/8t6APX6K8g/4Rn48f9FG+H/8A4Q17/wDLeuR+Fus/Hf4leG7zVh438Aad9n1nVdI8n/hC72Xd9iv57PzM/wBqjG/yN+3Hy7sZOMkA+jaK8g/4Rn48f9FG+H//AIQ17/8ALej/AIRn48f9FG+H/wD4Q17/APLegD1+ivIP+EZ+PH/RRvh//wCENe//AC3o/wCEZ+PH/RRvh/8A+ENe/wDy3oA9foryD/hGfjx/0Ub4f/8AhDXv/wAt6P8AhGfjx/0Ub4f/APhDXv8A8t6APX6K+cvG2s/Hfwb4k8BaSfG/gC7/AOEq1mTSBN/whd6n2bZYXd55mP7VO/P2TZtyPv5zxg9d/wAIz8eP+ijfD/8A8Ia9/wDlvQB6/RXkH/CM/Hj/AKKN8P8A/wAIa9/+W9H/AAjPx4/6KN8P/wDwhr3/AOW9AHr9FeQf8Iz8eP8Aoo3w/wD/AAhr3/5b0f8ACM/Hj/oo3w//APCGvf8A5b0Aev0V5B/wjPx4/wCijfD/AP8ACGvf/lvR/wAIz8eP+ijfD/8A8Ia9/wDlvQB6/RXzl8LdZ+O/xK8N3mrDxv4A077PrOq6R5P/AAhd7Lu+xX89n5mf7VGN/kb9uPl3YycZPXf8Iz8eP+ijfD//AMIa9/8AlvQB6/RXkH/CM/Hj/oo3w/8A/CGvf/lvR/wjPx4/6KN8P/8Awhr3/wCW9AHr9FeQf8Iz8eP+ijfD/wD8Ia9/+W9H/CM/Hj/oo3w//wDCGvf/AJb0Aev0V5B/wjPx4/6KN8P/APwhr3/5b1yPjbWfjv4N8SeAtJPjfwBd/wDCVazJpAm/4Qu9T7NssLu88zH9qnfn7Js25H3854wQD6NoryD/AIRn48f9FG+H/wD4Q17/APLej/hGfjx/0Ub4f/8AhDXv/wAt6APX6K8g/wCEZ+PH/RRvh/8A+ENe/wDy3o/4Rn48f9FG+H//AIQ17/8ALegD1+ivIP8AhGfjx/0Ub4f/APhDXv8A8t6P+EZ+PH/RRvh//wCENe//AC3oA9foryD/AIRn48f9FG+H/wD4Q17/APLeuR+Fus/Hf4leG7zVh438Aad9n1nVdI8n/hC72Xd9iv57PzM/2qMb/I37cfLuxk4yQD6NoryD/hGfjx/0Ub4f/wDhDXv/AMt6P+EZ+PH/AEUb4f8A/hDXv/y3oA9foryD/hGfjx/0Ub4f/wDhDXv/AMt6P+EZ+PH/AEUb4f8A/hDXv/y3oA9fryD9qX/kmuj/APY5+Ff/AE/2Fcj8UtZ+O/w18N2erHxv4A1H7RrOlaR5P/CF3sW37bfwWfmZ/tU52efv24+bbjIzkavij4R/Fzx9b6Tp3iT4heDptGtdZ0zV54dM8H3VtcS/Y72G7WNZH1KRU3NAqklG4J4oA94ooooAKKKKACiiigAooooAKKKKACiiigAooooAKKKKACiiuE+OHinxV4L+GWq6v4K0iHXfEkMtqltY3EMsqMr3MUcrlIvnYJE8j4Xn5KAO1azt5LyO6aCNrqNGjSYoC6oxUsobqASikjvtHoKmr5X+Okf7Tr/BnxsunyeCvtx0i6EH/CLrqa6pv8tsfZSGyJs/d98V9UUAFFFFABRRRQAUnXg0tfKPxA+IHjfXvix4g+GEM/jDRrTVPGNjDDr2k6JcLFZ6GdGt5pvIvhCYkZ71ZIixYunmvjG0YAPqizs4NPtYbW1gjtraFBHFDCgRI1AwFVRwABxgVNXi/wAEdP1fwX8SPiD4Jl1/XfE/hzS7fTL/AE6+8Q3DXdzBLci5E9t9oYbpVUQQyDcSV8/GcYr2igAooooAKKKKACoZ7O3upLeSaCOWS3fzIXkQMY3KlSyk9DtZhkdmI71gfEy71/T/AIb+K7rwpAt14oh0m7k0mBlDCS8WFzApB4IMgUY96+LvBfg+z+JXxAa/8E/Ev4sXUtn4Vub3V9Zv9Q1GP+ztYSSD7NF9llUQuzg3fmWvlsoEKABM/MAfe1Fcx8Lda1nxL8MvCOr+IrFtL8QahpFnd6jYtGUNvcyQo0sZU8rtcsMHkYrp6ACiiigAooooAKhtbO3sY2jtoI7eNneQpEgUF2Ys7YHcsSSe5JNfPvxu8M/EPxp8RPEEHhXXfEGgy6D4Rj1TwymnzfZ7C/1pp7oGK7JGyZAIbRfKc4CzucZwRa+GPgnV/hT8brLQIPEXijxHo+q+Fp9R1eTxBqM1/HFqMVzbpHJE0hIhMqzXOY49qYhXCjFAHv1FFFABRRRQAUUV51+0dNqtt+zz8UJtBkvItcj8Lao9hJpxcXK3AtJTEYinzCQPt27ec4xzQB389nb3UlvJNBHLJbv5kLyIGMblSpZSeh2swyOzEd6mrwK18C/Gr4Y28UvhPxrZ/ErSFQN/YXjxfs9+q4yVi1K3Tk9QPOhc9Mv3r27QLy91LQdNu9S046RqM9tHLc6e0yzG1lZQXi8xflfaxK7hwcZFAF+iiigAooooAKKK8a+IXij4wP8AFgeG/Amk+Go9ATRItQbV/EcF40clyZ5Y5IFeE7QVRYW2nk7yegoA9ftbO3sY2jtoI7eNneQpEgUF2Ys7YHcsSSe5JNTV4B4Jj+M//DRejt46bSW8Mf8ACKamB/wi/wBsFh9r+2af5f2gTHb53l+d5ffb52OM17/QAUUUUAFFFFABUM9nb3UlvJNBHLJbv5kLyIGMblSpZSeh2swyOzEd64z47alr+j/BH4hX/hUXJ8UWvh3UZ9KFnD5032tbaRoPLjwd7+YFwuDk4GDXg9qutftEX/xB8USeL/iJ8PtG8PxwweHobe2udEUlbRJpruWCaJWuT57SJtcMm2EYHzZoA+saK5L4R+INV8W/CfwXrmu232PXNT0Syvb+32FPKuJIEeVNp6YZmGO2K62gAooooAKKKKACobWzt7GNo7aCO3jZ3kKRIFBdmLO2B3LEknuSTXy1+1Vq1k3j06P458W+NPBvgWbw8JNJuPBrXUT3mqGaUTRySWyMzOkYtjHCxCuZJDhtvGp+zP4f8cfD/V/B+j6xdeI7zTNc8Ex6xq9nr1zPfLo2sI1srQRXMxZwJBNPmFnbb9myuATkA+l6KKKACiiigCG6s7e+jWO5gjuI1dJAkqBgHVgyNg9wwBB7EA1NXzh4C8T/ALS3jbwfpet3Gl/Dvw/PeRb5NL1S31OO4tmBKlHUnrkHnoRgjg13X7MSeMI/hBajx6bk+Kv7Y1o3P2oyn5P7Vu/J8vzfn8nyfK8rP/LPy8cYoA9VooooAKKKKACiiigAooooAKKKKACiiigAooooAKKKKACvN/2ivGOueAfg34i13w6RFqdqIB9ra1a6FlC9xHHPdmFeZPIheSbb38rFekUyaaO2hkmmkWKKNS7yOQFVQMkknoAKAPifxX8SdM8EeGR4k8C/tSXnxH8ZsYzYeFLi+0jUYtdmZhi0S1trdJY/MJ2ho2Hl5y2QDX23XkOjXuiaL8bbi6XUPCtloWuaLZDRFgezjur2+8+7+1tGVAllBjNmOpXIOADuz69QAUUUUAFFFFABXyv8SPHsesfGzxX4X8ZfGy6+DOkaUlq2iafZ3Fjp0mrxSQI8t39pu4pPMCytLD5cW3b5OWzuFfVFeefG63TXPh74n0jTH0aXxm2i3txocGqrbybLoQuIZtkwK7Vk2ZLKV454oA4j9mXx9e+KNc8c6NbeOW+KPhDRXs10vxg8cBaaWRZTcWjTW6JDcGEJC3mIo/4+NrZK171WB4H1zQ9f8NWk/h7UdM1PTo18kTaPNFLbh1A3KpjJUYPYdK36ACiiigAooooA5z4ka1q/hv4d+KdX0DTv7Y13T9KurvT9OwT9quEhZoosDk7nCrxzzXyL/wALG8N/8IJ/wl3/AA2Pd/8ACUfZPtH2PztI+zfaNufs/wDZX2fz/vfL5W7ze27dzX27Xj3iLVNA074seE/Eq6p4TsvDM9rqVpfX9xLZpNcal5loLRElb94WVBeAqjdxuBO3AB33w31rV/Enw78L6vr+nf2PruoaVa3Woadgj7LcPCrSxYPI2uWXnniujoooAKKKKACiiigDxr4hfGLx3ovxYHgnwb8OrHxUV0SLWZNQ1HxEdMT555YWiRfs0u4r5aMTkf60cd6xfBPxC+Kus/tF6PonjHwnaeDvD8nhTU70W2nayNUiubmO809Ed3+zRGNlSWUBcncHY/w17peavY6fcWlvdXtvbT3bmO3imlVGmYDJVATljjsK4r4GeKbvxF8NtCg13xBpfiDxnp9jb2/iKTS7qCYR6gIwJlYQ/Kh3huAAPQUAegUUUUAFFFFABXO/EbxVP4G+HvifxJa6a2s3Wj6XdahFpscnltdvFE0iwh8NtLlQucHGc4PSuiooA+e4fi/8ctY8Lpq1j8GvDwtrqzF1BMPHRLBWTcrbfsHXBBxXo37P2uav4m+Avw21jxBNLca9qHhrTbvUJp4wkj3MlrG8rMoACkuWJAAwe1UvEXxATTviB4Tv18W6HZeBJ7TUrO+Nxf2yC41LzLT7IiMx3FlUXgKoe43Anbj0ugAooooAKKKKACvDfiJqnj7xb8apPBPhHxnb+BotN8OQ64JpNJiv21KaW5mh8thIRiKIQIW8sq5NwvzLjn3Ks+8vtL0/UbP7XcWdtf3WYLbznRJZejFEzy3QHA9KAPCPh78dvE3ij9oTRvh74hsG8Oa1p/hfVb7XtHjjElrcTx3emx2l7a3DLueB0mutoyCCWWRd0YNfQ9edfA3XpfEngDQG17WtH8Q+PNN06Gy8QXWmT28xhvdi+ejGH5UzIpO0AD5RxxXotABRRRQAUUUUAct8VPFl34D+F/jDxNYWY1C+0XR7zUbezOcTyQwPIsfHPzFQOPWvGLfxt8Rvgz4bsPF/i7xPF8TfAWoWaXGo6rp2kx21zoZdAy3KRw5E9nz82QZI1w5Lru2/RzKsisrKGVhgqRkEeleZa944t9J8ceELiLxRoGn/AA9ksdR0+8Sa9tY0m1DzLQWkUZY5JVBeAohxyNwPy4AL/wCz34o1Txx8A/hr4j1u5+261rHhnTNQvrny1j86eW1jkkfagCrlmJwoAGeABXoFR29vFZ28UEESQwRKEjjjUKqKBgAAdAB2qSgAooooAKKKKAPDfiJqnj7xb8apPBPhHxnb+BotN8OQ64JpNJiv21KaW5mh8thIRiKIQIW8sq5NwvzLjnK+Hvx28TeKP2hNG+HviGwbw5rWn+F9Vvte0eOMSWtxPHd6bHaXtrcMu54HSa62jIIJZZF3Rg17veX2l6fqNn9ruLO2v7rMFt5zoksvRiiZ5boDgelcV8Ddel8SeANAbXta0fxD4803TobLxBdaZPbzGG92L56MYflTMik7QAPlHHFAHotFFFABRRRQB8SeE/iVpnjjwyfEnjr9qS8+HHjNTIb/AMKW99pGnRaFMrHNo9rdW7yyeWRtLSMfMxlcAivpT9nfxjrnj74N+Hdd8RES6ndCcfa1tWtRewpcSRwXYhPMfnwpHNt7ebisP4sax4dT4i+ArdNW8I22qx60DrFvqk1kL17E2dyEWMS5kz9pNoRsw2AecbgfY6ACiiigAooooAKKKKACiiigAooooAKKKKACiiigAooooAK81/aM8C6n8SPg7rugaRa2+o3s72s/9m3cvlQ6hFDdRTS2jvghVnjjeEkjGJDnjNelV5v+0VpPibXPg34isvCP2xtakEB8nTboW13Pbi4ja6hglJAjlktxMiNkYZlOR1oA+VNS/Z38W3Wl+PNPs/gTo+lXHjiaF9FvLXUbEr4LCBUy3IK7ZVkvVFoHBkuHU4I3H7zr4O1zwP4FvtKe3+EXwV+IXhD4osUGl69caRfaYljcbhia7vJnEc0S8l1LS+YuVAYkV940AFFFFABRRRQAV8b/AB+/Zz8VeOPiF40nsfh7ofij+3rzTdSsvFOoahHDLYWtrDElxpJUqZQlz5U8Z2ZQrfyF/u4P2RXyN8YPCehT/GbxTf8Axa+HHi74i+HLhbX/AIRmTR9PudWsLKBYEWeJ7S3YmOcziVzI0Z3I8YDfKRQB6L+zv4J1bSfGnj7xRdeAY/hhpOuJp1vaeG1mtXcyW6zCW7kW1ZolaQSxRgBiStupOMgV7pXz/wDss+HbnRdT8az6R4c8QeDvhvdNZ/2DoPiRpFninVZftcsUEjs9vC+bcLG235o5GCqG5+gKACiiigAooooA5f4peGdQ8afDHxd4e0m+/szVdW0e8sLS9yR9nmlhdEkyORtZgeOeK+O7D4EeIdD1LVNZb9mbw/c6bqPh+Pw9B4Ts9U09ks7pAfNv2MhSMR3AaKNnTM22ziLKc4X7J+JFnr2ofDvxTa+FblLLxPPpV1FpVzIQFiu2hYQuc9hIVP4V8X/8IR8L/wDhG/sv/Cg/ip/wsn7Ns/tH7Bff2h9u2483+2PN8nPmfN5vnbe+McUAfZXwr8M6h4L+F/g/w9q15/aOq6To9nYXd5uLefNFAiPJk8ncyk8+tdTXOfDez17T/h34WtfFVyl74ng0q1i1W5jIKy3awqJnGOxkDH8a6OgAooooAKKKKAPlj9qL4E+J/iR44v7zSPCOl+JxrHhhNA03Wb69jgl8JXouJpDqMQYbiT5sLZhPmbrRB0ORo/AH4Z61o/xUtdck+F1l8KtJ0nwsfD88NpdWko1i4M8LpKgtycxQrDKEeULIftLfKMGoP2jvC9rqXxW06/8AHvgrxP8AED4Zroyw2mm+HoJ72G01ITyGaW5s4GDy74jAqNtcJ5cnClwSv7OPhe1034q6hf8AgLwV4n+H/wAM20ZobvTfEME9lFd6kZ4zDLbWc7F4tkQnV22oH8yPhihIAPpyiiigAooooAK5f4peGdQ8afDHxd4e0m+/szVdW0e8sLS9yR9nmlhdEkyORtZgeOeK6iuc+JFnr2ofDvxTa+FblLLxPPpV1FpVzIQFiu2hYQuc9hIVP4UAfG1h8CPEOh6lqmst+zN4fudN1Hw/H4eg8J2eqaeyWd0gPm37GQpGI7gNFGzpmbbZxFlOcL9h/CvwzqHgv4X+D/D2rXn9o6rpOj2dhd3m4t580UCI8mTydzKTz618a/8ACEfC/wD4Rv7L/wAKD+Kn/Cyfs2z+0fsF9/aH27bjzf7Y83yc+Z83m+dt74xxX2h8N7PXtP8Ah34WtfFVyl74ng0q1i1W5jIKy3awqJnGOxkDH8aAOjooooAKKKKACvlj9qL4E+J/iR44v7zSPCOl+JxrHhhNA03Wb69jgl8JXouJpDqMQYbiT5sLZhPmbrRB0OR9T18xftHeF7XUvitp1/498FeJ/iB8M10ZYbTTfD0E97DaakJ5DNLc2cDB5d8RgVG2uE8uThS4JAJ/gD8M9a0f4qWuuSfC6y+FWk6T4WPh+eG0urSUaxcGeF0lQW5OYoVhlCPKFkP2lvlGDX0tXzH+zj4XtdN+KuoX/gLwV4n+H/wzbRmhu9N8QwT2UV3qRnjMMttZzsXi2RCdXbagfzI+GKEj6coAKKKKACiiigDl/il4Z1Dxp8MfF3h7Sb7+zNV1bR7ywtL3JH2eaWF0STI5G1mB454r47sPgR4h0PUtU1lv2ZvD9zpuo+H4/D0HhOz1TT2SzukB82/YyFIxHcBoo2dMzbbOIspzhfsn4kWevah8O/FNr4VuUsvE8+lXUWlXMhAWK7aFhC5z2EhU/hXxf/whHwv/AOEb+y/8KD+Kn/Cyfs2z+0fsF9/aH27bjzf7Y83yc+Z83m+dt74xxQB9lfCvwzqHgv4X+D/D2rXn9o6rpOj2dhd3m4t580UCI8mTydzKTz611Nc58N7PXtP+Hfha18VXKXvieDSrWLVbmMgrLdrComcY7GQMfxro6ACiiigAooooA+WP2ovgT4n+JHji/vNI8I6X4nGseGE0DTdZvr2OCXwlei4mkOoxBhuJPmwtmE+ZutEHQ5Gj8AfhnrWj/FS11yT4XWXwq0nSfCx8Pzw2l1aSjWLgzwukqC3JzFCsMoR5Qsh+0t8owag/aO8L2upfFbTr/wAe+CvE/wAQPhmujLDaab4egnvYbTUhPIZpbmzgYPLviMCo21wnlycKXBK/s4+F7XTfirqF/wCAvBXif4f/AAzbRmhu9N8QwT2UV3qRnjMMttZzsXi2RCdXbagfzI+GKEgA+nKKKKACiiigD4j+H37McuseJPAWieLfgtpcNx4fnvZPFvjbVBYXcXilZLaePgBmmlaaeSG5PnInlGHaO1fTPwB8I6z4D+FWleH9cZ/tOnz3kNtHJcfaHisvtcxsomkydxS2MCE5PK9a+UdD8D+BbDSkt/i78FfiF4v+KKlxqmvW+kX2qJfXG45mtLyFzHDE3BRA0XlrgEKQa+qv2dtJ8TaH8G/D1l4u+2LrUYnPk6lci5uoLc3EjWsM8oJ8yWO3MKO+TllY5OckA9HooooAKKKKACiiigAooooAKKKKACiiigAooooAKKKKACszxN4m0rwb4fv9c1zULfStIsImnuby6cJHEg6kk/5J4rTrifjN8PZ/ij8OtR8P2l/Hpd+81re2d3ND50UdzbXMVzCZI8jfH5kKBlyMqWGRQB414J/ag+GHiL48axfQeL9VthqFhpvh6Gx1fQNQsLSO7jmupVPnzxrGsky3caqjbWby1wW3AD6br5p8VfBfX9f8B/F7Wfil4r8M6Fe+J9BttIlvdMgkXTtIs7Q3Ei3LNM4ZpQ91K+8lQmyPH3ST9LUAFFFFABRRRQAV4F+1L8ePAPhPwV4r8Daz4pvtH17WdHmsFl0bSrvUp9Oa6jeGGZ1t0Plnc2UDMhYj5fWvfa+dvip+z/448Vat8RNO8Oa/oNj4R+I8UcWvNqVlLLqFli0js5WtCrBG3QRJtD42PlvmzigD1j4W/E7wx8UvDf27wxq39pw2b/Y7pJYJLa4t5lUExzQSqskT4IO11BwwPQg12NeeeFfCum6T8a/Hms2+tWlxqWp6Xo8Vzo0IAmtY4TeCK4l+YljLvdQxA4tgOdpx6HQAUUUUAFFFFAEV1dQ2NrNc3M0dvbwoZJJpWCoigZLMTwAAM5NfLuoftcfCTVvjP4e1hPG+p2mn6NpF9bXDSeH9QTTZlvJrQxXT3ZiESxr9kkVZW+Q+aSHABz9D/ELwdb/ETwD4l8KXk8ltaa7plzpc00P340miaNmX3AYkfSvJPCnwf8d3niBtb+IuteFroaX4YvPDWnwaLYTRwTR3LQNNcXSyOf8An0iAiU7VDSfMcjAB7zHIk0aSRsskbgMrKcgg9CDTq474M6PZeHfg/wCBtJ03Wo/EenWOhWNrbazCwZL+JLdFS4UgkESKA4IJ+91NdjQAUUUUAFFFFAHnHxe/aE8CfA23ifxdq8trPNDJcx2djZT3twYUxvlMUCOyxrkAyMAoPGc1z37KvxC8K+I/hboPhjRPFFz4j1XwzpVnZ6g2qWFxp98+IgqzyW9wBIFk2sQ3zKcHDHBp/wATPhr49k+Ik3jH4ear4dtr/UtEj0HULfxNaTTRJHFNNLDPCYmB3A3MwaNvlcbOV28t+H/wf0j4a+Ofh5ZQ+JIJ77w54Dk8N2+nzKq3l/bxS2Qa7b5slY2ijXAUhTcnkbgCAez0UUUAFFFFABUV1dQ2NrNc3M0dvbwoZJJpWCoigZLMTwAAM5NS1z/xC8HW/wARPAPiXwpeTyW1prumXOlzTQ/fjSaJo2ZfcBiR9KAPnjUP2uPhJq3xn8PawnjfU7TT9G0i+trhpPD+oJpsy3k1oYrp7sxCJY1+ySKsrfIfNJDgA5+pY5EmjSSNlkjcBlZTkEHoQa8G8KfB/wAd3niBtb+IuteFroaX4YvPDWnwaLYTRwTR3LQNNcXSyOf+fSICJTtUNJ8xyMelfBnR7Lw78H/A2k6brUfiPTrHQrG1ttZhYMl/EluipcKQSCJFAcEE/e6mgDsaKKKACiiigArzj4vftCeBPgbbxP4u1eW1nmhkuY7Oxsp724MKY3ymKBHZY1yAZGAUHjOa9Hrxr4mfDXx7J8RJvGPw81Xw7bX+paJHoOoW/ia0mmiSOKaaWGeExMDuBuZg0bfK42crt5AGfsq/ELwr4j+Fug+GNE8UXPiPVfDOlWdnqDapYXGn3z4iCrPJb3AEgWTaxDfMpwcMcGvaK8Y+H/wf0j4a+Ofh5ZQ+JIJ77w54Dk8N2+nzKq3l/bxS2Qa7b5slY2ijXAUhTcnkbgD7PQAUUUUAFFFFAEV1dQ2NrNc3M0dvbwoZJJpWCoigZLMTwAAM5NfLuoftcfCTVvjP4e1hPG+p2mn6NpF9bXDSeH9QTTZlvJrQxXT3ZiESxr9kkVZW+Q+aSHABz9D/ABC8HW/xE8A+JfCl5PJbWmu6Zc6XNND9+NJomjZl9wGJH0ryTwp8H/Hd54gbW/iLrXha6Gl+GLzw1p8Gi2E0cE0dy0DTXF0sjn/n0iAiU7VDSfMcjAB7zHIk0aSRsskbgMrKcgg9CDTq474M6PZeHfg/4G0nTdaj8R6dY6FY2ttrMLBkv4kt0VLhSCQRIoDggn73U12NABRRRQAUUUUAecfF79oTwJ8DbeJ/F2ry2s80MlzHZ2NlPe3BhTG+UxQI7LGuQDIwCg8ZzXPfsq/ELwr4j+Fug+GNE8UXPiPVfDOlWdnqDapYXGn3z4iCrPJb3AEgWTaxDfMpwcMcGn/Ez4a+PZPiJN4x+Hmq+Hba/wBS0SPQdQt/E1pNNEkcU00sM8JiYHcDczBo2+Vxs5Xby34f/B/SPhr45+HllD4kgnvvDngOTw3b6fMqreX9vFLZBrtvmyVjaKNcBSFNyeRuAIB7PRRRQAUUUUAfMHxR/ao+Fl18QPBlinjHVY5PDutz6ldPpPh/UL60u44rS6tZYjPDEYykb3KOzqXVTEAcHkfSGg69p3ijRbHV9IvrfU9LvoVuLW8tZBJFNGwyrqw4IIOcivBPhr+z7438L6x8PdI1rxBoNz4G+Hks02h/2fZzR6leZtZ7SFbpmcooSG5k3FM+Y6qx28ivSPgN4X07wb8N4dJ0rWrPX7OHU9UkF3YALAjyahcSSW6AMwUQu7Q7c8eVjjGAAehUUUUAFFFFABRRRQAUUUUAFFFFABRRRQAUUUUAFFFFABXCfHDwb4h+IHwx1XQfC2uz+G9buZbVodStruS1kRI7mKSVBLGC6b40ePIH8dd3Xm/7RPgzW/iF8G/EWgeHwsupXQgb7I901qt7ClxHJPaGVeYxPEkkO7t5uaAPFPiN+zD4f+JngXxb4P8ADnxo8W6j4hvtNuLSKx1LxvNd24kZCoFxCCxaPJ+ZcdM19Z18T+LvhrZePPDA8M+Cv2XLn4ceLlMa2Hiu4tdHsIdBmVhi7jubW4eaQxkbgsanfjBwCa+2KACiiigAooooAK+evG3wda6+I3i7xL4y+LPiPwv4d1Ka1/sWy0vxZNpkNsqW0ccyGP5UBMiGQFSSfMbOK+ha+WfiJ4C/sT42eLPFXiz4KXHxm0rVktF0bULKKwv5tIijgSOSz+zXksflq0qyTeZFncZiGxtFAHefA/4Ir8N/iF4z8U2XizUfFuieJNM0q2tbnWNVk1G6VrV70v8AvW48si6TaATyH6Z59qrwb9mf4f33hbXvHWtw+Bh8LvCmuPZtpng/zYN0Msayi4u2it2eGBpg8KmNGP8Ax7hm5Y17zQAUUUUAFFFFAHO/EbQ9U8UfD3xPo2h6m+i61qOl3VpY6lHI0bWlxJEyRzBl5UoxVsjkY4rwa1+AOg3FrDoOo/GvxufFj2qxXFhF4+nb/SCmHCxkhyu7OMqDjtXvHxI0PVvE3w78U6PoOo/2PrmoaVdWlhqIJH2W4khZIpcjkbXKtxzxXyR/wrnQv+EB/wCEO/4Y4m/4SP7J9n+2bNG+x+ftx9o/tP7R5/3vn83Z5vfG7igD6o+C/gm6+Gnwd8CeEL6eG6vvD+g2Gkzz2+fLkkgt0iZkyAdpKEjIBwa7Kuc+G+h6r4Z+HfhfR9e1H+2Nc0/SrW0v9RJJ+1XEcKpLLk8nc4Zueea6OgAooooAKKKKAPDfiz8J7vxN8TG8Ta58Sdd8H+B4tFhsltNH8STaUFvlnldpXC4Rg8cirktn90oxiqnwv+A9p4e+MWmfEDQ/Hmr+M9DTw9f6M51vXpNVdZZrmylRoWOVVcWzhsHJJTjjjM+PHgGe4+MWmeMdb+Fsnxj8Iw6Kthb6RB9kuJtIvBPI8tylrdyRxSecjwoXVt6+QBjDGl+A/gGe3+MWp+MdE+Fsnwc8JTaK1hcaRP8AZLebV7wzxvHcva2kkkUfkokyB2be3nnjCigD6PooooAKKKKACud+I2h6p4o+HvifRtD1N9F1rUdLurSx1KORo2tLiSJkjmDLypRirZHIxxXRVznxI0PVvE3w78U6PoOo/wBj65qGlXVpYaiCR9luJIWSKXI5G1yrcc8UAeD2vwB0G4tYdB1H41+Nz4se1WK4sIvH07f6QUw4WMkOV3ZxlQcdq9p+C/gm6+Gnwd8CeEL6eG6vvD+g2Gkzz2+fLkkgt0iZkyAdpKEjIBwa+V/+Fc6F/wAID/wh3/DHE3/CR/ZPs/2zZo32Pz9uPtH9p/aPP+98/m7PN743cV9b/DfQ9V8M/Dvwvo+vaj/bGuafpVraX+okk/ariOFUllyeTucM3PPNAHR0UUUAFFFFABXhvxZ+E934m+JjeJtc+JOu+D/A8Wiw2S2mj+JJtKC3yzyu0rhcIweORVyWz+6UYxXuVfN/x48Az3Hxi0zxjrfwtk+MfhGHRVsLfSIPslxNpF4J5HluUtbuSOKTzkeFC6tvXyAMYY0Aafwv+A9p4e+MWmfEDQ/Hmr+M9DTw9f6M51vXpNVdZZrmylRoWOVVcWzhsHJJTjjj32vnD4D+AZ7f4xan4x0T4WyfBzwlNorWFxpE/wBkt5tXvDPG8dy9raSSRR+SiTIHZt7eeeMKK+j6ACiiigAooooA534jaHqnij4e+J9G0PU30XWtR0u6tLHUo5Gja0uJImSOYMvKlGKtkcjHFeDWvwB0G4tYdB1H41+Nz4se1WK4sIvH07f6QUw4WMkOV3ZxlQcdq94+JGh6t4m+HfinR9B1H+x9c1DSrq0sNRBI+y3EkLJFLkcja5VuOeK+SP8AhXOhf8ID/wAId/wxxN/wkf2T7P8AbNmjfY/P24+0f2n9o8/73z+bs83vjdxQB9UfBfwTdfDT4O+BPCF9PDdX3h/QbDSZ57fPlySQW6RMyZAO0lCRkA4NdlXOfDfQ9V8M/Dvwvo+vaj/bGuafpVraX+okk/ariOFUllyeTucM3PPNdHQAUUUUAFFFFAHhvxZ+E934m+JjeJtc+JOu+D/A8Wiw2S2mj+JJtKC3yzyu0rhcIweORVyWz+6UYxVT4X/Ae08PfGLTPiBofjzV/Gehp4ev9Gc63r0mquss1zZSo0LHKquLZw2DkkpxxxmfHjwDPcfGLTPGOt/C2T4x+EYdFWwt9Ig+yXE2kXgnkeW5S1u5I4pPOR4ULq29fIAxhjS/AfwDPb/GLU/GOifC2T4OeEptFawuNIn+yW82r3hnjeO5e1tJJIo/JRJkDs29vPPGFFAH0fRRRQAUUUUAfK/hP4AWnh3QdH0jx98dfGf/AAmnlBbpbbx5cQrO+47XSNyrDcNpxjqSBkc17D+z38Lbv4M/C208J3uotqs1tqWqXYvHleWSSO51C4uYzI7gM0myZQ7HqwY89a+bvCPw1svAfhc+GfGv7Llz8R/FzGRb/wAV29ro9/Dr0zMc3clzdXCTRmQncVkUbM4GQBX0j+zt4L1v4e/Bvw7oHiALFqVqJ2+yJdNcrZQvcSSQWglbmQQRPHDu7+VmgD0eiiigAooooAKKKKACiiigAor8jv8Ahd3xF/6H7xR/4Obn/wCLo/4Xd8Rf+h+8Uf8Ag5uf/i6AP1xor8jv+F3fEX/ofvFH/g5uf/i6P+F3fEX/AKH7xR/4Obn/AOLoA/XGivyO/wCF3fEX/ofvFH/g5uf/AIuj/hd3xF/6H7xR/wCDm5/+LoA/XGivyO/4Xd8Rf+h+8Uf+Dm5/+Lo/4Xd8Rf8AofvFH/g5uf8A4ugD9ca80/aO/wCEgb4O61H4ZbVI9Smms4ZJNDVjfJaPdwrdtb7AWEotjOVKjIIBHIr82f8Ahd3xF/6H7xR/4Obn/wCLo/4Xd8Rf+h+8Uf8Ag5uf/i6APrr4/wDw7+IHwW+D/jq1+Gknibxv4b1jQ7yxGgyahcahrGj3kkDJDdWM0jNNLHvK+ZCWLL9+PoyH63r8jv8Ahd3xF/6H7xR/4Obn/wCLo/4Xd8Rf+h+8Uf8Ag5uf/i6AP1xor8jv+F3fEX/ofvFH/g5uf/i6P+F3fEX/AKH7xR/4Obn/AOLoA/XGivyO/wCF3fEX/ofvFH/g5uf/AIuj/hd3xF/6H7xR/wCDm5/+LoA/XGvnjVfhPrvxO+LXxFvb/wAS+MfCl7pMtjH4S1DTL6eDT4YDaRu8gt8i3umNz56yrKr/ACLGvy5Br4V/4Xd8Rf8AofvFH/g5uf8A4uj/AIXd8Rf+h+8Uf+Dm5/8Ai6APvb4E6p8Q9W+M/wARD490C60aSx0TQ9OjuYN7aTqM8c2pvNc2TN2dJbYuh+dDhGztVm97r8jv+F3fEX/ofvFH/g5uf/i6P+F3fEX/AKH7xR/4Obn/AOLoA/XGivyO/wCF3fEX/ofvFH/g5uf/AIuj/hd3xF/6H7xR/wCDm5/+LoA/XGivyO/4Xd8Rf+h+8Uf+Dm5/+Lo/4Xd8Rf8AofvFH/g5uf8A4ugD9R/ixca/a/C3xlP4URpPFEejXj6SiLuLXggcwADufM28V4rZ/DvxX8G/Cem+MPAF94s8W201hHNr3g7xPqVxd3t6GQM9xam5Ytb3ikkmHKxycptRgrD4i/4Xd8Rf+h+8Uf8Ag5uf/i6P+F3fEX/ofvFH/g5uf/i6AP0t/Zzt9WtP2e/hhBr8V7DrsXhfS01CPUldbpLgWkQlEwf5hIH3bg3Oc55r0SvyO/4Xd8Rf+h+8Uf8Ag5uf/i6P+F3fEX/ofvFH/g5uf/i6AP1xor8jv+F3fEX/AKH7xR/4Obn/AOLo/wCF3fEX/ofvFH/g5uf/AIugD9caK/I7/hd3xF/6H7xR/wCDm5/+Lo/4Xd8Rf+h+8Uf+Dm5/+LoA++/iL8N9Q+Knx0fTNY1Pxdo/hay8NQ3Wk3fhzU7nToU1JrqZZ3kkhIV5UjFqY45dy4aU7DzjJ+HsnxQt/wBo7RNC8Z2V5f6ZonhTVoh4ts4imm6yZbzTPszyovyw3ipFcBo+n3mj+Viq/DX/AAu74i/9D94o/wDBzc//ABdH/C7viL/0P3ij/wAHNz/8XQB+uNFfkd/wu74i/wDQ/eKP/Bzc/wDxdH/C7viL/wBD94o/8HNz/wDF0AfrjRX5Hf8AC7viL/0P3ij/AMHNz/8AF0f8Lu+Iv/Q/eKP/AAc3P/xdAH641yvxYuNftfhb4yn8KI0niiPRrx9JRF3FrwQOYAB3PmbeK/Lj/hd3xF/6H7xR/wCDm5/+Lo/4Xd8Rf+h+8Uf+Dm5/+LoA+3bP4d+K/g34T03xh4AvvFni22msI5te8HeJ9SuLu9vQyBnuLU3LFre8Ukkw5WOTlNqMFYeofs52+rWn7Pfwwg1+K9h12LwvpaahHqSut0lwLSISiYP8wkD7twbnOc81+aX/AAu74i/9D94o/wDBzc//ABdH/C7viL/0P3ij/wAHNz/8XQB+uNFfkd/wu74i/wDQ/eKP/Bzc/wDxdH/C7viL/wBD94o/8HNz/wDF0AfrjRX5Hf8AC7viL/0P3ij/AMHNz/8AF0f8Lu+Iv/Q/eKP/AAc3P/xdAH6414T8RfhvqHxU+Oj6ZrGp+LtH8LWXhqG60m78Oanc6dCmpNdTLO8kkJCvKkYtTHHLuXDSnYecfAn/AAu74i/9D94o/wDBzc//ABdH/C7viL/0P3ij/wAHNz/8XQB9y/D2T4oW/wC0domheM7K8v8ATNE8KatEPFtnEU03WTLeaZ9meVF+WG8VIrgNH0+80fysVX6Mr8jv+F3fEX/ofvFH/g5uf/i6P+F3fEX/AKH7xR/4Obn/AOLoA/XGivyO/wCF3fEX/ofvFH/g5uf/AIuj/hd3xF/6H7xR/wCDm5/+LoA/XGivyO/4Xd8Rf+h+8Uf+Dm5/+Lo/4Xd8Rf8AofvFH/g5uf8A4ugD9R/ixca/a/C3xlP4URpPFEejXj6SiLuLXggcwADufM28V4rZ/DvxX8G/Cem+MPAF94s8W201hHNr3g7xPqVxd3t6GQM9xam5Ytb3ikkmHKxycptRgrD4i/4Xd8Rf+h+8Uf8Ag5uf/i6P+F3fEX/ofvFH/g5uf/i6AP0t/Zzt9WtP2e/hhBr8V7DrsXhfS01CPUldbpLgWkQlEwf5hIH3bg3Oc55r0SvyO/4Xd8Rf+h+8Uf8Ag5uf/i6P+F3fEX/ofvFH/g5uf/i6AP1xor8jv+F3fEX/AKH7xR/4Obn/AOLo/wCF3fEX/ofvFH/g5uf/AIugD9caK/I7/hd3xF/6H7xR/wCDm5/+Lo/4Xd8Rf+h+8Uf+Dm5/+LoA++/iL8N9Q+Knx0fTNY1Pxdo/hay8NQ3Wk3fhzU7nToU1JrqZZ3kkhIV5UjFqY45dy4aU7DzjJ+HsnxQt/wBo7RNC8Z2V5f6ZonhTVoh4ts4imm6yZbzTPszyovyw3ipFcBo+n3mj+Viq/DX/AAu74i/9D94o/wDBzc//ABdH/C7viL/0P3ij/wAHNz/8XQB+uNFfkd/wu74i/wDQ/eKP/Bzc/wDxdH/C7viL/wBD94o/8HNz/wDF0AfrjRX5Hf8AC7viL/0P3ij/AMHNz/8AF0f8Lu+Iv/Q/eKP/AAc3P/xdAH2T8M/hf8Q9N+Gug/EPSNb8Rt8U5omufEXhvxZqVwdP1abcwnthDKStnggiCWFVUKE3B0Y16f8Ast3mu6l8HYL7xHpesaJql7reuXZ07Xo2jvLeGXV7ySBHVicAQtHtwSu3btJXBr85/wDhd3xF/wCh+8Uf+Dm5/wDi6P8Ahd3xF/6H7xR/4Obn/wCLoA/XGivyO/4Xd8Rf+h+8Uf8Ag5uf/i6P+F3fEX/ofvFH/g5uf/i6AP1xor8jv+F3fEX/AKH7xR/4Obn/AOLo/wCF3fEX/ofvFH/g5uf/AIugD9caK/I7/hd3xF/6H7xR/wCDm5/+Lo/4Xd8Rf+h+8Uf+Dm5/+LoA/XGivyO/4Xd8Rf8AofvFH/g5uf8A4uj/AIXd8Rf+h+8Uf+Dm5/8Ai6AP/9k=)"
   ]
  },
  {
   "cell_type": "markdown",
   "metadata": {
    "id": "-6Cq8FGae28F"
   },
   "source": [
    "### Conclusion:\n",
    "* En cuanto a los datos Analizados podemos decir que El Grupo B tiene una tasa de conversión consistentemente más alta que el Grupo A, incluso después de filtrar los valores atípicos. Esto sugiere que los cambios implementados en el Grupo B han tenido un impacto positivo en el comportamiento de compra.\n",
    "\n",
    "* En cuanto al Ingresos acumulados por grupo el Grupo B tambien Supera al A y se mantiene estable y de forma creciente.\n",
    "\n",
    "* El Tamaño de pedido promedio acumulado por grupo no es muy claro ya que presenta inestabilidad de picos en ambos grupos\n",
    "\n",
    "* En cuanto a la diferencia estadísticamente significativa entre los grupos en cuanto a tamaño promedio de compra no mostraron diferencia alguna tanto con los datos filtrados como no filtrados y este es el punto que realmente nos importa, se podria decir que con el analisis de los datos filtrados el promedio de compra del grupo B es ligeramente inferior al A.\n",
    "\n",
    "Recomendaciones:\n",
    "\n",
    "* **Continuar la prueba:** Aunque los resultados preliminares sugieren que el Grupo B tiene un mejor rendimiento, es recomendable continuar la prueba para obtener más datos y confirmar la estabilidad de la tendencia. Esto permitirá tomar decisiones más informadas sobre la implementación de cambios a largo plazo.\n",
    "\n",
    "* Seguir monitoreando pedidos con valores inusualmente altos. Investiga más a fondo estos pedidos para entender qué factores contribuyeron a su alto valor. Esto podría revelar oportunidades para aumentar el valor promedio de los pedidos en general.\n",
    "\n",
    "* Observamos que una parte significativa de los usuarios realizan múltiples pedidos. Diseña estrategias para fomentar la repetición de compras, como programas de fidelización, descuentos exclusivos para clientes recurrentes o recomendaciones personalizadas basadas en compras anteriores.\n",
    "\n",
    "* Además de las recomendaciones anteriores, es importante considerar otros factores que pueden influir en los ingresos, como el costo de adquisición de clientes, el margen de beneficio por producto y la competencia en el mercado."
   ]
  }
 ],
 "metadata": {
  "ExecuteTimeLog": [
   {
    "duration": 759,
    "start_time": "2024-08-30T02:04:38.118Z"
   },
   {
    "duration": 568,
    "start_time": "2024-08-30T02:04:38.880Z"
   },
   {
    "duration": 0,
    "start_time": "2024-08-30T02:04:39.452Z"
   },
   {
    "duration": 0,
    "start_time": "2024-08-30T02:04:39.452Z"
   },
   {
    "duration": 0,
    "start_time": "2024-08-30T02:04:39.454Z"
   },
   {
    "duration": 0,
    "start_time": "2024-08-30T02:04:39.455Z"
   },
   {
    "duration": 0,
    "start_time": "2024-08-30T02:04:39.456Z"
   },
   {
    "duration": 0,
    "start_time": "2024-08-30T02:04:39.458Z"
   },
   {
    "duration": 0,
    "start_time": "2024-08-30T02:04:39.459Z"
   },
   {
    "duration": 0,
    "start_time": "2024-08-30T02:04:39.460Z"
   },
   {
    "duration": 0,
    "start_time": "2024-08-30T02:04:39.462Z"
   },
   {
    "duration": 0,
    "start_time": "2024-08-30T02:04:39.464Z"
   },
   {
    "duration": 0,
    "start_time": "2024-08-30T02:04:39.464Z"
   },
   {
    "duration": 0,
    "start_time": "2024-08-30T02:04:39.465Z"
   },
   {
    "duration": 0,
    "start_time": "2024-08-30T02:04:39.466Z"
   },
   {
    "duration": 0,
    "start_time": "2024-08-30T02:04:39.467Z"
   },
   {
    "duration": 0,
    "start_time": "2024-08-30T02:04:39.468Z"
   },
   {
    "duration": 0,
    "start_time": "2024-08-30T02:04:39.469Z"
   },
   {
    "duration": 0,
    "start_time": "2024-08-30T02:04:39.470Z"
   },
   {
    "duration": 0,
    "start_time": "2024-08-30T02:04:39.472Z"
   },
   {
    "duration": 0,
    "start_time": "2024-08-30T02:04:39.473Z"
   },
   {
    "duration": 0,
    "start_time": "2024-08-30T02:04:39.474Z"
   },
   {
    "duration": 0,
    "start_time": "2024-08-30T02:04:39.475Z"
   },
   {
    "duration": 0,
    "start_time": "2024-08-30T02:04:39.476Z"
   },
   {
    "duration": 0,
    "start_time": "2024-08-30T02:04:39.477Z"
   },
   {
    "duration": 0,
    "start_time": "2024-08-30T02:04:39.478Z"
   },
   {
    "duration": 0,
    "start_time": "2024-08-30T02:04:39.479Z"
   },
   {
    "duration": 0,
    "start_time": "2024-08-30T02:04:39.480Z"
   },
   {
    "duration": 0,
    "start_time": "2024-08-30T02:04:39.482Z"
   },
   {
    "duration": 3,
    "start_time": "2024-08-30T02:06:08.037Z"
   },
   {
    "duration": 12,
    "start_time": "2024-08-30T02:06:08.042Z"
   },
   {
    "duration": 14,
    "start_time": "2024-08-30T02:06:08.056Z"
   },
   {
    "duration": 26,
    "start_time": "2024-08-30T02:06:08.072Z"
   },
   {
    "duration": 15,
    "start_time": "2024-08-30T02:06:08.101Z"
   },
   {
    "duration": 35,
    "start_time": "2024-08-30T02:06:08.117Z"
   },
   {
    "duration": 9,
    "start_time": "2024-08-30T02:06:08.154Z"
   },
   {
    "duration": 7,
    "start_time": "2024-08-30T02:06:08.165Z"
   },
   {
    "duration": 9,
    "start_time": "2024-08-30T02:06:08.173Z"
   },
   {
    "duration": 4,
    "start_time": "2024-08-30T02:06:08.184Z"
   },
   {
    "duration": 264,
    "start_time": "2024-08-30T02:06:08.190Z"
   },
   {
    "duration": 181,
    "start_time": "2024-08-30T02:06:08.456Z"
   },
   {
    "duration": 149,
    "start_time": "2024-08-30T02:06:08.639Z"
   },
   {
    "duration": 229,
    "start_time": "2024-08-30T02:06:08.792Z"
   },
   {
    "duration": 159,
    "start_time": "2024-08-30T02:06:09.022Z"
   },
   {
    "duration": 235,
    "start_time": "2024-08-30T02:06:09.182Z"
   },
   {
    "duration": 120,
    "start_time": "2024-08-30T02:06:09.418Z"
   },
   {
    "duration": 127,
    "start_time": "2024-08-30T02:06:09.543Z"
   },
   {
    "duration": 119,
    "start_time": "2024-08-30T02:06:09.671Z"
   },
   {
    "duration": 5,
    "start_time": "2024-08-30T02:06:09.792Z"
   },
   {
    "duration": 191,
    "start_time": "2024-08-30T02:06:09.799Z"
   },
   {
    "duration": 120,
    "start_time": "2024-08-30T02:06:09.992Z"
   },
   {
    "duration": 5,
    "start_time": "2024-08-30T02:06:10.113Z"
   },
   {
    "duration": 128,
    "start_time": "2024-08-30T02:06:10.119Z"
   },
   {
    "duration": 20,
    "start_time": "2024-08-30T02:06:10.249Z"
   },
   {
    "duration": 9,
    "start_time": "2024-08-30T02:06:10.271Z"
   },
   {
    "duration": 7,
    "start_time": "2024-08-30T02:06:10.281Z"
   },
   {
    "duration": 20,
    "start_time": "2024-08-30T02:06:10.290Z"
   },
   {
    "duration": 39,
    "start_time": "2024-08-30T02:06:10.312Z"
   },
   {
    "duration": 8,
    "start_time": "2024-08-30T21:54:18.726Z"
   },
   {
    "duration": 2383,
    "start_time": "2024-08-30T21:54:27.990Z"
   },
   {
    "duration": 22,
    "start_time": "2024-08-30T21:54:30.376Z"
   },
   {
    "duration": 15,
    "start_time": "2024-08-30T21:54:30.399Z"
   },
   {
    "duration": 26,
    "start_time": "2024-08-30T21:54:30.417Z"
   },
   {
    "duration": 14,
    "start_time": "2024-08-30T21:54:30.445Z"
   },
   {
    "duration": 12,
    "start_time": "2024-08-30T21:54:30.461Z"
   },
   {
    "duration": 35,
    "start_time": "2024-08-30T21:54:30.475Z"
   },
   {
    "duration": 6,
    "start_time": "2024-08-30T21:54:30.512Z"
   },
   {
    "duration": 8,
    "start_time": "2024-08-30T21:54:30.520Z"
   },
   {
    "duration": 3,
    "start_time": "2024-08-30T21:54:30.531Z"
   },
   {
    "duration": 250,
    "start_time": "2024-08-30T21:54:30.536Z"
   },
   {
    "duration": 170,
    "start_time": "2024-08-30T21:54:30.787Z"
   },
   {
    "duration": 148,
    "start_time": "2024-08-30T21:54:30.959Z"
   },
   {
    "duration": 269,
    "start_time": "2024-08-30T21:54:31.109Z"
   },
   {
    "duration": 149,
    "start_time": "2024-08-30T21:54:31.380Z"
   },
   {
    "duration": 236,
    "start_time": "2024-08-30T21:54:31.531Z"
   },
   {
    "duration": 141,
    "start_time": "2024-08-30T21:54:31.769Z"
   },
   {
    "duration": 109,
    "start_time": "2024-08-30T21:54:31.911Z"
   },
   {
    "duration": 118,
    "start_time": "2024-08-30T21:54:32.022Z"
   },
   {
    "duration": 4,
    "start_time": "2024-08-30T21:54:32.142Z"
   },
   {
    "duration": 118,
    "start_time": "2024-08-30T21:54:32.148Z"
   },
   {
    "duration": 198,
    "start_time": "2024-08-30T21:54:32.268Z"
   },
   {
    "duration": 4,
    "start_time": "2024-08-30T21:54:32.468Z"
   },
   {
    "duration": 112,
    "start_time": "2024-08-30T21:54:32.474Z"
   },
   {
    "duration": 24,
    "start_time": "2024-08-30T21:54:32.588Z"
   },
   {
    "duration": 5,
    "start_time": "2024-08-30T21:54:32.613Z"
   },
   {
    "duration": 0,
    "start_time": "2024-08-30T21:54:32.620Z"
   },
   {
    "duration": 0,
    "start_time": "2024-08-30T21:54:32.621Z"
   },
   {
    "duration": 0,
    "start_time": "2024-08-30T21:54:32.623Z"
   },
   {
    "duration": 4,
    "start_time": "2024-08-30T21:58:31.704Z"
   },
   {
    "duration": 4,
    "start_time": "2024-08-30T21:59:16.560Z"
   },
   {
    "duration": 9,
    "start_time": "2024-08-30T21:59:40.000Z"
   },
   {
    "duration": 7,
    "start_time": "2024-08-30T22:00:17.732Z"
   },
   {
    "duration": 9,
    "start_time": "2024-08-30T22:00:45.351Z"
   },
   {
    "duration": 8,
    "start_time": "2024-08-30T22:01:04.919Z"
   },
   {
    "duration": 5,
    "start_time": "2024-08-30T22:02:23.356Z"
   },
   {
    "duration": 8,
    "start_time": "2024-08-30T22:02:34.524Z"
   },
   {
    "duration": 8,
    "start_time": "2024-08-30T22:04:19.728Z"
   },
   {
    "duration": 767,
    "start_time": "2024-08-30T22:05:25.928Z"
   },
   {
    "duration": 14,
    "start_time": "2024-08-30T22:05:26.697Z"
   },
   {
    "duration": 14,
    "start_time": "2024-08-30T22:05:26.712Z"
   },
   {
    "duration": 26,
    "start_time": "2024-08-30T22:05:26.728Z"
   },
   {
    "duration": 14,
    "start_time": "2024-08-30T22:05:26.756Z"
   },
   {
    "duration": 33,
    "start_time": "2024-08-30T22:05:26.772Z"
   },
   {
    "duration": 8,
    "start_time": "2024-08-30T22:05:26.808Z"
   },
   {
    "duration": 7,
    "start_time": "2024-08-30T22:05:26.819Z"
   },
   {
    "duration": 8,
    "start_time": "2024-08-30T22:05:26.828Z"
   },
   {
    "duration": 3,
    "start_time": "2024-08-30T22:05:26.839Z"
   },
   {
    "duration": 247,
    "start_time": "2024-08-30T22:05:26.843Z"
   },
   {
    "duration": 170,
    "start_time": "2024-08-30T22:05:27.091Z"
   },
   {
    "duration": 152,
    "start_time": "2024-08-30T22:05:27.262Z"
   },
   {
    "duration": 255,
    "start_time": "2024-08-30T22:05:27.416Z"
   },
   {
    "duration": 149,
    "start_time": "2024-08-30T22:05:27.673Z"
   },
   {
    "duration": 258,
    "start_time": "2024-08-30T22:05:27.824Z"
   },
   {
    "duration": 142,
    "start_time": "2024-08-30T22:05:28.084Z"
   },
   {
    "duration": 109,
    "start_time": "2024-08-30T22:05:28.228Z"
   },
   {
    "duration": 119,
    "start_time": "2024-08-30T22:05:28.339Z"
   },
   {
    "duration": 5,
    "start_time": "2024-08-30T22:05:28.459Z"
   },
   {
    "duration": 115,
    "start_time": "2024-08-30T22:05:28.465Z"
   },
   {
    "duration": 116,
    "start_time": "2024-08-30T22:05:28.582Z"
   },
   {
    "duration": 6,
    "start_time": "2024-08-30T22:05:28.705Z"
   },
   {
    "duration": 122,
    "start_time": "2024-08-30T22:05:28.712Z"
   },
   {
    "duration": 19,
    "start_time": "2024-08-30T22:05:28.836Z"
   },
   {
    "duration": 8,
    "start_time": "2024-08-30T22:05:28.857Z"
   },
   {
    "duration": 7,
    "start_time": "2024-08-30T22:05:28.867Z"
   },
   {
    "duration": 39,
    "start_time": "2024-08-30T22:05:28.877Z"
   },
   {
    "duration": 10,
    "start_time": "2024-08-30T22:05:28.918Z"
   },
   {
    "duration": 8,
    "start_time": "2024-08-30T22:06:05.664Z"
   },
   {
    "duration": 19,
    "start_time": "2024-08-30T22:10:09.761Z"
   },
   {
    "duration": 19,
    "start_time": "2024-08-30T22:11:03.057Z"
   },
   {
    "duration": 8,
    "start_time": "2024-08-30T22:11:44.371Z"
   },
   {
    "duration": 20,
    "start_time": "2024-08-30T22:14:19.503Z"
   },
   {
    "duration": 19,
    "start_time": "2024-08-30T22:16:46.350Z"
   },
   {
    "duration": 30,
    "start_time": "2024-08-30T22:17:01.254Z"
   },
   {
    "duration": 11,
    "start_time": "2024-08-30T22:18:40.688Z"
   },
   {
    "duration": 205,
    "start_time": "2024-08-30T22:39:59.464Z"
   },
   {
    "duration": 7,
    "start_time": "2024-08-30T22:40:29.695Z"
   },
   {
    "duration": 8,
    "start_time": "2024-08-30T22:43:12.428Z"
   },
   {
    "duration": 127,
    "start_time": "2024-08-30T22:44:08.063Z"
   },
   {
    "duration": 4,
    "start_time": "2024-08-30T22:44:19.668Z"
   },
   {
    "duration": 16,
    "start_time": "2024-08-30T22:44:37.254Z"
   },
   {
    "duration": 17,
    "start_time": "2024-08-30T22:44:55.996Z"
   },
   {
    "duration": 8,
    "start_time": "2024-08-30T22:45:00.196Z"
   },
   {
    "duration": 8,
    "start_time": "2024-08-30T22:45:17.005Z"
   },
   {
    "duration": 151,
    "start_time": "2024-08-30T22:46:12.654Z"
   },
   {
    "duration": 140,
    "start_time": "2024-08-30T22:50:01.329Z"
   },
   {
    "duration": 145,
    "start_time": "2024-08-30T22:52:58.795Z"
   },
   {
    "duration": 139,
    "start_time": "2024-08-30T22:53:19.474Z"
   },
   {
    "duration": 212,
    "start_time": "2024-08-30T22:53:27.045Z"
   },
   {
    "duration": 151,
    "start_time": "2024-08-30T22:53:34.738Z"
   },
   {
    "duration": 143,
    "start_time": "2024-08-30T22:54:05.191Z"
   },
   {
    "duration": 140,
    "start_time": "2024-08-30T22:54:12.122Z"
   },
   {
    "duration": 139,
    "start_time": "2024-08-30T22:54:24.324Z"
   },
   {
    "duration": 136,
    "start_time": "2024-08-30T22:54:37.823Z"
   },
   {
    "duration": 744,
    "start_time": "2024-08-30T22:54:52.990Z"
   },
   {
    "duration": 13,
    "start_time": "2024-08-30T22:54:53.737Z"
   },
   {
    "duration": 14,
    "start_time": "2024-08-30T22:54:53.752Z"
   },
   {
    "duration": 39,
    "start_time": "2024-08-30T22:54:53.768Z"
   },
   {
    "duration": 15,
    "start_time": "2024-08-30T22:54:53.809Z"
   },
   {
    "duration": 7,
    "start_time": "2024-08-30T22:54:53.825Z"
   },
   {
    "duration": 8,
    "start_time": "2024-08-30T22:54:53.834Z"
   },
   {
    "duration": 180,
    "start_time": "2024-08-30T22:54:53.843Z"
   },
   {
    "duration": 7,
    "start_time": "2024-08-30T22:54:54.025Z"
   },
   {
    "duration": 9,
    "start_time": "2024-08-30T22:54:54.033Z"
   },
   {
    "duration": 3,
    "start_time": "2024-08-30T22:54:54.044Z"
   },
   {
    "duration": 271,
    "start_time": "2024-08-30T22:54:54.048Z"
   },
   {
    "duration": 161,
    "start_time": "2024-08-30T22:54:54.322Z"
   },
   {
    "duration": 149,
    "start_time": "2024-08-30T22:54:54.485Z"
   },
   {
    "duration": 273,
    "start_time": "2024-08-30T22:54:54.635Z"
   },
   {
    "duration": 148,
    "start_time": "2024-08-30T22:54:54.909Z"
   },
   {
    "duration": 223,
    "start_time": "2024-08-30T22:54:55.059Z"
   },
   {
    "duration": 131,
    "start_time": "2024-08-30T22:54:55.284Z"
   },
   {
    "duration": 104,
    "start_time": "2024-08-30T22:54:55.417Z"
   },
   {
    "duration": 117,
    "start_time": "2024-08-30T22:54:55.523Z"
   },
   {
    "duration": 5,
    "start_time": "2024-08-30T22:54:55.641Z"
   },
   {
    "duration": 120,
    "start_time": "2024-08-30T22:54:55.647Z"
   },
   {
    "duration": 114,
    "start_time": "2024-08-30T22:54:55.769Z"
   },
   {
    "duration": 4,
    "start_time": "2024-08-30T22:54:55.885Z"
   },
   {
    "duration": 120,
    "start_time": "2024-08-30T22:54:55.891Z"
   },
   {
    "duration": 19,
    "start_time": "2024-08-30T22:54:56.012Z"
   },
   {
    "duration": 8,
    "start_time": "2024-08-30T22:54:56.033Z"
   },
   {
    "duration": 7,
    "start_time": "2024-08-30T22:54:56.043Z"
   },
   {
    "duration": 20,
    "start_time": "2024-08-30T22:54:56.051Z"
   },
   {
    "duration": 39,
    "start_time": "2024-08-30T22:54:56.072Z"
   },
   {
    "duration": 144,
    "start_time": "2024-08-30T22:55:38.632Z"
   },
   {
    "duration": 2556,
    "start_time": "2024-09-15T23:10:44.791Z"
   },
   {
    "duration": 21,
    "start_time": "2024-09-15T23:10:47.349Z"
   },
   {
    "duration": 14,
    "start_time": "2024-09-15T23:10:47.372Z"
   },
   {
    "duration": 35,
    "start_time": "2024-09-15T23:10:47.388Z"
   },
   {
    "duration": 18,
    "start_time": "2024-09-15T23:10:47.425Z"
   },
   {
    "duration": 29,
    "start_time": "2024-09-15T23:10:47.445Z"
   },
   {
    "duration": 9,
    "start_time": "2024-09-15T23:10:47.476Z"
   },
   {
    "duration": 162,
    "start_time": "2024-09-15T23:10:47.487Z"
   },
   {
    "duration": 19,
    "start_time": "2024-09-15T23:10:47.651Z"
   },
   {
    "duration": 8,
    "start_time": "2024-09-15T23:10:47.673Z"
   },
   {
    "duration": 4,
    "start_time": "2024-09-15T23:10:47.683Z"
   },
   {
    "duration": 237,
    "start_time": "2024-09-15T23:10:47.689Z"
   },
   {
    "duration": 169,
    "start_time": "2024-09-15T23:10:47.928Z"
   },
   {
    "duration": 153,
    "start_time": "2024-09-15T23:10:48.099Z"
   },
   {
    "duration": 269,
    "start_time": "2024-09-15T23:10:48.253Z"
   },
   {
    "duration": 147,
    "start_time": "2024-09-15T23:10:48.524Z"
   },
   {
    "duration": 246,
    "start_time": "2024-09-15T23:10:48.673Z"
   },
   {
    "duration": 118,
    "start_time": "2024-09-15T23:10:48.920Z"
   },
   {
    "duration": 163,
    "start_time": "2024-09-15T23:10:49.040Z"
   },
   {
    "duration": 116,
    "start_time": "2024-09-15T23:10:49.204Z"
   },
   {
    "duration": 5,
    "start_time": "2024-09-15T23:10:49.322Z"
   },
   {
    "duration": 119,
    "start_time": "2024-09-15T23:10:49.329Z"
   },
   {
    "duration": 120,
    "start_time": "2024-09-15T23:10:49.450Z"
   },
   {
    "duration": 4,
    "start_time": "2024-09-15T23:10:49.572Z"
   },
   {
    "duration": 115,
    "start_time": "2024-09-15T23:10:49.578Z"
   },
   {
    "duration": 19,
    "start_time": "2024-09-15T23:10:49.695Z"
   },
   {
    "duration": 8,
    "start_time": "2024-09-15T23:10:49.715Z"
   },
   {
    "duration": 7,
    "start_time": "2024-09-15T23:10:49.727Z"
   },
   {
    "duration": 46,
    "start_time": "2024-09-15T23:10:49.736Z"
   },
   {
    "duration": 11,
    "start_time": "2024-09-15T23:10:49.784Z"
   },
   {
    "duration": 15,
    "start_time": "2024-09-15T23:11:17.127Z"
   },
   {
    "duration": 14,
    "start_time": "2024-09-15T23:11:26.515Z"
   },
   {
    "duration": 15,
    "start_time": "2024-09-15T23:11:30.598Z"
   }
  ],
  "colab": {
   "provenance": []
  },
  "kernelspec": {
   "display_name": "Python 3 (ipykernel)",
   "language": "python",
   "name": "python3"
  },
  "language_info": {
   "codemirror_mode": {
    "name": "ipython",
    "version": 3
   },
   "file_extension": ".py",
   "mimetype": "text/x-python",
   "name": "python",
   "nbconvert_exporter": "python",
   "pygments_lexer": "ipython3",
   "version": "3.9.19"
  },
  "toc": {
   "base_numbering": 1,
   "nav_menu": {},
   "number_sections": true,
   "sideBar": true,
   "skip_h1_title": true,
   "title_cell": "Table of Contents",
   "title_sidebar": "Contents",
   "toc_cell": false,
   "toc_position": {},
   "toc_section_display": true,
   "toc_window_display": false
  }
 },
 "nbformat": 4,
 "nbformat_minor": 1
}
